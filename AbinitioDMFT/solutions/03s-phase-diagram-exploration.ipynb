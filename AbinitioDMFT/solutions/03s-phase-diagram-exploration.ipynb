{
 "cells": [
  {
   "cell_type": "code",
   "execution_count": 1,
   "id": "66ed49b1-6fba-4233-ba97-64ac1168ac53",
   "metadata": {},
   "outputs": [
    {
     "name": "stdout",
     "output_type": "stream",
     "text": [
      "Warning: could not identify MPI environment!\n"
     ]
    },
    {
     "name": "stderr",
     "output_type": "stream",
     "text": [
      "Starting serial run at: 2022-05-23 16:02:38.622639\n"
     ]
    }
   ],
   "source": [
    "%matplotlib inline\n",
    "\n",
    "import os\n",
    "import sys\n",
    "from itertools import product\n",
    "import numpy as np\n",
    "np.set_printoptions(precision=4,suppress=True, linewidth=140)\n",
    "import scipy\n",
    "\n",
    "import matplotlib.pyplot as plt\n",
    "\n",
    "from h5 import HDFArchive\n",
    "from triqs.gf import *\n",
    "from triqs.gf.descriptors import Fourier, Omega\n",
    "from triqs.plot.mpl_interface import plt,oplot\n",
    "from triqs.lattice.utils import TB_from_wannier90, k_space_path\n",
    "\n",
    "import solid_dmft.postprocessing.plot_correlated_bands as pcb\n",
    "import solid_dmft.postprocessing.maxent_sigma as sigma_maxent"
   ]
  }
 ],
 "metadata": {
  "kernelspec": {
   "display_name": "Python 3 (ipykernel)",
   "language": "python",
   "name": "python3"
  },
  "language_info": {
   "codemirror_mode": {
    "name": "ipython",
    "version": 3
   },
   "file_extension": ".py",
   "mimetype": "text/x-python",
   "name": "python",
   "nbconvert_exporter": "python",
   "pygments_lexer": "ipython3",
   "version": "3.9.7"
  }
 },
 "nbformat": 4,
 "nbformat_minor": 5
}
