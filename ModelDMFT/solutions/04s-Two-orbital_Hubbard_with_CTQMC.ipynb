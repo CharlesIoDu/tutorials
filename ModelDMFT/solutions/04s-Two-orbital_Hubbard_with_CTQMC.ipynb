{
 "cells": [
  {
   "cell_type": "code",
   "execution_count": null,
   "metadata": {},
   "outputs": [],
   "source": [
    "from triqs.gf import *\n",
    "from h5 import *\n",
    "from triqs.plot.mpl_interface import *\n",
    "import numpy as np\n",
    "%matplotlib inline\n",
    "import matplotlib as mpl\n",
    "mpl.rcParams['savefig.dpi']=100\n",
    "plt.rcParams['figure.figsize'] = (8.0,6.0)"
   ]
  },
  {
   "cell_type": "markdown",
   "metadata": {},
   "source": [
    "Solution of the exercises\n",
    "========================="
   ]
  },
  {
   "cell_type": "markdown",
   "metadata": {},
   "source": [
    "Solution of exercise 1\n",
    "----------------------\n",
    "\n",
    "The script below solves the two-orbital Hubbard model for a variety of filling, $U$ and $J$."
   ]
  },
  {
   "cell_type": "code",
   "execution_count": null,
   "metadata": {},
   "outputs": [],
   "source": [
    "# %load scripts/two_band.py\n",
    "from triqs.gf import *\n",
    "from triqs.operators import *\n",
    "from h5 import *\n",
    "from triqs_cthyb import Solver\n",
    "from itertools import product\n",
    "import numpy as np\n",
    "\n",
    "import os\n",
    "if not os.path.exists('data/two_bands'):\n",
    "    os.makedirs('data/two_bands')\n",
    "\n",
    "# Parameters of the model\n",
    "t = 1.0\n",
    "beta = 10.0\n",
    "n_loops = 10\n",
    "filling = 'half' # or 'quarter'\n",
    "n_orbitals = 2\n",
    "\n",
    "# Construct the solver\n",
    "S = Solver(beta = beta, gf_struct = [('up-0',1), ('up-1',1), ('down-0',1), ('down-1',1)] )\n",
    "\n",
    "for coeff in [0.0, 0.1, 0.2]:\n",
    "\n",
    "    # Run for several values of U\n",
    "    for U in np.arange(1.0, 13.0, 1.0):\n",
    "\n",
    "        J = coeff * U\n",
    "\n",
    "        # Expression of mu for half and quarter filling\n",
    "        if filling == 'half':\n",
    "            mu = 0.5*U + 0.5*(U-2*J) + 0.5*(U-3*J)\n",
    "        elif filling == 'quarter':\n",
    "            mu = -0.81 + (0.6899-1.1099*coeff)*U + (-0.02548+0.02709*coeff-0.1606*coeff**2)*U**2\n",
    "\n",
    "        # Set the interacting Kanamori hamiltonian\n",
    "        h_int = Operator()\n",
    "        for o in range(0,n_orbitals):\n",
    "            h_int += U*n('up-%s'%o,0)*n('down-%s'%o,0)\n",
    "        for o1,o2 in product(list(range(0,n_orbitals)),list(range(0,n_orbitals))):\n",
    "            if o1==o2: continue\n",
    "            h_int += (U-2*J)*n('up-%s'%o1,0)*n('down-%s'%o2,0)\n",
    "        for o1,o2 in product(list(range(0,n_orbitals)),list(range(0,n_orbitals))):\n",
    "            if o2>=o1: continue;\n",
    "            h_int += (U-3*J)*n('up-%s'%o1,0)*n('up-%s'%o2,0)\n",
    "            h_int += (U-3*J)*n('down-%s'%o1,0)*n('down-%s'%o2,0)\n",
    "        for o1,o2 in product(list(range(0,n_orbitals)),list(range(0,n_orbitals))):\n",
    "            if o1==o2: continue\n",
    "            h_int += -J*c_dag('up-%s'%o1,0)*c_dag('down-%s'%o1,0)*c('up-%s'%o2,0)*c('down-%s'%o2,0)\n",
    "            h_int += -J*c_dag('up-%s'%o1,0)*c_dag('down-%s'%o2,0)*c('up-%s'%o2,0)*c('down-%s'%o1,0)\n",
    "\n",
    "        # This is a first guess for G\n",
    "        S.G0_iw << inverse(iOmega_n + mu - t**2 * SemiCircular(2*t))\n",
    "\n",
    "        # DMFT loop with self-consistency\n",
    "        for i in range(n_loops):\n",
    "\n",
    "            print(\"\\n\\nIteration = %i / %i\" % (i+1, n_loops))\n",
    "\n",
    "            # Symmetrize the Green's function and use self-consistency\n",
    "            if i > 0:\n",
    "                g = 0.25 * ( S.G_iw['up-0'] + S.G_iw['up-1'] + S.G_iw['down-0'] + S.G_iw['down-1'] )\n",
    "                for name, g0 in S.G0_iw:\n",
    "                    g0 << inverse(iOmega_n + mu - t**2 * g)\n",
    "\n",
    "            # Solve the impurity problem\n",
    "            S.solve(h_int = h_int,\n",
    "                    n_cycles  = 30000,\n",
    "                    length_cycle = 100,\n",
    "                    n_warmup_cycles = 5000)\n",
    "\n",
    "            # Check density\n",
    "            for name, g in S.G_iw:\n",
    "                print(name, \": \",g.density()[0,0].real)\n",
    "\n",
    "            # Save iteration in archive\n",
    "            with HDFArchive(\"data/two_bands/%s-U%.2f-J%.2f.h5\"%(filling,U,J)) as A:\n",
    "                A['G-%i'%i] = S.G_iw\n",
    "                A['Sigma-%i'%i] = S.Sigma_iw\n"
   ]
  },
  {
   "cell_type": "markdown",
   "metadata": {},
   "source": [
    "Solution of exercise 2\n",
    "----------------------\n",
    "\n",
    "The solution of the exercise is in the script called `run_two_bands.py` in the tutorial directory.\n",
    "The script was run from the shell to see the Monte Carlo progress. As you can see in the script, the Green's functions and self-energies are saved in archives. These archives are in the `data/two_bands` subdirectory. Here is a plot of\n",
    "the Green's functions for different values of $U$ at given $J$'s."
   ]
  },
  {
   "cell_type": "markdown",
   "metadata": {},
   "source": [
    "### J = 0.0\n",
    "\n",
    "You will see that the Mott transition is somewhere between 6.0 and 7.0."
   ]
  },
  {
   "cell_type": "code",
   "execution_count": null,
   "metadata": {},
   "outputs": [],
   "source": [
    "coeff = 0.0\n",
    "for U in np.arange(1.0, 13.0):\n",
    "\n",
    "    J = coeff * U\n",
    "    A = HDFArchive(\"data/two_band/half-U%.2f-J%.2f.h5\"%(U,J), 'r')\n",
    "    oplot(A['G-9']['up-0'].imag, 'o', name=\"U = %.2f\"%U)\n",
    "\n",
    "plt.xlim(0,10)"
   ]
  },
  {
   "cell_type": "markdown",
   "metadata": {},
   "source": [
    "### J = 0.1 U\n",
    "\n",
    "You will see that the Mott transition is somewhere between 4.0 and 5.0."
   ]
  },
  {
   "cell_type": "code",
   "execution_count": null,
   "metadata": {},
   "outputs": [],
   "source": [
    "coeff = 0.1\n",
    "for U in np.arange(1.0, 13.0):\n",
    "\n",
    "    J = coeff * U\n",
    "    A = HDFArchive(\"data/two_band/half-U%.2f-J%.2f.h5\"%(U,J), 'r')\n",
    "    oplot(A['G-9']['up-0'].imag, 'o', name=\"U = %.2f\"%U)\n",
    "\n",
    "plt.xlim(0,10)"
   ]
  },
  {
   "cell_type": "markdown",
   "metadata": {},
   "source": [
    "### J = 0.2 U\n",
    "\n",
    "You will see that the Mott transition is somewhere between 3.0 and 4.0."
   ]
  },
  {
   "cell_type": "code",
   "execution_count": null,
   "metadata": {},
   "outputs": [],
   "source": [
    "coeff = 0.2\n",
    "for U in np.arange(1.0, 13.0):\n",
    "\n",
    "    J = coeff * U\n",
    "    A = HDFArchive(\"data/two_band/half-U%.2f-J%.2f.h5\"%(U,J), 'r')\n",
    "    oplot(A['G-9']['up-0'].imag, 'o', name=\"U = %.2f\"%U)\n",
    "\n",
    "plt.xlim(0,10)"
   ]
  },
  {
   "cell_type": "markdown",
   "metadata": {},
   "source": [
    "### Conclusion of Exercise 2\n",
    "\n",
    "The value of $U_c$ is decreasing with increasing values of $J$! Can you understand why?"
   ]
  },
  {
   "cell_type": "markdown",
   "metadata": {},
   "source": [
    "Solution of exercise 3\n",
    "----------------------\n",
    "\n",
    "The solution of the exercise is again the script called `run_two_bands.py` in the tutorial directory.\n",
    "You will have to change `filling = 'quarter'`. The generated archives are in the `results` subdirectory. Here is a plot of\n",
    "the Green's functions for different values of $U$ at given $J$'s."
   ]
  },
  {
   "cell_type": "markdown",
   "metadata": {},
   "source": [
    "### J = 0.0\n",
    "\n",
    "You will se that the Mott transition is somewhere between 5.0 and 6.0."
   ]
  },
  {
   "cell_type": "code",
   "execution_count": null,
   "metadata": {},
   "outputs": [],
   "source": [
    "coeff = 0.0\n",
    "for U in np.arange(1.0, 13.0):\n",
    "\n",
    "    J = coeff * U\n",
    "    A = HDFArchive(\"data/two_band/quarter-U%.2f-J%.2f.h5\"%(U,J), 'r')\n",
    "    oplot(A['G-9']['up-0'].imag, 'o', name=\"U = %.2f\"%U)\n",
    "\n",
    "plt.xlim(0,10)"
   ]
  },
  {
   "cell_type": "markdown",
   "metadata": {},
   "source": [
    "### J = 0.1 U\n",
    "\n",
    "You will see that the Mott transition is somewhere between 7.0 and 8.0."
   ]
  },
  {
   "cell_type": "code",
   "execution_count": null,
   "metadata": {},
   "outputs": [],
   "source": [
    "coeff = 0.1\n",
    "for U in np.arange(1.0, 13.0):\n",
    "\n",
    "    J = coeff * U\n",
    "    A = HDFArchive(\"data/two_band/quarter-U%.2f-J%.2f.h5\"%(U,J), 'r')\n",
    "    oplot(A['G-9']['up-0'].imag, 'o', name=\"U = %.2f\"%U)\n",
    "\n",
    "plt.xlim(0,10)"
   ]
  },
  {
   "cell_type": "markdown",
   "metadata": {},
   "source": [
    "### J = 0.2 U\n",
    "\n",
    "You will see that the Mott transition happens at values of $U$ larger than 12."
   ]
  },
  {
   "cell_type": "code",
   "execution_count": null,
   "metadata": {},
   "outputs": [],
   "source": [
    "coeff = 0.2\n",
    "for U in np.arange(1.0, 13.0):\n",
    "\n",
    "    J = coeff * U\n",
    "    A = HDFArchive(\"data/two_band/quarter-U%.2f-J%.2f.h5\"%(U,J), 'r')\n",
    "    oplot(A['G-9']['up-0'].imag, 'o', name=\"U = %.2f\"%U)\n",
    "\n",
    "plt.xlim(0,10)"
   ]
  },
  {
   "cell_type": "markdown",
   "metadata": {},
   "source": [
    "### Conclusion of Exercise 3\n",
    "\n",
    "Now the value of $U_c$ is increasing with increasing values of $J$! Why?"
   ]
  }
 ],
 "metadata": {
  "kernelspec": {
   "display_name": "Python 3",
   "language": "python",
   "name": "python3"
  },
  "language_info": {
   "codemirror_mode": {
    "name": "ipython",
    "version": 3
   },
   "file_extension": ".py",
   "mimetype": "text/x-python",
   "name": "python",
   "nbconvert_exporter": "python",
   "pygments_lexer": "ipython3"
  },
  "latex_envs": {
   "LaTeX_envs_menu_present": true,
   "autocomplete": true,
   "bibliofile": "biblio.bib",
   "cite_by": "apalike",
   "current_citInitial": 1,
   "eqLabelWithNumbers": true,
   "eqNumInitial": 1,
   "hotkeys": {
    "equation": "Ctrl-E",
    "itemize": "Ctrl-I"
   },
   "labels_anchors": false,
   "latex_user_defs": false,
   "report_style_numbering": false,
   "user_envs_cfg": false
  },
  "widgets": {
   "state": {},
   "version": "1.1.1"
  }
 },
 "nbformat": 4,
 "nbformat_minor": 1
}
