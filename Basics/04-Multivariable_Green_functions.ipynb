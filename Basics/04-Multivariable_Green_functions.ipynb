{
 "cells": [
  {
   "cell_type": "markdown",
   "metadata": {},
   "source": [
    "# Introduction to multivariable Green functions\n",
    "\n",
    "In this notebook, we learn how to create and manipulate multivariable Green functions.\n",
    "As an example, we consider the Green's function on a square lattice with nearest-neighbour hopping $t$,\n",
    "\n",
    "\\begin{equation}\n",
    "G(\\mathbf{k},i\\omega_n)=\\frac{1}{i\\omega_n  + \\mu - \\epsilon(\\mathbf{k})}\n",
    "\\end{equation}\n",
    "\n",
    "with dispersion $\\epsilon(\\mathbf{k})=-2t(\\cos{k_x}+\\cos{k_y})$. Here $\\mathbf{k}$ is a vector in the Brillouin zone (in units where the lattice spacing is unity $a=1$), $\\mu$ is the chemical potential and $i\\omega_n$ is a Matsubara frequency."
   ]
  },
  {
   "cell_type": "markdown",
   "metadata": {},
   "source": [
    "## Imports and parameters\n",
    "\n",
    "Below we import modules that will be useful in the following. We also set the\n",
    "parameters of the problem."
   ]
  },
  {
   "cell_type": "code",
   "execution_count": null,
   "metadata": {},
   "outputs": [],
   "source": [
    "# Relevant Imports \n",
    "from triqs.lattice import BravaisLattice, BrillouinZone\n",
    "from triqs.gf import Gf, MeshProduct, MeshBrZone, MeshImFreq\n",
    "import numpy as np\n",
    "from math import cos, pi"
   ]
  },
  {
   "cell_type": "code",
   "execution_count": null,
   "metadata": {},
   "outputs": [],
   "source": [
    "# Physical parameters\n",
    "beta = 2     # Inverse temperature\n",
    "t = 1.0      # Hopping (unit of energy)\n",
    "mu = 0       # Chemical potential"
   ]
  },
  {
   "cell_type": "markdown",
   "metadata": {},
   "source": [
    "## Constructing and Initializing a Lattice Green function\n",
    "\n",
    "We first define a simple Bravais lattice (`BravaisLattice`) in 2 dimensions with basis vectors $\\hat{e}_x = (1, 0, 0)$ and ${\\hat e}_y=(0, 1, 0)$. Given this bravais lattice we construct the reciprocal (momentum) space Brillouin zone (`BrillouinZone`), on which we can then construct a momentum mesh (`MeshBrZone`)."
   ]
  },
  {
   "cell_type": "code",
   "execution_count": null,
   "metadata": {},
   "outputs": [],
   "source": [
    "BL = BravaisLattice([(1,0,0), (0,1,0)]) # Two unit vectors in R3\n",
    "BZ = BrillouinZone(BL) \n",
    "\n",
    "# n_k denotes the number of k-points for each dimension\n",
    "n_k = 128\n",
    "k_mesh = MeshBrZone(bz=BZ, n_k=n_k)"
   ]
  },
  {
   "cell_type": "markdown",
   "metadata": {},
   "source": [
    "The Lattice Green's function is defined on a mesh that is the cartesian product of this momentum mesh and a Matsubara mesh.\n",
    "\n",
    "$$\n",
    "G: (\\mathbf{k}, i\\omega_n) \\rightarrow {\\mathcal{C}}\n",
    "$$\n",
    "\n",
    "To construct this mesh we use the `MeshProduct` provided by TRIQS:"
   ]
  },
  {
   "cell_type": "code",
   "execution_count": null,
   "metadata": {},
   "outputs": [],
   "source": [
    "iw_mesh = MeshImFreq(beta=beta, S='Fermion', n_iw=128)\n",
    "k_iw_mesh = MeshProduct(k_mesh, iw_mesh)\n",
    "\n",
    "# Recall that for an empty target_shape G0 has values that are scalars instead of matrices.\n",
    "G = Gf(mesh=k_iw_mesh, target_shape=[])"
   ]
  },
  {
   "cell_type": "markdown",
   "metadata": {},
   "source": [
    "To fill the Green's function we construct a function for the dispersion $\\epsilon(\\mathbf{k})$ and set each element of $G$ by looping over the momentum and frequency meshes."
   ]
  },
  {
   "cell_type": "code",
   "execution_count": null,
   "metadata": {},
   "outputs": [],
   "source": [
    "#%%timeit\n",
    "def eps(k):\n",
    "    return -2*t * (cos(k[0]) + cos(k[1]))\n",
    "\n",
    "# Loop initialization. Slow..\n",
    "for k, iw in G.mesh:\n",
    "    G[k, iw] = 1/(iw + mu - eps(k))"
   ]
  },
  {
   "cell_type": "markdown",
   "metadata": {},
   "source": [
    "## Numpy Broadcasting\n",
    "\n",
    "Instead of writing a loop we can use the [broadcasting](https://numpy.org/doc/stable/user/basics.broadcasting.html) features of the numpy package to assign directly into the data-array of the Green function object. This approach is a lot faster than writing a loop"
   ]
  },
  {
   "cell_type": "code",
   "execution_count": null,
   "metadata": {},
   "outputs": [],
   "source": [
    "iw_arr = np.array(list(iw_mesh.values()))\n",
    "k_arr  = np.array(list(k_mesh.values()))\n",
    "np_eps = np.vectorize(eps, signature='(d)->()')"
   ]
  },
  {
   "cell_type": "code",
   "execution_count": null,
   "metadata": {},
   "outputs": [],
   "source": [
    "#%%timeit\n",
    "# Vectorized function evaluation\n",
    "eps_arr = np_eps(k_arr)\n",
    "\n",
    "# Numpy Broadcasting\n",
    "G.data[:] = 1.0 / (iw_arr[None,::] + mu - eps_arr[::,None])"
   ]
  },
  {
   "cell_type": "markdown",
   "metadata": {},
   "source": [
    "## Evaluate the Green function\n",
    "\n",
    "The Green function object $G(k,i\\omega_n)$ can be evaluated like an ordinary Python function\n",
    "at a given reciprocal vector and Matsubara frequency:\n",
    "\n",
    "- The reciprocal vector $k$ is a tuple/list/numpy.array of double \n",
    "- The Matsubara frequency is an integer $n$, the $n$ in $i\\omega_n$\n",
    "\n",
    "The result will be a linear interpolation on the Brillouin zone \n",
    "  with the points on the grid of $G$ around $k$.\n",
    "\n",
    "Therefore, one can use $g_0$ as any python function of $k$ and $i\\omega_n$, \n",
    "and forget its precise representation in memory (what is the grid, etc...).\n",
    "We will use that in the plot functions below.\n",
    "\n",
    "Example:\n",
    "Let's evaluate the above Green's function at $\\mathbf{k} = (\\pi,\\pi,0)$ and $i\\omega_2$. As $\\epsilon((\\pi,\\pi,0)) = 2t = 2$ and $i\\omega_2 = i\\frac{(2*2 + 1)\\pi}{\\beta}$, we check:"
   ]
  },
  {
   "cell_type": "code",
   "execution_count": null,
   "metadata": {},
   "outputs": [],
   "source": [
    "G_eval  = G((pi,pi,0), 2)\n",
    "G_exact = 1.0/(1j * (2*2+1)*pi/beta - 4)\n",
    "print(G_eval - G_exact) # Check"
   ]
  },
  {
   "cell_type": "markdown",
   "metadata": {},
   "source": [
    "## Partial evaluation\n",
    "\n",
    "Given a function $G(k,i\\omega_n)$ it is possible to obtain the function $i\\omega_n \\rightarrow G(k_0, i\\omega_n)$ for a fixed $k_0$:"
   ]
  },
  {
   "cell_type": "code",
   "execution_count": null,
   "metadata": {},
   "outputs": [],
   "source": [
    "k0 = (0.02,0.01,0)      # a k-point as a tuple of 3 floats\n",
    "Giw = G(k0, all)        # We use the \"built-in\" function all here as equivalent of :, \n",
    "                        # which Python does not allow in ()\n",
    "    \n",
    "# Giw is a Green function of the Matsubara frequency only\n",
    "# It is calculated by k-interpolation of G\n",
    "print(Giw)\n",
    "\n",
    "# Giw uses the original Matsubara mesh\n",
    "assert Giw.mesh == G.mesh[1]"
   ]
  },
  {
   "cell_type": "markdown",
   "metadata": {},
   "source": [
    "Here `Giw` is obtained through linearly of `G` for the point $k_0$ on the original Brillouin zone grid.\n",
    "\n",
    "It is simply a Matsubara Green function, which means that you can use all the common methods, such as `density()` or Fourier transforms:"
   ]
  },
  {
   "cell_type": "code",
   "execution_count": null,
   "metadata": {},
   "outputs": [],
   "source": [
    "# This is the density n_k at k=(0.02, 0.01)\n",
    "print(\"n_k =\",  Giw.density().real)"
   ]
  },
  {
   "cell_type": "markdown",
   "metadata": {},
   "source": [
    "## Defining a Tight-Binding Hamiltonian"
   ]
  },
  {
   "cell_type": "markdown",
   "metadata": {},
   "source": [
    "In practice we often know the tight-binding Hamiltonian on our Bravais lattice rather than the analytic dispersion relation.\n",
    "TRIQS provides the `TightBinding` class for this case:"
   ]
  },
  {
   "cell_type": "code",
   "execution_count": null,
   "metadata": {},
   "outputs": [],
   "source": [
    "from triqs.lattice import TightBinding\n",
    "?TightBinding"
   ]
  },
  {
   "cell_type": "code",
   "execution_count": null,
   "metadata": {},
   "outputs": [],
   "source": [
    "# Define mapping between displacement vectors and hopping amplitudes\n",
    "# Matrix structure of the amplitudes is w.r.t. atoms in the unit cell (here only one).\n",
    "hop= {  (1,0)  :  [[ -t]],       \n",
    "        (-1,0) :  [[ -t]],     \n",
    "        (0,1)  :  [[ -t]],\n",
    "        (0,-1) :  [[ -t]]\n",
    "     }\n",
    "TB = TightBinding(bl=BL, hoppings=hop)\n",
    "\n",
    "# Green function on the k_mesh holding the dispersion values\n",
    "eps_k = TB.dispersion(k_mesh)[0]\n",
    "\n",
    "# Initialize the lattice Green function using Numpy Broadcasting\n",
    "Gtb = G.copy()\n",
    "Gtb.data[:] = 1.0 / (iw_arr[None,::] + mu - eps_k.data[::,None])\n",
    "\n",
    "# Check Equality\n",
    "assert np.linalg.norm((G - Gtb).data) < 1e-12"
   ]
  },
  {
   "cell_type": "markdown",
   "metadata": {},
   "source": [
    "Let us finally plot the dispersion relation we have obtained"
   ]
  },
  {
   "cell_type": "code",
   "execution_count": null,
   "metadata": {},
   "outputs": [],
   "source": [
    "# Prepare the data\n",
    "k_grid = k_arr.reshape(n_k,n_k,3)\n",
    "X = k_grid[...,0]/pi\n",
    "Y = k_grid[...,1]/pi\n",
    "Z = eps_k.data.reshape(n_k,n_k)\n",
    "\n",
    "# Plot the dispersion\n",
    "from matplotlib import pyplot as plt\n",
    "%matplotlib inline\n",
    "\n",
    "fig  = plt.figure(dpi=110)\n",
    "ax   = plt.axes(projection='3d')\n",
    "surf = ax.plot_surface(X, Y, Z, cmap='coolwarm')\n",
    "fig.colorbar(surf, shrink=0.5, aspect=10)\n",
    "\n",
    "ax.set_xlabel(r\"$k_x/\\pi$\")\n",
    "ax.set_ylabel(r\"$k_y/\\pi$\")\n",
    "ax.set_title(r\"$\\epsilon(\\mathbf{k})$\")"
   ]
  }
 ],
 "metadata": {
  "kernelspec": {
   "display_name": "Python 3 (ipykernel)",
   "language": "python",
   "name": "python3"
  },
  "language_info": {
   "codemirror_mode": {
    "name": "ipython",
    "version": 3
   },
   "file_extension": ".py",
   "mimetype": "text/x-python",
   "name": "python",
   "nbconvert_exporter": "python",
   "pygments_lexer": "ipython3",
   "version": "3.9.13"
  }
 },
 "nbformat": 4,
 "nbformat_minor": 4
}
