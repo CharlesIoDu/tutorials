{
 "cells": [
  {
   "cell_type": "markdown",
   "metadata": {},
   "source": [
    "# The random phase approximation (RPA)\n",
    "\n",
    "\n",
    "TO BE WRITTEN : (material below)\n",
    "\n",
    "\n",
    "- Recall the formula for RPA\n",
    "\n",
    "\n",
    "- TODO : \n",
    " \n",
    " - we grab chi(q,omega)\n",
    "-------------------------------------------\n",
    "\n",
    "\n",
    "The Lindhardt susceptibility $\\chi_0$ is the exeact susceptibility for the non-interacting case $U=0$, however for finite interactions the susceptibility of the system $\\chi$ is given by the Behte-Salpeter equation\n",
    "\n",
    "$$ \\chi = \\chi_0 + \\chi_0 \\Gamma \\chi $$\n",
    "\n",
    "where $\\Gamma$ is the particle-hole irreducible vertex function, containing all diagrams with insertions of the interaction that can not be separated by cutting a pair of particle-hole single-particle propagators $G G$.\n",
    "\n",
    "The first order contribution to the vertext $\\Gamma$ is the bare interaction $U$ and the approximation\n",
    "\n",
    "$$ \\Gamma \\approx U $$\n",
    "\n",
    "gives the so-called random phase approximation for $\\chi$, i.e.\n",
    "\n",
    "$$ \\chi_{RPA} = \\chi_0 + \\chi_0 U \\chi_{RPA} $$\n",
    "\n",
    "Rewriting this equation gives $\\chi_{RPA}$ as\n",
    "\n",
    "$$ \\chi_{RPA} = \\frac{\\chi_0}{1 - U \\chi_0} $$\n",
    "\n",
    "we note that the denominator of this equation can in general go to zero, whereby the susceptibility $\\chi_{RPA}$ diverges. Whence already the RPA approximation can be used to compute instabilities of the system towards, e.g., anti-ferromagnetic symmetry breaking.\n",
    "\n",
    "As an example we compute $\\chi_{RPA}$ for the square lattice and the enhancement of the $k = (\\pi, \\pi)$ peak as a function of $U$."
   ]
  },
  {
   "cell_type": "markdown",
   "metadata": {},
   "source": [
    "## Load Lindhard chi from archive"
   ]
  },
  {
   "cell_type": "code",
   "execution_count": null,
   "metadata": {},
   "outputs": [],
   "source": [
    "# Pick up chi from HDF5\n",
    "# RENAME in chi_RPA ?\n",
    "# Q : write this\n",
    "# Q : plot chi\n",
    "# Q : find the instability\n",
    "from pytriqs.archive import HDFArchive\n",
    "from pytriqs.gf import Gf, Idx, inverse\n",
    "\n",
    "with HDFArchive(\"tpsc.h5\",'r') as R:\n",
    "    chi0_kw = R['chi0_kw']"
   ]
  },
  {
   "cell_type": "markdown",
   "metadata": {},
   "source": [
    "## Compute RPA susceptibility (this is not really necessary)\n",
    "\n",
    "One can also compute it on the fly (see below)"
   ]
  },
  {
   "cell_type": "code",
   "execution_count": null,
   "metadata": {},
   "outputs": [],
   "source": [
    "# The DOUBLE loop will be faster...\n",
    "def chi_rpa_from_U_and_chi0_wk(chi0_wk, U):\n",
    "    chi_rpa = chi0_kw.copy()\n",
    "    kmesh = chi0_kw.mesh[0]\n",
    "    wmesh = chi0_kw.mesh[1]\n",
    "    for k in kmesh:\n",
    "        for w in wmesh:\n",
    "            chi_rpa[k,w] = chi0_kw[k,w] / (1. - U * chi0_kw[k,w])\n",
    "#            chi_rpa[k,:] << inverse(1. - U * chi0_kw[k,:]) * chi0_kw[k,:]\n",
    "    return chi_rpa\n",
    "\n",
    "chi_rpa = chi_rpa_from_U_and_chi0_wk(chi0_wk, 4)"
   ]
  },
  {
   "cell_type": "markdown",
   "metadata": {},
   "source": [
    "## Plot the susceptibility"
   ]
  },
  {
   "cell_type": "code",
   "execution_count": null,
   "metadata": {},
   "outputs": [],
   "source": [
    "from pytriqs.plot.mpl_interface import plt\n",
    "from pytriqs.gf import inverse\n",
    "\n",
    "nk = chi_rpa.mesh[0].linear_dims[0]+1\n",
    "k = np.linspace(0, 2*np.pi, nk, endpoint=True)\n",
    "kx, ky = np.meshgrid(k, k)\n",
    "\n",
    "chi = lambda kx, ky: chi_rpa([kx,ky,0],0).real\n",
    "\n",
    "# Note that I can avoid the cell above by just doing\n",
    "#U = 4\n",
    "#chi = lambda kx, ky: (chi0_kw([kx,ky,0],0) / (1. - U * chi0_kw([kx,ky,0],0))).real\n",
    "\n",
    "# 2d plot\n",
    "plt.figure(figsize=(3.25*2, 5))\n",
    "plt.title('Static RPA susceptibility $\\chi_\\mathrm{RPA}(k, \\omega=0)$')\n",
    "plt.pcolor(kx, ky, np.vectorize(chi)(kx,ky))\n",
    "plt.xlim(0, 2*np.pi)\n",
    "plt.ylim(0, 2*np.pi)\n",
    "plt.xticks([0, np.pi, 2*np.pi],[r\"0\",r\"$\\pi$\",r\"$2\\pi$\"])    \n",
    "plt.yticks([0, np.pi, 2*np.pi],[r\"0\",r\"$\\pi$\",r\"$2\\pi$\"])\n",
    "plt.colorbar()\n",
    "plt.tight_layout()\n",
    "plt.xlabel(r'$k_x$')\n",
    "plt.ylabel(r'$k_y$')\n",
    "\n",
    "\n",
    "# Here is a 3d plot. With \"matplotlib inline\" one cannot interact\n",
    "from mpl_toolkits.mplot3d import axes3d, Axes3D\n",
    "fig = plt.figure()\n",
    "ax = Axes3D(fig)\n",
    "ax.plot_surface(kx, ky, np.vectorize(chi)(kx,ky), cmap=\"jet\", rstride=8, cstride=8)\n",
    "ax.set_xlabel(r\"$k_x$\")\n",
    "ax.set_ylabel(r\"$k_y$\")\n",
    "ax.set_zlabel(r\"$\\chi_\\mathrm{RPA}$\")\n"
   ]
  },
  {
   "cell_type": "markdown",
   "metadata": {},
   "source": [
    "## Plot along some path for different values of $U$ (TODO)"
   ]
  },
  {
   "cell_type": "code",
   "execution_count": null,
   "metadata": {},
   "outputs": [],
   "source": [
    "from k_space_viz import get_rel_k_interpolator\n",
    "\n",
    "interp = get_rel_k_interpolator(\n",
    "    chi0_wk[Idx(0), :][0, 0].data, kmesh, H_0.bz, n_k,\n",
    "    extend_boundary=True, interpolator='linear2D')\n",
    "chi0_plot = interp(k_path_vecs[:, :2])\n",
    "\n",
    "from pytriqs.plot.mpl_interface import plt\n",
    "\n",
    "plt.figure(figsize=(3.25*3, 8))\n",
    "plt.title('Static Lindhardt susceptibility $\\chi_0(\\omega=0, k)$')\n",
    "\n",
    "plt.plot(k_plot, chi0_plot.real, label=r'$\\chi_0$')\n",
    "\n",
    "U_vec = np.arange(0.2, 1.2, 0.2)\n",
    "\n",
    "for U in U_vec:\n",
    "    print 'U =', U\n",
    "    chi_wk = chi_wk_from_U_and_chi0_wk(chi0_wk, U)\n",
    "    chi = lambda kx, ky: \n",
    "    \n",
    "    k = np.linspace(0, 2*np.pi, kmesh.linear_dims[0]+1, endpoint=True)\n",
    "\n",
    "\n",
    "    plt.plot(k, chi_plot.real, label=r'$\\chi_{RPA}$, $U=%2.2f$' % U)\n",
    "\n",
    "plt.grid(); plt.axes().set_xticks(K_plot)\n",
    "plt.xlim([K_plot.min(), K_plot.max()])\n",
    "plt.axes().set_xticklabels([r'$\\Gamma$',r'$X$',r'$M$',r'$\\Gamma$'])\n",
    "plt.ylabel(r'$\\epsilon_k$'); plt.tight_layout()\n",
    "plt.legend(loc='best')\n",
    "plt.savefig('figure_chi0_k_bandpath.pdf')"
   ]
  },
  {
   "cell_type": "markdown",
   "metadata": {},
   "source": [
    "At some critical $U_c$ the susceptibility diverges $\\chi \\rightarrow \\infty$ within the random phase approximation. To determine $U_c$ we can study the root of the inverse susceptibility $\\chi_{RPA}^{-1}$.\n",
    "\n",
    "For the square lattice it is sufficient to study the response at $k_{AF}= (\\pi, \\pi)$ since it is the point where the response diverges. Analytically this occurs when the denominator is zero $1 - U_c \\chi_0(0, k_{AF}) = 0$, i.e.\n",
    "\n",
    "$$ U_c^{(RPA)} = \\frac{1}{\\chi_0(0, k_{AF})} $$\n",
    "\n",
    "numerically this looks like"
   ]
  },
  {
   "cell_type": "markdown",
   "metadata": {},
   "source": [
    "## Find critical $U$"
   ]
  },
  {
   "cell_type": "code",
   "execution_count": null,
   "metadata": {},
   "outputs": [],
   "source": [
    "\n",
    "chi_inv = lambda U: 1. - U * chi0_kw([np.pi, np.pi, 0],0).real\n",
    "\n",
    "U_c = 1 / chi0_kw([np.pi,np.pi,0], 0).real\n",
    "\n",
    "Ur = np.linspace(0,5,100)\n",
    "\n",
    "\n",
    "plt.figure(figsize=(3.25*3, 8))\n",
    "plt.title(\"Determination of critical $U$ in RPA\")\n",
    "plt.plot(Ur, chi_inv(Ur), label=r'$\\chi_{RPA}^{-1}$')\n",
    "plt.plot(Ur, np.zeros_like(Ur), 'k', lw=0.5)\n",
    "plt.plot(U_c, 0, 'rs', label=r'$U_c \\approx %2.2f$'%U_c, alpha=0.5)\n",
    "plt.legend(loc='best')\n",
    "plt.xlabel(r'$U$')\n",
    "plt.ylabel(r'$\\chi_\\mathrm{RPA}^{-1}$')\n",
    "\n"
   ]
  },
  {
   "cell_type": "code",
   "execution_count": null,
   "metadata": {},
   "outputs": [],
   "source": []
  }
 ],
 "metadata": {
  "kernelspec": {
   "display_name": "Python 2",
   "language": "python",
   "name": "python2"
  },
  "language_info": {
   "codemirror_mode": {
    "name": "ipython",
    "version": 2
   },
   "file_extension": ".py",
   "mimetype": "text/x-python",
   "name": "python",
   "nbconvert_exporter": "python",
   "pygments_lexer": "ipython2",
   "version": "2.7.12"
  }
 },
 "nbformat": 4,
 "nbformat_minor": 2
}
