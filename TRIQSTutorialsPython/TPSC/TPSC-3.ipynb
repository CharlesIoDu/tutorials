{
 "cells": [
  {
   "cell_type": "markdown",
   "metadata": {},
   "source": [
    "# The random phase approximation (RPA)\n",
    "\n",
    "\n",
    "TO BE WRITTEN : (material below)\n",
    "\n",
    "\n",
    "- Recall the formula for RPA\n",
    "\n",
    "\n",
    "- TODO : \n",
    " \n",
    " - we grab chi(q,omega)\n",
    "-------------------------------------------\n",
    "\n",
    "\n",
    "The Lindhardt susceptibility $\\chi_0$ is the exeact susceptibility for the non-interacting case $U=0$, however for finite interactions the susceptibility of the system $\\chi$ is given by the Behte-Salpeter equation\n",
    "\n",
    "$$ \\chi = \\chi_0 + \\chi_0 \\Gamma \\chi $$\n",
    "\n",
    "where $\\Gamma$ is the particle-hole irreducible vertex function, containing all diagrams with insertions of the interaction that can not be separated by cutting a pair of particle-hole single-particle propagators $G G$.\n",
    "\n",
    "The first order contribution to the vertext $\\Gamma$ is the bare interaction $U$ and the approximation\n",
    "\n",
    "$$ \\Gamma \\approx U $$\n",
    "\n",
    "gives the so-called random phase approximation for $\\chi$, i.e.\n",
    "\n",
    "$$ \\chi_{RPA} = \\chi_0 + \\chi_0 U \\chi_{RPA} $$\n",
    "\n",
    "Rewriting this equation gives $\\chi_{RPA}$ as\n",
    "\n",
    "$$ \\chi_{RPA} = \\frac{\\chi_0}{1 - U \\chi_0} $$\n",
    "\n",
    "we note that the denominator of this equation can in general go to zero, whereby the susceptibility $\\chi_{RPA}$ diverges. Whence already the RPA approximation can be used to compute instabilities of the system towards, e.g., anti-ferromagnetic symmetry breaking.\n",
    "\n",
    "As an example we compute $\\chi_{RPA}$ for the square lattice and the enhancement of the $k = (\\pi, \\pi)$ peak as a function of $U$."
   ]
  },
  {
   "cell_type": "code",
   "execution_count": null,
   "metadata": {},
   "outputs": [],
   "source": [
    "# Pick up chi from HDF5\n",
    "# RENAME in chi_RPA ?\n",
    "# Q : write this\n",
    "# Q : plot chi\n",
    "# Q : find the instability\n",
    "from pytriqs.archive import HDFArchive\n",
    "from pytriqs.gf import Gf\n",
    "\n",
    "with HDFArchive(\"chi0.h5\",'r') as R:\n",
    "    chi0_wk = R['chi0_wk']\n",
    "chi_rpa = chi0_wk.copy()"
   ]
  },
  {
   "cell_type": "code",
   "execution_count": null,
   "metadata": {},
   "outputs": [],
   "source": [
    "wmesh = chi0_wk.mesh[0]\n",
    "g = Gf(mesh=wmesh, target_shape=[])\n",
    "g[:] + 1"
   ]
  },
  {
   "cell_type": "code",
   "execution_count": null,
   "metadata": {},
   "outputs": [],
   "source": [
    "from pytriqs.gf import *\n",
    "chi0_wk[:,Idx(0,0,0)] + 1\n",
    "#inverse(1. - 2. * chi0_wk[:, Idx(0,0,0)]) * chi0_wk[:, Idx(0,0,0)]"
   ]
  },
  {
   "cell_type": "code",
   "execution_count": null,
   "metadata": {},
   "outputs": [],
   "source": [
    "# The DOUBLE loop will be faster...\n",
    "\n",
    "def chi_wk_from_U_and_chi0_wk(chi0_wk, U):\n",
    "    U = float(U)\n",
    "    chi_wk = chi0_wk.copy()\n",
    "    kmesh = chi0_wk.mesh[1]\n",
    "    for k in kmesh:\n",
    "        chi_wk[:, k] << inverse(1. - U * chi0_wk[:, k]) * chi0_wk[:, k]\n",
    "    return chi_wk\n",
    "\n",
    "chi_wk_from_U_and_chi0_wk(chi0_wk, 2)"
   ]
  },
  {
   "cell_type": "code",
   "execution_count": null,
   "metadata": {},
   "outputs": [],
   "source": [
    "from pytriqs.plot.mpl_interface import oplot, oplotr, oploti, plt\n",
    "from pytriqs.gf import inverse\n",
    "\n",
    "chi_w0k = chi_wk_from_U_and_chi0_wk(chi0_wk, 2.0)[Idx(0),:]\n",
    "\n",
    "k = np.linspace(0, 2*np.pi, kmesh.linear_dims[0]+1, endpoint=True)\n",
    "kx, ky = np.meshgrid(k, k)\n",
    "\n",
    "chi = lambda kx, ky: chi_w0k([kx,ky,0]).real\n",
    "\n",
    "plt.figure(figsize=(3.25*2, 5))\n",
    "plt.title('Static Lindhardt susceptibility $\\chi_0(\\omega=0, k)$')\n",
    "plt.imshow(np.vectorize(chi)(kx,ky))\n",
    "\n",
    "#plt.imshow(data[:, :, 0].real, cmap=plt.get_cmap('terrain_r'), origin='lower', \n",
    "#           vmin=0, extent=extent_k)\n",
    "plt.colorbar(); plt.tight_layout()\n",
    "#plt.savefig('figure_chi0_w0k.pdf')\n",
    "plt.xlabel(r'$k_x/(2\\pi)$')\n",
    "plt.ylabel(r'$k_y/(2\\pi)$')\n",
    "\n",
    "\n",
    "# Here is a 3d plot. With \"matplotlib inline\" one cannot interact\n",
    "from mpl_toolkits.mplot3d import axes3d, Axes3D #<-- Note the capitalization! \n",
    "fig = plt.figure()\n",
    "\n",
    "ax = Axes3D(fig) #<-- Note the difference from your original code...\n",
    "ax.plot_surface(kx, ky, np.vectorize(chi)(kx,ky), cmap=\"jet\")\n",
    "ax.set_xlabel(r\"$k_x$\")\n",
    "ax.set_ylabel(r\"$k_y$\")\n",
    "ax.set_zlabel(r\"$\\chi^{0}$\")\n",
    "\n"
   ]
  },
  {
   "cell_type": "code",
   "execution_count": null,
   "metadata": {},
   "outputs": [],
   "source": [
    "from k_space_viz import get_rel_k_interpolator\n",
    "\n",
    "interp = get_rel_k_interpolator(\n",
    "    chi0_wk[Idx(0), :][0, 0].data, kmesh, H_0.bz, n_k,\n",
    "    extend_boundary=True, interpolator='linear2D')\n",
    "chi0_plot = interp(k_path_vecs[:, :2])\n",
    "\n",
    "from pytriqs.plot.mpl_interface import plt\n",
    "\n",
    "plt.figure(figsize=(3.25*3, 8))\n",
    "plt.title('Static Lindhardt susceptibility $\\chi_0(\\omega=0, k)$')\n",
    "\n",
    "plt.plot(k_plot, chi0_plot.real, label=r'$\\chi_0$')\n",
    "\n",
    "U_vec = np.arange(0.2, 1.2, 0.2)\n",
    "\n",
    "for U in U_vec:\n",
    "    print 'U =', U\n",
    "    chi_wk = chi_wk_from_U_and_chi0_wk(chi0_wk, U)\n",
    "    chi = lambda kx, ky: \n",
    "    \n",
    "    k = np.linspace(0, 2*np.pi, kmesh.linear_dims[0]+1, endpoint=True)\n",
    "\n",
    "\n",
    "    plt.plot(k, chi_plot.real, label=r'$\\chi_{RPA}$, $U=%2.2f$' % U)\n",
    "\n",
    "plt.grid(); plt.axes().set_xticks(K_plot)\n",
    "plt.xlim([K_plot.min(), K_plot.max()])\n",
    "plt.axes().set_xticklabels([r'$\\Gamma$',r'$X$',r'$M$',r'$\\Gamma$'])\n",
    "plt.ylabel(r'$\\epsilon_k$'); plt.tight_layout()\n",
    "plt.legend(loc='best')\n",
    "plt.savefig('figure_chi0_k_bandpath.pdf')"
   ]
  },
  {
   "cell_type": "markdown",
   "metadata": {},
   "source": [
    "At some critical $U_c$ the susceptibility diverges $\\chi \\rightarrow \\infty$ within the random phase approximation. To determine $U_c$ we can study the root of the inverse susceptibility $\\chi_{RPA}^{-1}$.\n",
    "\n",
    "For the square lattice it is sufficient to study the response at $k_{AF}= (\\pi, \\pi)$ since it is the point where the response diverges. Analytically this occurs when the denominator is zero $1 - U_c \\chi_0(0, k_{AF}) = 0$, i.e.\n",
    "\n",
    "$$ U_c^{(RPA)} = \\frac{1}{\\chi_0(0, k_{AF})} $$\n",
    "\n",
    "numerically this looks like"
   ]
  },
  {
   "cell_type": "code",
   "execution_count": null,
   "metadata": {},
   "outputs": [],
   "source": [
    "# find kidx where k[kidx] = (pi, pi, 0)\n",
    "k_vec = np.array([k.value for k in kmesh])\n",
    "diff = np.linalg.norm(k_vec - np.array([np.pi, np.pi, 0]), axis=1)\n",
    "kidx_pipi = np.squeeze(np.argwhere(diff < 1.e-8))\n",
    "k_pipi = np.array([k for k in kmesh])[kidx_pipi]\n",
    "print 'kidx_pipi =', kidx_pipi\n",
    "print 'k_pipi =', k_pipi"
   ]
  },
  {
   "cell_type": "code",
   "execution_count": null,
   "metadata": {},
   "outputs": [],
   "source": [
    "chi0_w0kpipi = chi0_wk[Idx(0), k_pipi][0, 0].real\n",
    "\n",
    "U_c = 1. / chi0_w0kpipi\n",
    "\n",
    "U_vec = np.arange(0.2, 2.2, 0.2)\n",
    "\n",
    "chi_vec = np.zeros_like(U_vec)\n",
    "for idx, U in enumerate(U_vec):\n",
    "    chi_vec[idx] = chi0_w0kpipi / (1 - U*chi0_w0kpipi)"
   ]
  },
  {
   "cell_type": "code",
   "execution_count": null,
   "metadata": {},
   "outputs": [],
   "source": [
    "plt.figure(figsize=(3.25*3, 8))\n",
    "plt.plot(U_vec, 1./chi_vec, '.-', label=r'$\\chi_{RPA}^{-1}$')\n",
    "plt.plot(U_vec, 0*U_vec, 'k', lw=0.5)\n",
    "plt.plot(U_c, 0, 'rs', label=r'$U_c \\approx %2.2f$' % U_c, alpha=0.5)\n",
    "plt.legend(loc='best'); plt.xlim([U_vec.min(), U_vec.max()])\n",
    "plt.ylabel(r'$\\chi_{RPA}^{-1}$'); plt.xlabel(r'$U$')"
   ]
  }
 ],
 "metadata": {
  "kernelspec": {
   "display_name": "Python 2",
   "language": "python",
   "name": "python2"
  },
  "language_info": {
   "codemirror_mode": {
    "name": "ipython",
    "version": 2
   },
   "file_extension": ".py",
   "mimetype": "text/x-python",
   "name": "python",
   "nbconvert_exporter": "python",
   "pygments_lexer": "ipython2",
   "version": "2.7.12"
  }
 },
 "nbformat": 4,
 "nbformat_minor": 2
}
