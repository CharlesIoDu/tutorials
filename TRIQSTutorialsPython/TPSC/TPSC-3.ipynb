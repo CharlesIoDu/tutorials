{
 "cells": [
  {
   "cell_type": "markdown",
   "metadata": {},
   "source": [
    "# The random phase approximation (RPA)\n",
    "\n",
    "\n",
    "TO BE WRITTEN : (material below)\n",
    "\n",
    "\n",
    "- Recall the formula for RPA\n",
    "\n",
    "\n",
    "- TODO : \n",
    " \n",
    " - we grab chi(q,omega)\n",
    "-------------------------------------------\n",
    "\n",
    "\n",
    "The Lindhardt susceptibility $\\chi_0$ is the exeact susceptibility for the non-interacting case $U=0$, however for finite interactions the susceptibility of the system $\\chi$ is given by the Behte-Salpeter equation\n",
    "\n",
    "$$ \\chi = \\chi_0 + \\chi_0 \\Gamma \\chi $$\n",
    "\n",
    "where $\\Gamma$ is the particle-hole irreducible vertex function, containing all diagrams with insertions of the interaction that can not be separated by cutting a pair of particle-hole single-particle propagators $G G$.\n",
    "\n",
    "The first order contribution to the vertext $\\Gamma$ is the bare interaction $U$ and the approximation\n",
    "\n",
    "$$ \\Gamma \\approx U $$\n",
    "\n",
    "gives the so-called random phase approximation for $\\chi$, i.e.\n",
    "\n",
    "$$ \\chi_{RPA} = \\chi_0 + \\chi_0 U \\chi_{RPA} $$\n",
    "\n",
    "Rewriting this equation gives $\\chi_{RPA}$ as\n",
    "\n",
    "$$ \\chi_{RPA} = \\frac{\\chi_0}{1 - U \\chi_0} $$\n",
    "\n",
    "we note that the denominator of this equation can in general go to zero, whereby the susceptibility $\\chi_{RPA}$ diverges. Whence already the RPA approximation can be used to compute instabilities of the system towards, e.g., anti-ferromagnetic symmetry breaking.\n",
    "\n",
    "As an example we compute $\\chi_{RPA}$ for the square lattice and the enhancement of the $k = (\\pi, \\pi)$ peak as a function of $U$."
   ]
  },
  {
   "cell_type": "markdown",
   "metadata": {},
   "source": [
    "## Load Lindhard chi from archive"
   ]
  },
  {
   "cell_type": "code",
   "execution_count": null,
   "metadata": {
    "collapsed": true
   },
   "outputs": [],
   "source": [
    "from pytriqs.archive import HDFArchive\n",
    "from pytriqs.gf import Gf, Idx, inverse\n",
    "\n",
    "with HDFArchive(\"tpsc.h5\",'r') as R:\n",
    "    chi0_kw = R['chi0_kw']"
   ]
  },
  {
   "cell_type": "markdown",
   "metadata": {},
   "source": [
    "## Plot the RPA susceptibility\n",
    "\n",
    "- Compute the RPA susceptibility for $U = 2.7$\n",
    "- Plot it"
   ]
  },
  {
   "cell_type": "code",
   "execution_count": null,
   "metadata": {
    "collapsed": false
   },
   "outputs": [],
   "source": [
    "%matplotlib inline\n",
    "from pytriqs.plot.mpl_interface import plt\n",
    "from pytriqs.gf import inverse\n",
    "import numpy as np\n",
    "\n",
    "nk = chi0_kw.mesh[0].linear_dims[0]+1\n",
    "k = np.linspace(0, 2*np.pi, nk, endpoint=True)\n",
    "kx, ky = np.meshgrid(k, k)\n",
    "\n",
    "# Note that I can avoid the cell above by just doing\n",
    "U = 2.7\n",
    "chi = lambda kx, ky: (chi0_kw([kx,ky,0],0) / (1. - U * chi0_kw([kx,ky,0],0))).real\n",
    "\n",
    "# 2d plot\n",
    "plt.figure(figsize=(3.25*2, 5))\n",
    "plt.title('Static RPA susceptibility $\\chi_\\mathrm{RPA}(k, \\omega=0)$')\n",
    "plt.pcolor(kx, ky, np.vectorize(chi)(kx,ky))\n",
    "plt.xlim(0, 2*np.pi)\n",
    "plt.ylim(0, 2*np.pi)\n",
    "plt.xticks([0, np.pi, 2*np.pi],[r\"0\",r\"$\\pi$\",r\"$2\\pi$\"])    \n",
    "plt.yticks([0, np.pi, 2*np.pi],[r\"0\",r\"$\\pi$\",r\"$2\\pi$\"])\n",
    "plt.colorbar()\n",
    "plt.tight_layout()\n",
    "plt.xlabel(r'$k_x$')\n",
    "plt.ylabel(r'$k_y$')\n",
    "\n",
    "\n",
    "# Here is a 3d plot. With \"matplotlib inline\" one cannot interact\n",
    "from mpl_toolkits.mplot3d import axes3d, Axes3D\n",
    "fig = plt.figure()\n",
    "ax = Axes3D(fig)\n",
    "ax.plot_surface(kx, ky, np.vectorize(chi)(kx,ky), cmap=\"jet\", rstride=8, cstride=8)\n",
    "ax.set_xlabel(r\"$k_x$\")\n",
    "ax.set_ylabel(r\"$k_y$\")\n",
    "ax.set_zlabel(r\"$\\chi_\\mathrm{RPA}$\")\n"
   ]
  },
  {
   "cell_type": "markdown",
   "metadata": {},
   "source": [
    "## Plot along some path for different values of $U$ (TODO)"
   ]
  },
  {
   "cell_type": "code",
   "execution_count": null,
   "metadata": {
    "collapsed": false
   },
   "outputs": [],
   "source": [
    "# CLEAN THIS TO MAKE IT MORE ELEGANT!\n",
    "\n",
    "kx = np.concatenate([np.linspace(0, np.pi, 100), np.ones(100) * np.pi, np.linspace(np.pi, 0, 100)])\n",
    "ky = np.concatenate([np.linspace(0, np.pi, 100), np.linspace(np.pi, 0, 100), np.zeros(100)])\n",
    "\n",
    "plt.figure(figsize=(6,4))\n",
    "plt.title('Static Lindhardt susceptibility $\\chi_0(k,\\omega=0)$')\n",
    "\n",
    "for U in np.arange(1., 2.8, 0.2):\n",
    "    chiU = lambda kx, ky: (chi0_kw([kx,ky,0],0) / (1. - U * chi0_kw([kx,ky,0],0))).real\n",
    "    plt.plot(np.arange(300), np.vectorize(chiU)(kx,ky), label=r'$\\chi_\\mathrm{RPA}$, $U=%2.2f$' % U)\n",
    "\n",
    "plt.grid();\n",
    "plt.axes().set_xticks([0,100,200,300])\n",
    "plt.axes().set_xticklabels([r'$\\Gamma$',r'$X$',r'$M$',r'$\\Gamma$']);\n",
    "plt.ylabel(r'$\\chi_0(k,\\omega=0)$')\n",
    "plt.legend(loc='best')\n",
    "plt.tight_layout()"
   ]
  },
  {
   "cell_type": "markdown",
   "metadata": {},
   "source": [
    "## Find critical $U$\n",
    "\n",
    "At some critical $U_c$ the susceptibility diverges $\\chi \\rightarrow \\infty$ within the random phase approximation. To determine $U_c$ we can study the root of the inverse susceptibility $\\chi_{RPA}^{-1}$.\n",
    "\n",
    "For the square lattice it is sufficient to study the response at $k_{AF}= (\\pi, \\pi)$ since it is the point where the response diverges. Analytically this occurs when the denominator is zero $1 - U_c \\chi_0(0, k_{AF}) = 0$, i.e.\n",
    "\n",
    "$$ U_c^{(RPA)} = \\frac{1}{\\chi_0(0, k_{AF})} $$\n",
    "\n",
    "numerically this looks like"
   ]
  },
  {
   "cell_type": "code",
   "execution_count": null,
   "metadata": {
    "collapsed": false
   },
   "outputs": [],
   "source": [
    "# Critical U - analytical solution\n",
    "U_c = 1 / chi0_kw([np.pi,np.pi,0], 0).real\n",
    "\n",
    "Ur = np.linspace(0,4,100)\n",
    "chi_inv = lambda U: ((1. - U * chi0_kw([np.pi, np.pi, 0],0)) / chi0_kw([np.pi, np.pi, 0], 0)).real\n",
    "\n",
    "plt.figure(figsize=(6, 4))\n",
    "plt.title(\"Determination of critical $U$ in RPA\")\n",
    "plt.plot(Ur, chi_inv(Ur), label=r'$\\chi_{RPA}^{-1}$')\n",
    "plt.plot(Ur, np.zeros_like(Ur), 'k', lw=0.5)\n",
    "plt.plot(U_c, 0, 'rs', label=r'$U_c \\approx %2.2f$'%U_c, alpha=0.5)\n",
    "plt.legend(loc='best')\n",
    "plt.xlabel(r'$U$')\n",
    "plt.ylabel(r'$\\chi_\\mathrm{RPA}^{-1}$')"
   ]
  },
  {
   "cell_type": "markdown",
   "metadata": {},
   "source": [
    "## Illustration of speed difference (to be removed)"
   ]
  },
  {
   "cell_type": "code",
   "execution_count": null,
   "metadata": {
    "collapsed": true
   },
   "outputs": [],
   "source": [
    "def chi_rpa_1(chi0, U):\n",
    "    chi_rpa = chi0.copy()\n",
    "    kmesh, wmesh = chi0.mesh.components\n",
    "    for k in kmesh:\n",
    "        for w in wmesh:\n",
    "            chi_rpa[k,w] = chi0_kw[k,w] / (1. - U * chi0_kw[k,w])\n",
    "    return chi_rpa\n",
    "\n",
    "def chi_rpa_2(chi0, U):\n",
    "    chi_rpa = chi0.copy()\n",
    "    kmesh, wmesh = chi0.mesh.components\n",
    "    for k in kmesh:\n",
    "        chi_rpa[k,:] << inverse(1. - U * chi0_kw[k,:]) * chi0_kw[k,:]\n",
    "    return chi_rpa\n",
    "\n",
    "def chi_rpa_3(chi0, U):\n",
    "    chi_rpa = chi0.copy()\n",
    "    chi_rpa = chi0 * inverse(1 - U * chi0)\n",
    "    return chi_rpa"
   ]
  },
  {
   "cell_type": "code",
   "execution_count": null,
   "metadata": {
    "collapsed": true
   },
   "outputs": [],
   "source": [
    "%%timeit\n",
    "U = 2.7\n",
    "chi_rpa_1(chi0_kw, U)"
   ]
  },
  {
   "cell_type": "code",
   "execution_count": null,
   "metadata": {
    "collapsed": true
   },
   "outputs": [],
   "source": [
    "%%timeit\n",
    "U = 2.7\n",
    "chi_rpa_2(chi0_kw, U)"
   ]
  },
  {
   "cell_type": "code",
   "execution_count": null,
   "metadata": {
    "collapsed": true
   },
   "outputs": [],
   "source": [
    "%%timeit\n",
    "U = 2.7\n",
    "chi_rpa_3(chi0_kw, U)"
   ]
  },
  {
   "cell_type": "code",
   "execution_count": null,
   "metadata": {
    "collapsed": true
   },
   "outputs": [],
   "source": []
  }
 ],
 "metadata": {
  "kernelspec": {
   "display_name": "Python 2",
   "language": "python",
   "name": "python2"
  },
  "language_info": {
   "codemirror_mode": {
    "name": "ipython",
    "version": 2
   },
   "file_extension": ".py",
   "mimetype": "text/x-python",
   "name": "python",
   "nbconvert_exporter": "python",
   "pygments_lexer": "ipython2",
   "version": "2.7.6"
  }
 },
 "nbformat": 4,
 "nbformat_minor": 2
}
