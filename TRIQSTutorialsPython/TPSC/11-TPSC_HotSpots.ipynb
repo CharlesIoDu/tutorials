{
 "cells": [
  {
   "cell_type": "markdown",
   "metadata": {},
   "source": [
    "# TPSC : Self energy\n",
    "\n",
    "\n",
    "Nearest neighbour $t$, next nearest neighbour $t'=-0.175$, and next next nearest neighbour hopping $t''=0.05$, interaction $U = 5.75t$, and inverse temperature $\\beta = 20$.\n",
    "\n",
    "The following points are not clear to me:\n",
    "\n",
    "- In the TPSC there is a density $n$. Should it be the same as the density in $G_0$? Or should it match the density of the interacting $G$?\n",
    "\n",
    "- How do I define $G_0$ away from half-filling. Is it\n",
    "\n",
    "    $G_0(k) = \\frac{1}{z + \\mu - \\epsilon_k - n U}$"
   ]
  },
  {
   "cell_type": "code",
   "execution_count": null,
   "metadata": {},
   "outputs": [],
   "source": [
    "%reload_ext cpp2py.magic"
   ]
  },
  {
   "cell_type": "code",
   "execution_count": null,
   "metadata": {},
   "outputs": [],
   "source": [
    "%%cpp2py -C pytriqs\n",
    "#include <triqs/gfs.hpp>\n",
    "using namespace triqs::gfs;\n",
    "\n",
    "// The type of a Green function : (k,omega) -> Complex number\n",
    "using g_k_w_type = gf_view<cartesian_product<brillouin_zone, imfreq>, scalar_valued>;\n",
    "using g_r_t_type = gf<cartesian_product<cyclic_lattice, imtime>, scalar_valued>;\n",
    "\n",
    "g_k_w_type bubble(g_k_w_type g0) {\n",
    "    \n",
    "    // Fourier Transformation of k, \\omega to obtain g(r,t)\n",
    "    auto grt = make_gf_from_fourier<0,1>(g0);\n",
    "    \n",
    "    // The mesh of gtr is a cartesian product mt x mr. We decompose it.\n",
    "    auto [mr, mt] = grt.mesh();\n",
    "    \n",
    "    // The inverse temperature from the mesh\n",
    "    double beta = mt.domain().beta;\n",
    "    \n",
    "    // A new mesh for chi, with a bosonic statistics, but same size as mt.\n",
    "    auto mtb = gf_mesh<imtime>{beta, Boson, mt.size()};\n",
    "    \n",
    "    // Build chi (r, tau) with this new mesh.\n",
    "    auto chi0 = g_r_t_type{{mr, mtb}};\n",
    "\n",
    "    // we fill chi : chi(tau, r) = g(beta - tau, -r) * g(tau, r)\n",
    "    for (auto const &r : mr)      \n",
    "        for (auto const &t : mtb) \n",
    "            chi0[r, t] = grt(-r, beta - t) * grt(r, t); \n",
    "\n",
    "    // Fourier transform back to k, \\omega space and return\n",
    "    return make_gf_from_fourier<0,1>(chi0);\n",
    "}"
   ]
  },
  {
   "cell_type": "code",
   "execution_count": null,
   "metadata": {},
   "outputs": [],
   "source": [
    "%%cpp2py -C pytriqs\n",
    "#include <triqs/gfs.hpp>\n",
    "using namespace triqs::gfs;\n",
    "\n",
    "// The type of a Green function : (k,omega) -> Complex number\n",
    "using g_k_w_type = gf_view<cartesian_product<brillouin_zone, imfreq>, scalar_valued>;\n",
    "\n",
    "g_k_w_type bubble2(g_k_w_type chi, g_k_w_type g0) {\n",
    "    \n",
    "    // Fourier Transformation of k, \\omega to obtain g(r,t)\n",
    "    auto chirt = make_gf_from_fourier<0,1>(chi);\n",
    "    auto g0rt = make_gf_from_fourier<0,1>(g0);\n",
    "    \n",
    "    auto sigma = g0rt;\n",
    "    sigma() = 0;\n",
    "    \n",
    "    // The mesh of gtr is a cartesian product mt x mr. We decompose it.\n",
    "    auto [mr, mt] = g0rt.mesh();\n",
    "    \n",
    "    // The inverse temperature from the mesh\n",
    "    double beta = mt.domain().beta;\n",
    "\n",
    "    // we fill sigma : sigma(r, tau) = chi(r, tau) * g0(r, tau)\n",
    "    // I am not sure this is correct .......\n",
    "    for (auto const &r : mr)\n",
    "        for (auto const &t : mt)\n",
    "            sigma[r, t] = chirt(r,t) * g0rt(r,t); \n",
    "\n",
    "    // Fourier transform back to k, \\omega space and return\n",
    "    return make_gf_from_fourier<0,1>(sigma);\n",
    "}"
   ]
  },
  {
   "cell_type": "markdown",
   "metadata": {},
   "source": [
    "## Imports"
   ]
  },
  {
   "cell_type": "code",
   "execution_count": null,
   "metadata": {
    "collapsed": true
   },
   "outputs": [],
   "source": [
    "from pytriqs.plot.mpl_interface import plt, oplot, oplotr, oploti\n",
    "import numpy as np\n",
    "from pytriqs.lattice import BravaisLattice, BrillouinZone\n",
    "from pytriqs.gf import MeshBrillouinZone, MeshImFreq, Gf, MeshProduct, Idx\n",
    "from pytriqs.gf import inverse, MeshImTime, MeshCyclicLattice, Fourier, InverseFourier\n",
    "from pytriqs.archive import HDFArchive\n",
    "from scipy.optimize import fsolve, brentq"
   ]
  },
  {
   "cell_type": "markdown",
   "metadata": {},
   "source": [
    "## Parameters"
   ]
  },
  {
   "cell_type": "code",
   "execution_count": null,
   "metadata": {
    "collapsed": true
   },
   "outputs": [],
   "source": [
    "beta = 20.\n",
    "mu = 0.0 # Should we adjust to get correct density?\n",
    "\n",
    "t = 1.0\n",
    "tp = -0.175 * t\n",
    "tpp = 0.05 * t\n",
    "U = 5.75 * t\n",
    "\n",
    "n_k = 128\n",
    "n_w = 8*1024\n",
    "\n",
    "BL = BravaisLattice([(1, 0, 0), (0, 1, 0)])\n",
    "BZ = BrillouinZone(BL)\n",
    "kmesh = MeshBrillouinZone(BZ, n_k = n_k)"
   ]
  },
  {
   "cell_type": "markdown",
   "metadata": {},
   "source": [
    "## Functions"
   ]
  },
  {
   "cell_type": "code",
   "execution_count": null,
   "metadata": {
    "collapsed": true
   },
   "outputs": [],
   "source": [
    "# TODO: check the dispersion here !!!\n",
    "def eps(kx,ky):\n",
    "    return -2 * t * (np.cos(kx) + np.cos(ky)) \\\n",
    "           -4 * tp * np.cos(kx) * np.cos(ky) \\\n",
    "           -2 * tpp * (np.cos(2*kx) + np.cos(2*ky))\n",
    "\n",
    "def get_g0(beta):\n",
    "    wmesh = MeshImFreq(beta=beta, S='Fermion', n_max=n_w)\n",
    "    w = np.tensordot(np.ones(n_k*n_k), list(wmesh.values()), 0)\n",
    "    k = np.tensordot(list(kmesh.values()), np.ones(2*n_w), 0)\n",
    "    kx, ky = k[:,0,:], k[:,1,:]\n",
    "\n",
    "    g0 = Gf(mesh = MeshProduct(kmesh, wmesh), target_shape = [])\n",
    "    g0.data[:,:] = 1 / (w - eps(kx,ky))\n",
    "    return g0\n",
    "\n",
    "def get_chi0(g0):    \n",
    "    return bubble(g0)\n",
    "\n",
    "def chi_rpa(chi0_wk, U):\n",
    "    chi_rpa = chi0_kw.copy()\n",
    "    chi_rpa = chi0_kw * inverse(1 - U * chi0_kw)\n",
    "    return chi_rpa\n",
    "\n",
    "def trace_chi_kw(chi_kw):\n",
    "    kmesh, wmesh = chi_kw.mesh.components\n",
    "    trace = chi_kw.data.sum() / len(kmesh) / wmesh.beta\n",
    "    return trace.real\n",
    "\n",
    "def Usp_root_problem(Usp, chi0, n, U):\n",
    "    tr_chi_sp = trace_chi_kw(chi_rpa(chi0, U=Usp))\n",
    "    diff = 2*tr_chi_sp + 0.5 * Usp/U * n**2 - n\n",
    "    return diff\n",
    "\n",
    "def Uch_root_problem(Uch, chi0, n, U, docc):\n",
    "    tr_chi_ch = trace_chi_kw(chi_rpa(chi0, U=-Uch[0]))\n",
    "    diff = 2*tr_chi_ch - 2 * docc - n + n**2\n",
    "    return diff\n",
    "\n",
    "def solve_Usp_and_Uch(chi0, U, n, Usp0=0.1, Uch0=0.1):\n",
    "    Uc = 1/chi0([np.pi,np.pi,0],0).real\n",
    "    Usp = brentq(Usp_root_problem, 0, Uc-1e-6, args=(chi0, n, U), xtol=1e-2)\n",
    "    docc = 0.25 * Usp / U * n**2\n",
    "    Uch = fsolve(Uch_root_problem, Uch0, args=(chi0, n, U, docc), xtol=1e-2)[0]\n",
    "    return Usp, Uch, docc, Uc"
   ]
  },
  {
   "cell_type": "markdown",
   "metadata": {},
   "source": [
    "## Plot the MDC"
   ]
  },
  {
   "cell_type": "code",
   "execution_count": null,
   "metadata": {},
   "outputs": [],
   "source": [
    "k = np.linspace(-np.pi, np.pi, n_k+1, endpoint=True)\n",
    "kx, ky = np.meshgrid(k, k)\n",
    "\n",
    "g0 = get_g0(beta)\n",
    "spectral = lambda kx, ky: (-1/np.pi)*g0([kx,ky,0],0).imag\n",
    "fs = lambda kx, ky: (1/g0([kx,ky,0],0)).real\n",
    "\n",
    "plt.figure(figsize=(4,4))\n",
    "plt.pcolor(kx, ky, np.vectorize(spectral)(kx,ky))\n",
    "plt.contour(kx, ky, np.vectorize(fs)(kx,ky), levels=[0], colors='white')\n",
    "plt.axes().set_aspect('equal')\n",
    "\n",
    "# Cosmetics\n",
    "plt.xticks([-np.pi, 0, np.pi],[r\"$-\\pi$\", r\"0\", r\"$\\pi$\"])    \n",
    "plt.yticks([-np.pi, 0, np.pi],[r\"$-\\pi$\", r\"0\", r\"$\\pi$\"])\n",
    "plt.xlabel(r\"$k_x$\")\n",
    "plt.ylabel(r\"$k_y$\")\n",
    "plt.title(\"$-\\mathrm{Im}G_k(i\\omega_0)$\")"
   ]
  },
  {
   "cell_type": "markdown",
   "metadata": {},
   "source": [
    "## TPSC calculation\n"
   ]
  },
  {
   "cell_type": "code",
   "execution_count": null,
   "metadata": {},
   "outputs": [],
   "source": [
    "# Get g0 and compute its non-interacting density\n",
    "g0_kw = get_g0(beta)\n",
    "g_sum = g0_kw[Idx(0,0,0),:].copy()\n",
    "g_sum.zero()\n",
    "for k in kmesh:\n",
    "    g_sum += g0_kw[k,:]\n",
    "g_sum /= n_k * n_k\n",
    "\n",
    "n = 2*g_sum.density().real\n",
    "print 'density =', n"
   ]
  },
  {
   "cell_type": "code",
   "execution_count": null,
   "metadata": {},
   "outputs": [],
   "source": [
    "# Get Lindhard chi\n",
    "chi0_kw = get_chi0(g0_kw)\n",
    "\n",
    "# Solve TPSC\n",
    "Usp, Uch = 1., 1.\n",
    "Usp, Uch, docc, Uc = solve_Usp_and_Uch(chi0_kw, U, n, Usp0=Usp, Uch0=Uch)\n",
    "\n",
    "print 'Usp, Uch, docc, Uc =', Usp, Uch, docc, Uc\n",
    "\n",
    "# Store TPSC spin and charge susceptibility\n",
    "chi_sp_kw = chi_rpa(chi0_kw, Usp)\n",
    "chi_ch_kw = chi_rpa(chi0_kw, -Uch)"
   ]
  },
  {
   "cell_type": "code",
   "execution_count": null,
   "metadata": {},
   "outputs": [],
   "source": [
    "# Plot the spin susceptibility\n",
    "\n",
    "k = np.linspace(0, 2*np.pi, n_k+1, endpoint=True)\n",
    "kx, ky = np.meshgrid(k, k)\n",
    "\n",
    "chis = lambda kx, ky: chi_sp_kw([kx,ky,0],0).real\n",
    "chic = lambda kx, ky: chi_ch_kw([kx,ky,0],0).real\n",
    "\n",
    "plt.figure(figsize=(10,4))\n",
    "\n",
    "plt.subplot(121)\n",
    "plt.pcolor(kx,ky,np.vectorize(chis)(kx,ky))\n",
    "plt.xticks([0, np.pi, 2*np.pi],[r\"$0$\", r\"$\\pi$\", r\"$2\\pi$\"])    \n",
    "plt.yticks([0, np.pi, 2*np.pi],[r\"$0$\", r\"$\\pi$\", r\"$2\\pi$\"])\n",
    "plt.xlabel(r\"$k_x$\")\n",
    "plt.ylabel(r\"$k_y$\")\n",
    "plt.xlim(0, 2*np.pi)\n",
    "plt.ylim(0, 2*np.pi)\n",
    "plt.colorbar()\n",
    "\n",
    "plt.subplot(122)\n",
    "plt.pcolor(kx,ky,np.vectorize(chic)(kx,ky))\n",
    "plt.xticks([0, np.pi, 2*np.pi],[r\"$0$\", r\"$\\pi$\", r\"$2\\pi$\"])    \n",
    "plt.yticks([0, np.pi, 2*np.pi],[r\"$0$\", r\"$\\pi$\", r\"$2\\pi$\"])\n",
    "plt.xlabel(r\"$k_x$\")\n",
    "plt.ylabel(r\"$k_y$\")\n",
    "plt.xlim(0, 2*np.pi)\n",
    "plt.ylim(0, 2*np.pi)\n",
    "plt.colorbar()"
   ]
  },
  {
   "cell_type": "markdown",
   "metadata": {},
   "source": [
    "CHECK: The data in `chi_sp_kw` and `chi_ch_kw` looks clean"
   ]
  },
  {
   "cell_type": "code",
   "execution_count": null,
   "metadata": {},
   "outputs": [],
   "source": [
    "oplot(chi_sp_kw[Idx(n_k/2,n_k/2,0),:])\n",
    "oplot(chi_ch_kw[Idx(n_k/2,n_k/2,0),:])\n",
    "\n",
    "oplot(chi_sp_kw[Idx(0,0,0),:])\n",
    "oplot(chi_ch_kw[Idx(0,0,0),:])\n",
    "\n",
    "oplot(chi_sp_kw[Idx(0,n_k/2,0),:])\n",
    "oplot(chi_ch_kw[Idx(0,n_k/2,0),:])\n",
    "\n",
    "plt.xlim(-10,10)"
   ]
  },
  {
   "cell_type": "markdown",
   "metadata": {},
   "source": [
    "## Now we can compute the self-energy"
   ]
  },
  {
   "cell_type": "code",
   "execution_count": null,
   "metadata": {},
   "outputs": [],
   "source": [
    "# compute self energy\n",
    "g_chi_sp_kw = 2*bubble2(chi_sp_kw, g0_kw)\n",
    "g_chi_ch_kw = 2*bubble2(chi_ch_kw, g0_kw)\n",
    "\n",
    "sigma_kw = U/8. * ( 3.*Usp*g_chi_sp_kw + Uch*g_chi_ch_kw )"
   ]
  },
  {
   "cell_type": "markdown",
   "metadata": {},
   "source": [
    "CHECK: The data in `sigma_kw` looks clean"
   ]
  },
  {
   "cell_type": "code",
   "execution_count": null,
   "metadata": {},
   "outputs": [],
   "source": [
    "oplot(sigma_kw[Idx(0,0,0),:])\n",
    "oplot(sigma_kw[Idx(n_k/2,n_k/2,0),:])\n",
    "oplot(sigma_kw[Idx(0,n_k/2,0),:])\n",
    "plt.xlim(-50,50)"
   ]
  },
  {
   "cell_type": "markdown",
   "metadata": {},
   "source": [
    "## MDC of the self-energy"
   ]
  },
  {
   "cell_type": "code",
   "execution_count": null,
   "metadata": {},
   "outputs": [],
   "source": [
    "#k = np.linspace(-np.pi, np.pi, n_k+1, endpoint=True)\n",
    "k = np.linspace(-np.pi, np.pi, 200, endpoint=True)\n",
    "\n",
    "kx, ky = np.meshgrid(k, k)\n",
    "\n",
    "sigma = lambda kx, ky: sigma_kw([kx,ky,0],0).imag\n",
    "\n",
    "plt.figure(figsize=(4,4))\n",
    "plt.pcolor(kx,ky,np.vectorize(sigma)(kx,ky))\n",
    "plt.axes().set_aspect('equal')\n",
    "\n",
    "# Cosmetics\n",
    "plt.xticks([-np.pi, 0, np.pi],[r\"$-\\pi$\", r\"0\", r\"$\\pi$\"])    \n",
    "plt.yticks([-np.pi, 0, np.pi],[r\"$-\\pi$\", r\"0\", r\"$\\pi$\"])\n",
    "plt.xlabel(r\"$k_x$\")\n",
    "plt.ylabel(r\"$k_y$\")\n",
    "plt.xlim(-np.pi, np.pi)\n",
    "plt.ylim(-np.pi, np.pi)\n",
    "plt.colorbar()\n",
    "#plt.title(\"Momentum distribution curve (MDC) at the Fermi level\")"
   ]
  },
  {
   "cell_type": "markdown",
   "metadata": {},
   "source": [
    "## MDC of the Green's function\n",
    "\n",
    "What is the density of the Green's function?"
   ]
  },
  {
   "cell_type": "code",
   "execution_count": null,
   "metadata": {},
   "outputs": [],
   "source": [
    "#k = np.linspace(-np.pi, np.pi, n_k+1, endpoint=True)\n",
    "k = np.linspace(0, np.pi, 200, endpoint=True)\n",
    "kx, ky = np.meshgrid(k, k)\n",
    "\n",
    "# TODO: Take care of Hartree shift ???\n",
    "green = lambda kx, ky: (-1/np.pi)*(1 / (-eps(kx,ky) - sigma_kw([kx,ky,0],0) + 0.03j)).imag\n",
    "\n",
    "plt.figure(figsize=(4,4))\n",
    "plt.pcolor(kx, ky, np.vectorize(green)(kx,ky))\n",
    "plt.axes().set_aspect('equal')\n",
    "plt.plot([1.48,0.92,0.54],[1.48,2.1,np.pi],'ow',lw=4,alpha=0.8)\n",
    "\n",
    "# Cosmetics\n",
    "plt.xticks([0, np.pi],[\"0\", r\"$\\pi$\"])    \n",
    "plt.yticks([0, np.pi],[\"0\", r\"$\\pi$\"])\n",
    "plt.xlabel(r\"$k_x$\")\n",
    "plt.ylabel(r\"$k_y$\")\n",
    "plt.xlim(0, np.pi)\n",
    "plt.ylim(0, np.pi)\n",
    "plt.colorbar()\n",
    "plt.title(\"Momentum distribution curve (MDC) at the Fermi level\")"
   ]
  },
  {
   "cell_type": "markdown",
   "metadata": {},
   "source": [
    "## (Optional) Plot some EDC's\n",
    "\n",
    "For this part to work we need:\n",
    "\n",
    "- To have `set_from_pade` for scalar valued Gf\n",
    "- To have the evaluator for `<brillouin_zone, refreq>` Gf's\n",
    "- Or even better the interpolator `(k, all)`"
   ]
  },
  {
   "cell_type": "code",
   "execution_count": null,
   "metadata": {},
   "outputs": [],
   "source": [
    "# Analytic continuation of Sigma_wk to w = 0 + i*epsilon\n",
    "\n",
    "from pytriqs.gf import MeshReFreq\n",
    "\n",
    "rwmesh = MeshReFreq(omega_min=-0.4, omega_max=0.1, n_max=100)\n",
    "sigma_krw = Gf(mesh=MeshProduct(kmesh,rwmesh), target_shape=[1,1])\n",
    "\n",
    "# This is because set_from_pade does not work with scalar yet\n",
    "from pytriqs.gf import GfImFreq, SemiCircular\n",
    "tmp = GfImFreq(indices=[0], beta=beta, n_points=8*1024)\n",
    "\n",
    "om = np.linspace(-0.4,0.1,100)\n",
    "for kx,ky in [(1.48,1.48), (0.92,2.1), (0.54,np.pi)]:\n",
    "    \n",
    "    # Ugly !!!\n",
    "    ki = Idx(int(kx*n_k/(2*np.pi)), int(ky*n_k/(2*np.pi)), 0)\n",
    "\n",
    "    # Ugly !!!\n",
    "    tmp.data[:,0,0] = sigma_kw[ki,:].data[:]\n",
    "    sigma_krw[ki,:].set_from_pade(tmp, n_points=100)\n",
    "    #sigma_krw[ki,:].set_from_pade(sigma_kw[ki,:], n_points=100)\n",
    "\n",
    "    gom = lambda omega: ((-1/np.pi) / \\\n",
    "                         (omega - eps(kx,ky) - sigma_krw[ki,:](omega)[0,0] + 0.03j)).imag\n",
    "    \n",
    "    plt.plot(om, np.vectorize(gom)(om), label=\"k = (%.2f,%.2f)\"%(kx,ky))\n",
    "    \n",
    "plt.legend(loc='best')\n",
    "plt.title(\"EDC at node, antinode, hotspot\")\n",
    "plt.xlabel(r\"$\\omega$\")\n",
    "plt.ylabel(r\"$A(k,\\omega)$\")"
   ]
  },
  {
   "cell_type": "code",
   "execution_count": null,
   "metadata": {
    "collapsed": true
   },
   "outputs": [],
   "source": []
  }
 ],
 "metadata": {
  "kernelspec": {
   "display_name": "Python 2",
   "language": "python",
   "name": "python2"
  },
  "language_info": {
   "codemirror_mode": {
    "name": "ipython",
    "version": 2
   },
   "file_extension": ".py",
   "mimetype": "text/x-python",
   "name": "python",
   "nbconvert_exporter": "python",
   "pygments_lexer": "ipython2",
   "version": "2.7.15"
  }
 },
 "nbformat": 4,
 "nbformat_minor": 2
}
