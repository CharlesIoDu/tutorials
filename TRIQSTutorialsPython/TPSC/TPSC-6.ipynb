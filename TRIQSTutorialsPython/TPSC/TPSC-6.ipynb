{
 "cells": [
  {
   "cell_type": "markdown",
   "metadata": {},
   "source": [
    "# TPSC : Self energy\n",
    "\n",
    "\n",
    "Nearest neighbour $t$, next nearest neighbour $t'=0.175$, and next next nearest neighbour hopping $t''=0.05$, interaction $U = 5.75t$, and inverse temperature $\\beta = 20$."
   ]
  },
  {
   "cell_type": "code",
   "execution_count": null,
   "metadata": {},
   "outputs": [],
   "source": [
    "beta = 20.\n",
    "mu = 0.0\n",
    "\n",
    "t = 1.0\n",
    "tp = 0.175 * t\n",
    "tpp = 0.05 * t\n",
    "\n",
    "U = 5.75 * t\n",
    "\n",
    "n_k = (8, 8, 1) \n",
    "n_w = 1024 * 4"
   ]
  },
  {
   "cell_type": "code",
   "execution_count": null,
   "metadata": {},
   "outputs": [],
   "source": [
    "import numpy as np\n",
    "from pytriqs.lattice.tight_binding import TBLattice\n",
    "\n",
    "I = np.eye(2)\n",
    "\n",
    "H_0 = TBLattice(\n",
    "    units = [(1, 0, 0), (0, 1, 0)],\n",
    "    hopping = {\n",
    "        (+1, 0): -t * I,  \n",
    "        (-1, 0): -t * I, \n",
    "        ( 0,+1): -t * I, \n",
    "        ( 0,-1): -t * I,\n",
    "        # next nearest neighbour\n",
    "        (+1, +1): -tp * I,  \n",
    "        (+1, -1): -tp * I,  \n",
    "        (-1, +1): -tp * I,  \n",
    "        (-1, -1): -tp * I,  \n",
    "        # next next nearest neighbour\n",
    "        (+2, 0): -tpp * I,  \n",
    "        (-2, 0): -tpp * I, \n",
    "        ( 0,+2): -tpp * I, \n",
    "        ( 0,-2): -tpp * I,\n",
    "        },\n",
    "    orbital_positions = [(0,0,0)]*2,\n",
    "    orbital_names = ['up', 'do'],\n",
    "    )"
   ]
  },
  {
   "cell_type": "code",
   "execution_count": null,
   "metadata": {},
   "outputs": [],
   "source": [
    "kmesh = H_0.get_kmesh(n_k)\n",
    "print 'kmesh =\\n', kmesh\n",
    "rmesh = H_0.get_rmesh(n_k)\n",
    "print 'rmesh =\\n', rmesh\n",
    "\n",
    "e_k = H_0.on_gf_mesh_brillouin_zone(n_k)\n",
    "print 'e_k =\\n', e_k"
   ]
  },
  {
   "cell_type": "code",
   "execution_count": null,
   "metadata": {},
   "outputs": [],
   "source": [
    "# Fixme move 2d plot to library\n",
    "\n",
    "from k_space_viz import extend_data_on_boundary\n",
    "\n",
    "data_k, k_vec, (kx, ky, kz) = extend_data_on_boundary(e_k[0, 0].data, n_k)\n",
    "data_k = data_k[:, :, 0].real\n",
    "extent_k = np.array([kx.min(), kx.max(), ky.min(), ky.max()])\n",
    "\n",
    "from pytriqs.plot.mpl_interface import plt\n",
    "\n",
    "plt.figure(figsize=(3.25*3, 8))\n",
    "plt.title(r'Dispersion $\\epsilon_k$ and fermi surface contour $\\epsilon_k = 0$')\n",
    "plt.contour(kx, ky, data_k, levels=[0.])\n",
    "plt.imshow(data_k, cmap=plt.get_cmap('RdBu_r'), origin='lower', \n",
    "           vmin=data_k.min(), vmax=data_k.max(),\n",
    "           extent=extent_k)\n",
    "plt.xlabel(r'$k_x/(2\\pi)$')\n",
    "plt.ylabel(r'$k_y/(2\\pi)$')\n",
    "plt.colorbar(); plt.tight_layout()\n",
    "plt.savefig('figure_e_k.pdf')\n",
    "plt.show()"
   ]
  },
  {
   "cell_type": "code",
   "execution_count": null,
   "metadata": {},
   "outputs": [],
   "source": [
    "from k_space_viz import k_space_path\n",
    "\n",
    "G = np.array([0.0, 0.0, 0.0])\n",
    "X = np.array([0.5, 0.5, 0.0])\n",
    "M = np.array([0.5, 0.0, 0.0])\n",
    "\n",
    "paths = [(G, X), (X, M), (M, G)]\n",
    "\n",
    "k_path_vecs, k_plot, K_plot = k_space_path(paths, num=100)\n",
    "\n",
    "from k_space_viz import get_rel_k_interpolator\n",
    "\n",
    "interp = get_rel_k_interpolator(\n",
    "    e_k[0, 0].data, kmesh, H_0.bz, n_k,\n",
    "    extend_boundary=True, interpolator='linear2D')\n",
    "e_plot = interp(k_path_vecs[:, :2])\n",
    "\n",
    "from pytriqs.plot.mpl_interface import plt\n",
    "\n",
    "plt.figure(figsize=(3.25*3, 8))\n",
    "plt.title(r'Dispersion $\\epsilon_k$ along the high-symmetry path $\\Gamma$-$X$-$M$-$\\Gamma$')\n",
    "plt.plot(k_plot, e_plot.real)\n",
    "\n",
    "plt.grid(); plt.axes().set_xticks(K_plot)\n",
    "plt.xlim([K_plot.min(), K_plot.max()])\n",
    "plt.axes().set_xticklabels([r'$\\Gamma$',r'$X$',r'$M$',r'$\\Gamma$'])\n",
    "plt.ylabel(r'$\\epsilon_k$'); plt.tight_layout()\n",
    "plt.savefig('figure_e_k_bandpath.pdf')\n",
    "plt.show()"
   ]
  },
  {
   "cell_type": "markdown",
   "metadata": {},
   "source": [
    "## TPSC calculation\n"
   ]
  },
  {
   "cell_type": "code",
   "execution_count": null,
   "metadata": {},
   "outputs": [],
   "source": [
    "print 'g0_wk'\n",
    "g0_wk, g0_wr, g0_tr = get_g0(e_k, beta, mu, n_w, kmesh, rmesh)\n",
    "n = -g0_tr[Idx(0), Idx(0, 0, 0)].sum().real\n",
    "print 'n =', n"
   ]
  },
  {
   "cell_type": "code",
   "execution_count": null,
   "metadata": {},
   "outputs": [],
   "source": [
    "print 'chi0_wk'\n",
    "chi0_tr, chi0_wr, chi0_wk = get_chi0(g0_tr, n_w, kmesh, rmesh)\n",
    "\n",
    "print 'tpsc self cons'\n",
    "Usp, Uch, docc = solve_Usp_and_Uch(chi0_wk, U, n, Usp0=Usp, Uch0=Uch)\n",
    "print 'Usp, Uch, docc =', Usp, Uch, docc"
   ]
  },
  {
   "cell_type": "code",
   "execution_count": null,
   "metadata": {},
   "outputs": [],
   "source": [
    "print 'chi_sp_wk, chi_ch_wk'\n",
    "chi_sp_wk = chi_wk_from_U_and_chi0_wk(chi0_wk, +0.5*Usp)\n",
    "chi_ch_wk = chi_wk_from_U_and_chi0_wk(chi0_wk, -0.5*Uch)"
   ]
  },
  {
   "cell_type": "code",
   "execution_count": null,
   "metadata": {},
   "outputs": [],
   "source": [
    "# todo: remove when we have the new tail\n",
    "\n",
    "def fix_tr_tail(g_tr, r, gf_flag=True):\n",
    "    g_t = g_tr[:, r]\n",
    "    g_t.singularity = TailGf(g_t.target_shape)\n",
    "    if gf_flag and np.linalg.norm(r.value) < 1e-9: g_t.singularity[1] = I\n",
    "    return g_t"
   ]
  },
  {
   "cell_type": "code",
   "execution_count": null,
   "metadata": {},
   "outputs": [],
   "source": [
    "target_shape = [1, 1]\n",
    "wmesh = chi0_wk.mesh.components[0]\n",
    "tmesh = chi0_tr.mesh.components[0]\n",
    "\n",
    "chi_sp_wr = Gf(mesh=MeshProduct(wmesh, rmesh), target_shape=target_shape)\n",
    "chi_sp_tr = Gf(mesh=MeshProduct(tmesh, rmesh), target_shape=target_shape)\n",
    "\n",
    "chi_ch_wr = Gf(mesh=MeshProduct(wmesh, rmesh), target_shape=target_shape)\n",
    "chi_ch_tr = Gf(mesh=MeshProduct(tmesh, rmesh), target_shape=target_shape)\n",
    "\n",
    "print 'k -> r'\n",
    "for w in wmesh: \n",
    "    chi_sp_wr[w, :] = InverseFourier(chi_sp_wk[w, :])\n",
    "    chi_ch_wr[w, :] = InverseFourier(chi_ch_wk[w, :])\n",
    "\n",
    "print 'w -> t'\n",
    "for r in rmesh: \n",
    "    chi_sp_tr[:, r] = InverseFourier(fix_tr_tail(chi_sp_wr, r, gf_flag=False)) # Q: SHOULD WE FIX TAIL HERE??!!\n",
    "    chi_ch_tr[:, r] = InverseFourier(fix_tr_tail(chi_ch_wr, r, gf_flag=False))"
   ]
  },
  {
   "cell_type": "code",
   "execution_count": null,
   "metadata": {},
   "outputs": [],
   "source": [
    "plt.figure()\n",
    "oplotr(chi_sp_tr[:, Idx(0, 0, 0)])\n",
    "plt.figure()\n",
    "oplotr(chi_sp_tr[:, Idx(1, 0, 0)])"
   ]
  },
  {
   "cell_type": "code",
   "execution_count": null,
   "metadata": {},
   "outputs": [],
   "source": [
    "plt.figure()\n",
    "oplotr(chi_ch_tr[:, Idx(0, 0, 0)])\n",
    "plt.figure()\n",
    "oplotr(chi_ch_tr[:, Idx(1, 0, 0)])"
   ]
  },
  {
   "cell_type": "code",
   "execution_count": null,
   "metadata": {},
   "outputs": [],
   "source": [
    "# compute self energy\n",
    "\n",
    "g_chi_sp_tr = bubble(g0_tr[0, 0], chi_sp_tr)\n",
    "g_chi_ch_tr = bubble(g0_tr[0, 0], chi_ch_tr)\n",
    "\n",
    "sigma_tr = U/8. * ( 3.*Usp*g_chi_sp_tr + Uch*g_chi_ch_tr )\n",
    "\n",
    "print sigma_tr"
   ]
  },
  {
   "cell_type": "code",
   "execution_count": null,
   "metadata": {},
   "outputs": [],
   "source": [
    "plt.figure()\n",
    "oplotr(sigma_tr[:, Idx(0, 0, 0)])\n",
    "plt.figure()\n",
    "oplotr(sigma_tr[:, Idx(0, 0, 0)])\n",
    "plt.xlim([19.5, 20.1])\n",
    "plt.figure()\n",
    "oplotr(sigma_tr[:, Idx(1, 0, 0)])"
   ]
  },
  {
   "cell_type": "code",
   "execution_count": null,
   "metadata": {},
   "outputs": [],
   "source": [
    "target_shape = [1, 1]\n",
    "\n",
    "sigma_wr = Gf(mesh=MeshProduct(wmesh, rmesh), target_shape=target_shape)\n",
    "sigma_wk = Gf(mesh=MeshProduct(wmesh, kmesh), target_shape=target_shape)\n",
    "\n",
    "for r in rmesh: sigma_wr[:, r] = Fourier(fix_tr_tail(sigma_tr, r, gf_flag=False))\n",
    "for w in wmesh: sigma_wk[w, :] = Fourier(sigma_wr[w, :])"
   ]
  },
  {
   "cell_type": "code",
   "execution_count": null,
   "metadata": {},
   "outputs": [],
   "source": [
    "# add hartree term\n",
    "#for k in kmesh: sigma_wk[:, k] += U * 0.5 * n * I"
   ]
  },
  {
   "cell_type": "code",
   "execution_count": null,
   "metadata": {},
   "outputs": [],
   "source": [
    "# Analytic continuation of Sigma_wk to w = 0 + i*epsilon\n",
    "\n",
    "from pytriqs.gf import MeshReFreq\n",
    "\n",
    "rwmesh = MeshReFreq(omega_min=-1., omega_max=1., n_max=10)\n",
    "sigma_rwk = Gf(mesh=MeshProduct(rwmesh, kmesh), target_shape=[1, 1])\n",
    "\n",
    "for k in kmesh:\n",
    "    sigma_rw = sigma_rwk[:, k]\n",
    "    sigma_rw.set_from_pade(sigma_wk[:, k], n_points=20)"
   ]
  },
  {
   "cell_type": "code",
   "execution_count": null,
   "metadata": {},
   "outputs": [],
   "source": [
    "oplot(sigma_wk[:, Idx(0, 0, 0)])"
   ]
  },
  {
   "cell_type": "code",
   "execution_count": null,
   "metadata": {
    "scrolled": true
   },
   "outputs": [],
   "source": [
    "oplot(sigma_rwk[:, Idx(0, 0, 0)])"
   ]
  },
  {
   "cell_type": "code",
   "execution_count": null,
   "metadata": {},
   "outputs": [],
   "source": [
    "# Plot G(w=0, k)\n",
    "g0_rwk = Gf(mesh=MeshProduct(rwmesh, kmesh), target_shape=[1, 1])\n",
    "g_rwk = Gf(mesh=MeshProduct(rwmesh, kmesh), target_shape=[1, 1])\n",
    "\n",
    "for k in kmesh:\n",
    "    eps = 5.e-1j\n",
    "    g_rwk[:, k] << inverse(iOmega_n + eps - e_k[k][0, 0] - sigma_rwk[:, k])\n",
    "    g0_rwk[:, k] << inverse(iOmega_n + eps - e_k[k][0, 0])    "
   ]
  },
  {
   "cell_type": "code",
   "execution_count": null,
   "metadata": {},
   "outputs": [],
   "source": [
    "oplot(g0_rwk[:, Idx(0, 0, 0)])"
   ]
  },
  {
   "cell_type": "code",
   "execution_count": null,
   "metadata": {},
   "outputs": [],
   "source": [
    "oplot(g_rwk[:, Idx(0, 0, 0)])"
   ]
  },
  {
   "cell_type": "code",
   "execution_count": null,
   "metadata": {},
   "outputs": [],
   "source": [
    "g_k = g_rwk[Idx(5), :]\n",
    "g0_k = g0_rwk[Idx(5), :]"
   ]
  },
  {
   "cell_type": "code",
   "execution_count": null,
   "metadata": {},
   "outputs": [],
   "source": [
    "# Fixme move 2d plot to library\n",
    "\n",
    "from k_space_viz import extend_data_on_boundary\n",
    "\n",
    "data_k, k_vec, (kx, ky, kz) = extend_data_on_boundary(g_k.data, n_k)\n",
    "data_k = - data_k[:, :, 0].imag / np.pi\n",
    "extent_k = np.array([kx.min(), kx.max(), ky.min(), ky.max()])\n",
    "\n",
    "from pytriqs.plot.mpl_interface import plt\n",
    "\n",
    "plt.figure(figsize=(3.25*3, 8))\n",
    "plt.imshow(data_k, cmap=plt.get_cmap('RdBu_r'), origin='lower', \n",
    "           vmin=data_k.min(), vmax=data_k.max(),\n",
    "           extent=extent_k)\n",
    "plt.xlabel(r'$k_x/(2\\pi)$')\n",
    "plt.ylabel(r'$k_y/(2\\pi)$')\n",
    "plt.colorbar(); plt.tight_layout()"
   ]
  },
  {
   "cell_type": "code",
   "execution_count": null,
   "metadata": {},
   "outputs": [],
   "source": [
    "# Fixme move 2d plot to library\n",
    "\n",
    "from k_space_viz import extend_data_on_boundary\n",
    "\n",
    "data_k, k_vec, (kx, ky, kz) = extend_data_on_boundary(g0_k.data, n_k)\n",
    "data_k = - data_k[:, :, 0].imag / np.pi\n",
    "extent_k = np.array([kx.min(), kx.max(), ky.min(), ky.max()])\n",
    "\n",
    "from pytriqs.plot.mpl_interface import plt\n",
    "\n",
    "plt.figure(figsize=(3.25*3, 8))\n",
    "plt.imshow(data_k, cmap=plt.get_cmap('RdBu_r'), origin='lower', \n",
    "           vmin=data_k.min(), vmax=data_k.max(),\n",
    "           extent=extent_k)\n",
    "plt.xlabel(r'$k_x/(2\\pi)$')\n",
    "plt.ylabel(r'$k_y/(2\\pi)$')\n",
    "plt.colorbar(); plt.tight_layout()"
   ]
  },
  {
   "cell_type": "code",
   "execution_count": null,
   "metadata": {},
   "outputs": [],
   "source": []
  },
  {
   "cell_type": "code",
   "execution_count": null,
   "metadata": {},
   "outputs": [],
   "source": []
  }
 ],
 "metadata": {
  "kernelspec": {
   "display_name": "Python 2",
   "language": "python",
   "name": "python2"
  },
  "language_info": {
   "codemirror_mode": {
    "name": "ipython",
    "version": 2
   },
   "file_extension": ".py",
   "mimetype": "text/x-python",
   "name": "python",
   "nbconvert_exporter": "python",
   "pygments_lexer": "ipython2",
   "version": "2.7.12"
  }
 },
 "nbformat": 4,
 "nbformat_minor": 2
}
