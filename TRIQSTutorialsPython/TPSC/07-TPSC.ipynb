{
 "cells": [
  {
   "cell_type": "markdown",
   "metadata": {},
   "source": [
    "# Two-particle self consistency (TPSC)\n",
    "\n",
    "Now, we use the Lindhard function to solve the TPSC approximation explained in the lecture notes\n",
    "of André-Marie Tremblay and in the following [review](https://arxiv.org/abs/1107.1534). \n",
    "\n",
    "In TPSC, the vertices for charge and spin fluctuations are different but are still local, i.e. momentum and frequency independent like the bare $U$ in the Hubbard model. This allows conservations laws and the Pauli principle to be satisfied. \n",
    "\n",
    "More specifically, the spin and charge susceptibilities are \n",
    "\n",
    "$$ \\chi_{sp}(\\mathbf{q}, iq_n) \\equiv \\frac{\\chi_0(\\mathbf{q}, iq_n)}{1 - \\frac{U_{sp}}{2} \\chi_0(\\mathbf{q}, iq_n)} $$\n",
    "\n",
    "$$ \\chi_{ch}(\\mathbf{q}, iq_n) \\equiv \\frac{\\chi_0(\\mathbf{q}, iq_n)}{1 + \\frac{U_{ch}}{2} \\chi_0(\\mathbf{q}, iq_n)} $$\n",
    "\n",
    "The sum over all momenta and frequencies of the spin susceptibility gives the equal-time equal-position correlation function. This gives the sum-rule  \n",
    "\n",
    "\\begin{equation}\n",
    "\\frac{T}{N}\\sum_{\\mathbf{q},iq_n} \\chi_{sp}(\\mathbf{q}, iq_n)=\\left< (n_\\uparrow - n_\\downarrow)^2\\right>=n-2\\left< n_\\uparrow n_\\downarrow\\right>\n",
    "\\end{equation}\n",
    "\n",
    "because the Pauli principle requires that $\\left< n_\\uparrow^2\\right>=\\left< n_\\uparrow\\right>$ since the occupation number on a site is either 0 or 1.\n",
    "\n",
    "Substituting the TPSC value of the spin susceptibility, double occupancy and $U_{sp}$ can be determined from\n",
    "\n",
    "\\begin{equation}\n",
    "\\frac{T}{N}\\sum_{\\mathbf{q},iq_n} \\frac{\\chi_0(\\mathbf{q},iq_n)}{1-\\frac{U_{sp}}{2}\\chi_0(\\mathbf{q},iq_n)}=n-2\\left< n_\\uparrow n_\\downarrow\\right>\n",
    "\\end{equation}\n",
    "\n",
    "with the ansatz\n",
    "\n",
    "\\begin{equation}\n",
    "U_{sp}\\left<n_\\uparrow\\right> \\left<n_\\downarrow\\right>=U\\left<n_\\uparrow n_\\downarrow\\right>.\n",
    "\\end{equation}\n",
    "\n",
    "Given the double occupancy, the charge vertex can then be obtained from\n",
    "\n",
    "\\begin{equation}\n",
    "\\frac{T}{N}\\sum_{\\mathbf{q},iq_n} \\frac{\\chi_0(\\mathbf{q},iq_n)}{1+\\frac{U_{cn}}{2}\\chi_0(\\mathbf{q},iq_n)}=n+2\\left< n_\\uparrow n_\\downarrow\\right>-n^2.\n",
    "\\end{equation}\n",
    "\n",
    "Note that the sums over $\\mathbf{q}$ and $i\\omega_n$ can be interpreted as a trace."
   ]
  },
  {
   "cell_type": "code",
   "execution_count": null,
   "metadata": {
    "scrolled": true
   },
   "outputs": [],
   "source": [
    "# Imports \n",
    "%matplotlib inline\n",
    "from pytriqs.lattice import BravaisLattice, BrillouinZone\n",
    "from pytriqs.gf import MeshBrillouinZone, MeshImFreq, Gf, MeshProduct, inverse\n",
    "from pytriqs.archive import HDFArchive\n",
    "from pytriqs.plot.mpl_interface import oplot\n",
    "import numpy as np\n",
    "from math import cos, pi\n",
    "\n",
    "import matplotlib.pyplot as plt\n",
    "plt.rcParams[\"figure.figsize\"] = (10,9) # set default size for all figuresfrom pytriqs.archive import HDFArchivefrom pytriqs.gf import Gf, inverse\n",
    "\n",
    "from scipy.optimize import fsolve"
   ]
  },
  {
   "cell_type": "code",
   "execution_count": null,
   "metadata": {},
   "outputs": [],
   "source": [
    "#reload chi0\n",
    "with HDFArchive(\"tpsc.h5\", 'r') as R:\n",
    "    chi0_kw = R['chi0_kw']"
   ]
  },
  {
   "cell_type": "code",
   "execution_count": null,
   "metadata": {},
   "outputs": [],
   "source": [
    "def chi_rpa(chi0_kw, U):\n",
    "    \"\"\"Compute chi_rpa from chi\"\"\"\n",
    "    chi = chi0_kw.copy()\n",
    "    return chi * inverse(1 - float(U) * chi)\n",
    "\n",
    "def trace_chi_kw(chi):\n",
    "    \"\"\"Given chi_kw, it computes sum_k sum_\\nu chi(k,\\nu)\"\"\" \n",
    "    kmesh, wmesh = chi.mesh.components\n",
    "    trace = chi.data.sum() / len(kmesh) / wmesh.beta\n",
    "    # v1 : with density, v2 : without, simple sum\n",
    "    #trace1 = sum(chi (k.value, all).density() for k in kmesh)/len(kmesh) \n",
    "    #print \"diff trace \", abs(trace + trace1), trace.real, trace1.real, abs(trace + trace1)/abs(trace)\n",
    "    assert(np.abs(trace.imag) < 1e-10), trace.imag\n",
    "    return trace.real\n",
    "\n",
    "def Usp_root_problem(Usp, chi0, n, U):\n",
    "    \"\"\"Sets the self-consistency for U_sp as the problem of finding roots\"\"\"\n",
    "    tr_chi_sp = trace_chi_kw(chi_rpa(chi0, U=Usp[0]))\n",
    "    diff = 2*tr_chi_sp + 0.5 * Usp/U * n**2 - n\n",
    "    return diff\n",
    "\n",
    "def Uch_root_problem(Uch, chi0, n, U, docc):\n",
    "    \"\"\"Sets the self-consistency for U_ch as the problem of finding roots\"\"\"\n",
    "    tr_chi_ch = trace_chi_kw(chi_rpa(chi0, U=-Uch[0]))\n",
    "    diff = 2*tr_chi_ch - 2 * docc - n + n**2\n",
    "    return diff\n",
    "\n",
    "def solve_Usp_and_Uch(chi0, U, n, Usp0=0.1, Uch0=0.1):\n",
    "    \"\"\"Solves the root problem for U_sp and U_ch and outputs double occupancy as well\"\"\"\n",
    "    Usp = fsolve(Usp_root_problem, Usp0, args=(chi0, n, U), xtol=1e-2)[0]\n",
    "    docc = 0.25 * Usp / U * n**2\n",
    "    Uch = fsolve(Uch_root_problem, Uch0, args=(chi0, n, U, docc), xtol=1e-2)[0]\n",
    "    return Usp, Uch, docc"
   ]
  },
  {
   "cell_type": "markdown",
   "metadata": {},
   "source": [
    "## Reproduce paper figure\n",
    "\n",
    "We want to reproduce the following figure from the\n",
    "__[paper](https://jp1.journaldephysique.org/articles/jp1/abs/1997/11/jp1v7p1309/jp1v7p1309.html)__\n",
    "\n",
    "<img src=\"./img/Fig2.png\" alt=\"Drawing\" style=\"width: 250px;\"/>\n",
    "\n",
    "by calling the function tpsc for a grid of values of the bare U.\n"
   ]
  },
  {
   "cell_type": "code",
   "execution_count": null,
   "metadata": {},
   "outputs": [],
   "source": [
    "n = 1.0\n",
    "Usp, Uch = 0.3, 0.3\n",
    "\n",
    "# Initializes a table to store the results\n",
    "U_vec = np.concatenate((np.arange(0.3, 1., 0.2), np.arange(1., 6., 1.)))    \n",
    "Usp_vec, Uch_vec, docc_vec = [np.zeros_like(U_vec) for x in xrange(3)]\n",
    "\n",
    "# Printing the header of the table\n",
    "print ''.join('| %-11s' % s for s in ['n', 'U', 'Usp', 'Uch', 'docc']), '|'\n",
    "print '-'*67\n",
    "\n",
    "# Loop over the different values of bare U\n",
    "for idx, U in enumerate(U_vec):\n",
    "    Usp, Uch, docc = solve_Usp_and_Uch(chi0_kw, U, n, Usp0=Usp, Uch0=Uch)\n",
    "    Usp_vec[idx], Uch_vec[idx], docc_vec[idx] = Usp, Uch, docc\n",
    "    print ''.join('| %4.4E ' % x for x in [n, U, Usp, Uch, docc]), '|'"
   ]
  },
  {
   "cell_type": "markdown",
   "metadata": {},
   "source": [
    "## Make plot and compare with paper results"
   ]
  },
  {
   "cell_type": "code",
   "execution_count": null,
   "metadata": {},
   "outputs": [],
   "source": [
    "from matplotlib.image import imread\n",
    "\n",
    "# Some manual adjustements here to overlay the original figure. May change from one\n",
    "# machine to another\n",
    "im = imread(\"img/Fig2.png\")\n",
    "plt.imshow(im, extent=(-0.45, 5.35, -3, 20.5), aspect='auto')\n",
    "plt.plot([0,5,5,0,0],[0,0,20,20,0],'-r')\n",
    "\n",
    "plt.plot(U_vec, Usp_vec, 'o-', label=r'$U_{sp}$', alpha=1, lw=2)\n",
    "plt.plot(U_vec, Uch_vec, 'o-', label=r'$U_{ch}$', alpha=1, lw=2)\n",
    "\n",
    "plt.axis('off');"
   ]
  },
  {
   "cell_type": "markdown",
   "metadata": {},
   "source": [
    "### Note: weakness of RPA\n",
    "\n",
    "Given the above sum rules, note that in TPSC the following sum-rule, a consequence of the Pauli principle, is satisfied:\n",
    "\n",
    "\\begin{equation}\n",
    "2\\frac{T}{N}\\sum_{\\mathbf{q},iq_n} \\left (\\frac{\\chi_0(\\mathbf{q},iq_n)}{1-\\frac{U_{sp}}{2}\\chi_0(\\mathbf{q},iq_n)}+\\frac{\\chi_0(\\mathbf{q},iq_n)}{1+\\frac{U_{ch}}{2}\\chi_0(\\mathbf{q},iq_n)}\\right)=2n-n^2.\n",
    "\\end{equation}\n",
    "\n",
    "Note that the right-hand side is independent of interactions.\n",
    "\n",
    "    Compute the same quantity, but in the RPA approximation, \n",
    "    and make a plot of how much RPA violates the Pauli principle."
   ]
  },
  {
   "cell_type": "markdown",
   "metadata": {},
   "source": [
    "In RPA the left hand of the above equation takes the form\n",
    "\n",
    "\\begin{equation}\n",
    "\\frac{T}{N}\\sum_{\\mathbf{q},iq_n} \\left (\\frac{\\chi_0(\\mathbf{q},iq_n)}{1-\\frac{U}{2}\\chi_0(\\mathbf{q},iq_n)}+\\frac{\\chi_0(\\mathbf{q},iq_n)}{1+\\frac{U}{2}\\chi_0(\\mathbf{q},iq_n)}\\right)\n",
    "\\end{equation}\n",
    "\n",
    "Note that the bare $U$ enters in both denominators. Compute this and compare with the relation $2n - n^2$ required by the Pauli principle."
   ]
  },
  {
   "cell_type": "code",
   "execution_count": null,
   "metadata": {},
   "outputs": [],
   "source": [
    "import numpy as np\n",
    "from pytriqs.gf import Idx\n",
    "\n",
    "n = 1.0\n",
    "U_vec = np.arange(0., 2.5, 0.25)\n",
    "sum_chi_vec = np.zeros_like(U_vec)\n",
    "\n",
    "kmesh, wmesh = chi0_kw.mesh.components\n",
    "\n",
    "# Printing the header of the table\n",
    "print ''.join('| %-11s' % s for s in ['U', 'sum_chi', '2n-n*n']), '|'\n",
    "print '-'*41\n",
    "\n",
    "# Loop over the different values of U\n",
    "for idx, U in enumerate(U_vec):\n",
    "    sum_chi = chi_rpa(chi0_kw, +0.5*U) + chi_rpa(chi0_kw, -0.5*U)\n",
    "    sum_chi = sum_chi.data.sum() / len(kmesh) / wmesh.beta\n",
    "    sum_chi_vec[idx] = sum_chi.real\n",
    "    print ''.join('| %4.4E ' % x for x in [U, sum_chi.real, 2*n-n**2]), '|'"
   ]
  },
  {
   "cell_type": "code",
   "execution_count": null,
   "metadata": {},
   "outputs": [],
   "source": [
    "plt.plot(U_vec, sum_chi_vec, '.-', label=r'Tr[$\\chi_{ch} + \\chi_{sp}$]')\n",
    "plt.plot(U_vec, 0*U_vec + 2*n - n**2, 'k-', lw=0.5, label=r'$2n-n^2$')\n",
    "plt.ylim([0.9, 1.2])\n",
    "plt.xlabel(r'$U$')\n",
    "plt.legend()"
   ]
  }
 ],
 "metadata": {
  "kernelspec": {
   "display_name": "Python 2",
   "language": "python",
   "name": "python2"
  },
  "language_info": {
   "codemirror_mode": {
    "name": "ipython",
    "version": 2
   },
   "file_extension": ".py",
   "mimetype": "text/x-python",
   "name": "python",
   "nbconvert_exporter": "python",
   "pygments_lexer": "ipython2",
   "version": "2.7.15"
  }
 },
 "nbformat": 4,
 "nbformat_minor": 2
}
