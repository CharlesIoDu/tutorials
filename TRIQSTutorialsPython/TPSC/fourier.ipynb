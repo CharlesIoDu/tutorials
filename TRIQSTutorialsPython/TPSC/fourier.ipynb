{
 "cells": [
  {
   "cell_type": "markdown",
   "metadata": {},
   "source": [
    "# Fourier -- check"
   ]
  },
  {
   "cell_type": "code",
   "execution_count": null,
   "metadata": {
    "collapsed": false
   },
   "outputs": [],
   "source": [
    "%reload_ext cpp2py.magic"
   ]
  },
  {
   "cell_type": "code",
   "execution_count": null,
   "metadata": {
    "collapsed": false
   },
   "outputs": [],
   "source": [
    "%%cpp2py -C pytriqs\n",
    "#include <triqs/gfs.hpp>\n",
    "using namespace triqs::gfs;\n",
    "\n",
    "// The type of a Green function : (k,omega) -> Complex number\n",
    "using g_k_w_type = gf_view<cartesian_product<brillouin_zone, imfreq>, scalar_valued>;\n",
    "using g_r_t_type = gf<cartesian_product<cyclic_lattice, imtime>, scalar_valued>;\n",
    "\n",
    "g_k_w_type bubble(g_k_w_type g0) {\n",
    "    \n",
    "    // Fourier Transformation of k, \\omega to obtain g(r,t)\n",
    "    auto grt = make_gf_from_fourier<0,1>(g0);\n",
    "    \n",
    "    // The mesh of gtr is a cartesian product mt x mr. We decompose it.\n",
    "    auto [mr, mt] = grt.mesh();\n",
    "    \n",
    "    // The inverse temperature from the mesh\n",
    "    double beta = mt.domain().beta;\n",
    "    \n",
    "    // A new mesh for chi, with a bosonic statistics, but same size as mt.\n",
    "    auto mtb = gf_mesh<imtime>{beta, Boson, mt.size()};\n",
    "    \n",
    "    // Build chi (r, tau) with this new mesh.\n",
    "    auto chi0 = g_r_t_type{{mr, mtb}};\n",
    "\n",
    "    // we fill chi : chi(tau, r) = g(beta - tau, -r) * g(tau, r)\n",
    "    for (auto const &r : mr)      \n",
    "        for (auto const &t : mtb) \n",
    "            chi0[r, t] = grt(-r, beta - t) * grt(r, t); \n",
    "\n",
    "    // Fourier transform back to k, \\omega space and return\n",
    "    return make_gf_from_fourier<0,1>(chi0);\n",
    "}"
   ]
  },
  {
   "cell_type": "code",
   "execution_count": null,
   "metadata": {
    "collapsed": false
   },
   "outputs": [],
   "source": [
    "%%cpp2py -C pytriqs\n",
    "#include <triqs/gfs.hpp>\n",
    "using namespace triqs::gfs;\n",
    "\n",
    "// The type of a Green function : (k,omega) -> Complex number\n",
    "using g_k_w_type = gf_view<cartesian_product<brillouin_zone, imfreq>, scalar_valued>;\n",
    "using g_r_t_type = gf<cartesian_product<cyclic_lattice, imtime>, scalar_valued>;\n",
    "\n",
    "g_r_t_type four(g_k_w_type g) {\n",
    "    \n",
    "    // Fourier Transformation of k, \\omega to obtain g(r,t)\n",
    "    return make_gf_from_fourier<0,1>(g);\n",
    "}"
   ]
  },
  {
   "cell_type": "code",
   "execution_count": null,
   "metadata": {
    "collapsed": true
   },
   "outputs": [],
   "source": [
    "from pytriqs.plot.mpl_interface import plt, oplot\n",
    "import numpy as np\n",
    "from pytriqs.lattice import BravaisLattice, BrillouinZone\n",
    "from pytriqs.gf import MeshBrillouinZone, MeshImFreq, Gf, MeshProduct, Idx\n",
    "from pytriqs.gf import inverse, MeshImTime, MeshCyclicLattice, Fourier, InverseFourier\n",
    "from pytriqs.archive import HDFArchive\n",
    "from scipy.optimize import fsolve"
   ]
  },
  {
   "cell_type": "markdown",
   "metadata": {},
   "source": [
    "## Parameters"
   ]
  },
  {
   "cell_type": "code",
   "execution_count": null,
   "metadata": {
    "collapsed": true
   },
   "outputs": [],
   "source": [
    "beta = 10.\n",
    "mu = 0.0 # Should we adjust to get correct density?\n",
    "\n",
    "t = 1.0\n",
    "tp = 0.175 * t\n",
    "tpp = 0.05 * t\n",
    "\n",
    "#U = 5.75 * t\n",
    "U = 2. * t\n",
    "\n",
    "n_k = 4\n",
    "n_w = 8*1024\n",
    "iGamma = 0.01 * 1j\n",
    "\n",
    "BL = BravaisLattice([(1, 0, 0), (0, 1, 0)])\n",
    "BZ = BrillouinZone(BL)\n",
    "kmesh = MeshBrillouinZone(BZ, n_k = n_k)"
   ]
  },
  {
   "cell_type": "markdown",
   "metadata": {},
   "source": [
    "## Functions"
   ]
  },
  {
   "cell_type": "code",
   "execution_count": null,
   "metadata": {
    "collapsed": true
   },
   "outputs": [],
   "source": [
    "# TODO: put the right dispersion here !!!\n",
    "def eps(kx,ky):\n",
    "    return -2 * t* (np.cos(kx) + np.cos(ky)) - 4*tp*np.cos(kx)*np.cos(ky) # + ......\n",
    "\n",
    "def get_g0(beta):\n",
    "    wmesh = MeshImFreq(beta=beta, S='Fermion', n_max=n_w)\n",
    "    w = np.tensordot(np.ones(n_k*n_k), list(wmesh.values()), 0)\n",
    "    k = np.tensordot(list(kmesh.values()), np.ones(2*n_w), 0)\n",
    "    kx, ky = k[:,0,:], k[:,1,:]\n",
    "\n",
    "    g0 = Gf(mesh = MeshProduct(kmesh, wmesh), target_shape = [])\n",
    "    g0.data[:,:] = 1 / (w - eps(kx,ky) + iGamma)\n",
    "    return g0\n",
    "\n",
    "def get_chi0(g0):    \n",
    "    return bubble(g0)\n",
    "\n",
    "def chi_rpa(chi0_wk, U):\n",
    "    chi_rpa = chi0_kw.copy()\n",
    "    chi_rpa = chi0_kw * inverse(1 - U * chi0_kw)\n",
    "    return chi_rpa"
   ]
  },
  {
   "cell_type": "markdown",
   "metadata": {},
   "source": [
    "## Plot the MDC"
   ]
  },
  {
   "cell_type": "code",
   "execution_count": null,
   "metadata": {
    "collapsed": false
   },
   "outputs": [],
   "source": [
    "g0_kw = get_g0(beta)\n",
    "chi0_kw = get_chi0(g0_kw)\n",
    "chi_sp_kw = chi_rpa(chi0_kw, 2.0)\n",
    "\n",
    "oplot(chi_sp_kw[Idx(2,2,0),:], '-o', x_window=[-10,10])"
   ]
  },
  {
   "cell_type": "code",
   "execution_count": null,
   "metadata": {
    "collapsed": false
   },
   "outputs": [],
   "source": [
    "g = four(chi_sp_kw)\n",
    "oplot(g[Idx(2,2,0),:])"
   ]
  },
  {
   "cell_type": "code",
   "execution_count": null,
   "metadata": {
    "collapsed": true
   },
   "outputs": [],
   "source": []
  }
 ],
 "metadata": {
  "kernelspec": {
   "display_name": "Python 2",
   "language": "python",
   "name": "python2"
  },
  "language_info": {
   "codemirror_mode": {
    "name": "ipython",
    "version": 2
   },
   "file_extension": ".py",
   "mimetype": "text/x-python",
   "name": "python",
   "nbconvert_exporter": "python",
   "pygments_lexer": "ipython2",
   "version": "2.7.6"
  }
 },
 "nbformat": 4,
 "nbformat_minor": 2
}
