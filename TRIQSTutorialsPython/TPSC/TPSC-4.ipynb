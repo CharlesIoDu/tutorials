{
 "cells": [
  {
   "cell_type": "markdown",
   "metadata": {},
   "source": [
    "# Two-particle self consistency (TPSC)\n",
    "\n",
    "Now, we use the Lindhard function to solve the TPSC approximation explained in the lecture notes\n",
    "of André-Marie Tremblay and in the following [review](https://arxiv.org/abs/1107.1534). \n",
    "\n",
    "In TPSC, the vertices for charge and spin fluctuations are different but are still local, i.e. momentum and frequency independent like the bare $U$ in the Hubbard model. This allows conservations laws and the Pauli principle to be satisfied. \n",
    "\n",
    "More specifically, the spin and charge susceptibilities are \n",
    "\n",
    "$$ \\chi_{sp}(\\mathbf{q}, iq_n) \\equiv \\frac{\\chi_0(\\mathbf{q}, iq_n)}{1 - \\frac{U_{sp}}{2} \\chi_0(\\mathbf{q}, iq_n)} $$\n",
    "\n",
    "$$ \\chi_{ch}(\\mathbf{q}, iq_n) \\equiv \\frac{\\chi_0(\\mathbf{q}, iq_n)}{1 + \\frac{U_{ch}}{2} \\chi_0(\\mathbf{q}, iq_n)} $$\n",
    "\n",
    "The sum over all momenta and frequencies of the spin susceptibility gives the equal-time equal-position correlation function. This gives the sum-rule  \n",
    "\n",
    "\\begin{equation}\n",
    "\\frac{T}{N}\\sum_{\\mathbf{q},iq_n} \\chi_{sp}(\\mathbf{q}, iq_n)=\\left< (n_\\uparrow - n_\\downarrow)^2\\right>=n-2\\left< n_\\uparrow n_\\downarrow\\right>\n",
    "\\end{equation}\n",
    "\n",
    "because the Pauli principle requires that $\\left< n_\\uparrow^2\\right>=\\left< n_\\uparrow\\right>$ since the occupation number on a site is either 0 or 1.\n",
    "\n",
    "Substituting the TPSC value of the spin susceptibility, double occupancy and $U_{sp}$ can be determined from\n",
    "\n",
    "\\begin{equation}\n",
    "\\frac{T}{N}\\sum_{\\mathbf{q},iq_n} \\frac{\\chi_0(\\mathbf{q},iq_n)}{1-\\frac{U_{sp}}{2}\\chi_0(\\mathbf{q},iq_n)}=n-2\\left< n_\\uparrow n_\\downarrow\\right>\n",
    "\\end{equation}\n",
    "\n",
    "with the ansatz\n",
    "\n",
    "\\begin{equation}\n",
    "U_{sp}\\left<n_\\uparrow\\right> \\left<n_\\downarrow\\right>=U\\left<n_\\uparrow n_\\downarrow\\right>.\n",
    "\\end{equation}\n",
    "\n",
    "Given the double occupancy, the charge vertex can then be obtained from\n",
    "\n",
    "\\begin{equation}\n",
    "\\frac{T}{N}\\sum_{\\mathbf{q},iq_n} \\frac{\\chi_0(\\mathbf{q},iq_n)}{1+\\frac{U_{cn}}{2}\\chi_0(\\mathbf{q},iq_n)}=n+2\\left< n_\\uparrow n_\\downarrow\\right>-n^2.\n",
    "\\end{equation}\n",
    "\n",
    "Note that the sums over $\\mathbf{q}$ and $i\\omega_n$ can be interpreted as a trace."
   ]
  },
  {
   "cell_type": "code",
   "execution_count": 1,
   "metadata": {},
   "outputs": [],
   "source": [
    "# Imports \n",
    "%matplotlib inline\n",
    "from pytriqs.lattice import BravaisLattice, BrillouinZone\n",
    "from pytriqs.gf import MeshBrillouinZone, MeshImFreq, Gf, MeshProduct, inverse\n",
    "from pytriqs.archive import HDFArchive\n",
    "from pytriqs.plot.mpl_interface import oplot\n",
    "import numpy as np\n",
    "from math import cos, pi\n",
    "\n",
    "import matplotlib.pyplot as plt\n",
    "plt.rcParams[\"figure.figsize\"] = (10,9) # set default size for all figuresfrom pytriqs.archive import HDFArchivefrom pytriqs.gf import Gf, inverse\n",
    "\n",
    "from scipy.optimize import fsolve"
   ]
  },
  {
   "cell_type": "code",
   "execution_count": 2,
   "metadata": {},
   "outputs": [],
   "source": [
    "#reload chi0\n",
    "with HDFArchive(\"tpsc.h5\", 'r') as R:\n",
    "    chi0_kw = R['chi0_kw']"
   ]
  },
  {
   "cell_type": "code",
   "execution_count": 3,
   "metadata": {},
   "outputs": [],
   "source": [
    "def chi_rpa(chi0_kw, U):\n",
    "    \"\"\"Compute chi_rpa from chi\"\"\"\n",
    "    chi = chi0_kw.copy()\n",
    "    return chi * inverse(1 - float(U) * chi)\n",
    "\n",
    "def trace_chi_kw(chi):\n",
    "    \"\"\"Given chi_kw, it computes sum_k sum_\\nu chi(k,\\nu)\"\"\" \n",
    "    kmesh, wmesh = chi.mesh.components\n",
    "    trace = chi.data.sum() / len(kmesh) / wmesh.beta\n",
    "    # v1 : with density, v2 : without, simple sum\n",
    "    #trace1 = sum(chi (k.value, all).density() for k in kmesh)/len(kmesh) \n",
    "    #print \"diff trace \", abs(trace + trace1), trace.real, trace1.real, abs(trace + trace1)/abs(trace)\n",
    "    assert(np.abs(trace.imag) < 1e-10), trace.imag\n",
    "    return trace.real\n",
    "\n",
    "def Usp_root_problem(Usp, chi0, n, U):\n",
    "    \"\"\"Sets the self-consistency for U_sp as the problem of finding roots\"\"\"\n",
    "    tr_chi_sp = trace_chi_kw(chi_rpa(chi0, U=Usp[0]))\n",
    "    diff = 2*tr_chi_sp + 0.5 * Usp/U * n**2 - n\n",
    "    return diff\n",
    "\n",
    "def Uch_root_problem(Uch, chi0, n, U, docc):\n",
    "    \"\"\"Sets the self-consistency for U_ch as the problem of finding roots\"\"\"\n",
    "    tr_chi_ch = trace_chi_kw(chi_rpa(chi0, U=-Uch[0]))\n",
    "    diff = 2*tr_chi_ch - 2 * docc - n + n**2\n",
    "    return diff\n",
    "\n",
    "def solve_Usp_and_Uch(chi0, U, n, Usp0=0.1, Uch0=0.1):\n",
    "    \"\"\"Solves the root problem for U_sp and U_ch and outputs double occupancy as well\"\"\"\n",
    "    Usp = fsolve(Usp_root_problem, Usp0, args=(chi0, n, U), xtol=1e-2)[0]\n",
    "    docc = 0.25 * Usp / U * n**2\n",
    "    Uch = fsolve(Uch_root_problem, Uch0, args=(chi0, n, U, docc), xtol=1e-2)[0]\n",
    "    return Usp, Uch, docc"
   ]
  },
  {
   "cell_type": "markdown",
   "metadata": {},
   "source": [
    "## Reproduce paper figure\n",
    "\n",
    "We want to reproduce the following figure from the\n",
    "__[paper](https://jp1.journaldephysique.org/articles/jp1/abs/1997/11/jp1v7p1309/jp1v7p1309.html)__\n",
    "\n",
    "<img src=\"./img/Fig2.png\" alt=\"Drawing\" style=\"width: 250px;\"/>\n",
    "\n",
    "by calling the function tpsc for a grid of values of the bare U.\n"
   ]
  },
  {
   "cell_type": "code",
   "execution_count": 4,
   "metadata": {},
   "outputs": [
    {
     "name": "stdout",
     "output_type": "stream",
     "text": [
      "| n          | U          | Usp        | Uch        | docc        |\n",
      "-------------------------------------------------------------------\n",
      "| 1.0000E+00 | 3.0000E-01 | 2.9150E-01 | 2.0735E-01 | 2.4292E-01  |\n",
      "| 1.0000E+00 | 5.0000E-01 | 4.7395E-01 | 4.4817E-01 | 2.3698E-01  |\n",
      "| 1.0000E+00 | 7.0000E-01 | 6.4648E-01 | 7.1712E-01 | 2.3089E-01  |\n",
      "| 1.0000E+00 | 9.0000E-01 | 8.0884E-01 | 1.0173E+00 | 2.2468E-01  |\n",
      "| 1.0000E+00 | 1.0000E+00 | 8.8615E-01 | 1.1799E+00 | 2.2154E-01  |\n",
      "| 1.0000E+00 | 2.0000E+00 | 1.5186E+00 | 3.3665E+00 | 1.8983E-01  |\n",
      "| 1.0000E+00 | 3.0000E+00 | 1.9252E+00 | 6.8031E+00 | 1.6043E-01  |\n",
      "| 1.0000E+00 | 4.0000E+00 | 2.1735E+00 | 1.1694E+01 | 1.3585E-01  |\n",
      "| 1.0000E+00 | 5.0000E+00 | 2.3261E+00 | 1.8100E+01 | 1.1631E-01  |\n"
     ]
    }
   ],
   "source": [
    "n = 1.0\n",
    "Usp, Uch = 0.3, 0.3\n",
    "\n",
    "# Initializes a table to store the results\n",
    "U_vec = np.concatenate((np.arange(0.3, 1., 0.2), np.arange(1., 6., 1.)))    \n",
    "Usp_vec, Uch_vec, docc_vec = [np.zeros_like(U_vec) for x in xrange(3)]\n",
    "\n",
    "# Printing the header of the table\n",
    "print ''.join('| %-11s' % s for s in ['n', 'U', 'Usp', 'Uch', 'docc']), '|'\n",
    "print '-'*67\n",
    "\n",
    "# Loop over the different values of bare U\n",
    "for idx, U in enumerate(U_vec):\n",
    "    Usp, Uch, docc = solve_Usp_and_Uch(chi0_kw, U, n, Usp0=Usp, Uch0=Uch)\n",
    "    Usp_vec[idx], Uch_vec[idx], docc_vec[idx] = Usp, Uch, docc\n",
    "    print ''.join('| %4.4E ' % x for x in [n, U, Usp, Uch, docc]), '|'"
   ]
  },
  {
   "cell_type": "markdown",
   "metadata": {},
   "source": [
    "## Make plot and compare with paper results"
   ]
  },
  {
   "cell_type": "code",
   "execution_count": 7,
   "metadata": {},
   "outputs": [
    {
     "data": {
      "image/png": "[encoded data removed]",
      "text/plain": [
       "<Figure size 432x288 with 1 Axes>"
      ]
     },
     "metadata": {},
     "output_type": "display_data"
    }
   ],
   "source": [
    "from matplotlib.image import imread\n",
    "\n",
    "# Some manual adjustements here to overlay the original figure. May change from one\n",
    "# machine to another\n",
    "im = imread(\"img/Fig2.png\")\n",
    "plt.imshow(im, extent=(-0.45, 5.35, -3, 20.5), aspect='auto')\n",
    "plt.plot([0,5,5,0,0],[0,0,20,20,0],'-r')\n",
    "\n",
    "plt.plot(U_vec, Usp_vec, 'o-', label=r'$U_{sp}$', alpha=1, lw=2)\n",
    "plt.plot(U_vec, Uch_vec, 'o-', label=r'$U_{ch}$', alpha=1, lw=2)\n",
    "\n",
    "plt.axis('off');"
   ]
  },
  {
   "cell_type": "markdown",
   "metadata": {},
   "source": [
    "### Note: weakness of RPA\n",
    "\n",
    "Given the above sum rules, note that in TPSC the following sum-rule, a consequence of the Pauli principle, is satisfied:\n",
    "\n",
    "\\begin{equation}\n",
    "\\frac{T}{N}\\sum_{\\mathbf{q},iq_n} \\left (\\frac{\\chi_0(\\mathbf{q},iq_n)}{1-\\frac{U_{sp}}{2}\\chi_0(\\mathbf{q},iq_n)}+\\frac{\\chi_0(\\mathbf{q},iq_n)}{1+\\frac{U_{ch}}{2}\\chi_0(\\mathbf{q},iq_n)}\\right)=2n-n^2.\n",
    "\\end{equation}\n",
    "\n",
    "Note that the right-hand side is independent of interactions.\n",
    "\n",
    "    Compute the same quantity, but in the RPA approximation, \n",
    "    and make a plot of how much RPA violates the Pauli principle."
   ]
  },
  {
   "cell_type": "code",
   "execution_count": 6,
   "metadata": {},
   "outputs": [],
   "source": [
    "## TODO !!\n",
    "# Maybe we can use this in the exam? Good idea if most of them manage to get to this point.  "
   ]
  }
 ],
 "metadata": {
  "kernelspec": {
   "display_name": "Python 2",
   "language": "python",
   "name": "python2"
  },
  "language_info": {
   "codemirror_mode": {
    "name": "ipython",
    "version": 2
   },
   "file_extension": ".py",
   "mimetype": "text/x-python",
   "name": "python",
   "nbconvert_exporter": "python",
   "pygments_lexer": "ipython2",
   "version": "2.7.15"
  }
 },
 "nbformat": 4,
 "nbformat_minor": 2
}
