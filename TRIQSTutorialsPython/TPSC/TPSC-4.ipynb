{
 "cells": [
  {
   "cell_type": "markdown",
   "metadata": {},
   "source": [
    "# Two-particle self consistency (TPSC)\n",
    "\n",
    "$$ \\chi_{sp}(k, i\\omega_n) \\equiv \\frac{\\chi_0(k, i\\omega_n)}{1 - \\frac{U_{sp}}{2} \\chi_0(k, i\\omega_n)} $$\n",
    "\n",
    "$$ \\chi_{ch}(k, i\\omega_n) \\equiv \\frac{\\chi_0(k, i\\omega_n)}{1 + \\frac{U_{ch}}{2} \\chi_0(k, i\\omega_n)} $$\n",
    "\n",
    "$$ \\mathrm{Tr} [ \\chi ] \\equiv \\frac{1}{\\beta N_k} \\sum_{n, k} \\chi(k, i\\omega_n) $$"
   ]
  },
  {
   "cell_type": "code",
   "execution_count": null,
   "metadata": {},
   "outputs": [],
   "source": [
    "from pytriqs.gf import Gf, inverse\n",
    "from pytriqs.archive import HDFArchive\n",
    "import numpy as np\n",
    "with HDFArchive(\"tpsc.h5\", 'r') as R:\n",
    "    chi0_kw = R['chi0_kw']"
   ]
  },
  {
   "cell_type": "code",
   "execution_count": null,
   "metadata": {},
   "outputs": [],
   "source": [
    "from scipy.optimize import fsolve\n",
    "\n",
    "def chi_rpa(chi0_kw, U):\n",
    "    chi = chi0_kw.copy()\n",
    "    chi = chi * inverse(1 - float(U) * chi)\n",
    "    return chi\n",
    "\n",
    "# Should we have some kind of trace in TRIQS?\n",
    "def trace_chi_kw(chi_kw):\n",
    "    kmesh, wmesh = chi_kw.mesh.components\n",
    "    # tail correction FIXME!!!\n",
    "    # We neglect the tail. It is justified at those temperatures\n",
    "    trace = chi_kw.data.sum() / len(kmesh) / wmesh.beta\n",
    "    assert(np.abs(trace.imag) < 1e-10)\n",
    "    return trace.real\n",
    "\n",
    "def Usp_root_problem(Usp, chi0, n, U):\n",
    "    tr_chi_sp = trace_chi_kw(chi_rpa(chi0, U=Usp[0]))\n",
    "    diff = 2*tr_chi_sp + 0.5 * Usp/U * n**2 - n\n",
    "    return diff\n",
    "\n",
    "def Uch_root_problem(Uch, chi0, n, U, docc):\n",
    "    tr_chi_ch = trace_chi_kw(chi_rpa(chi0, U=-Uch[0]))\n",
    "    diff = 2*tr_chi_ch - 2 * docc - n + n**2\n",
    "    return diff\n",
    "\n",
    "def solve_Usp_and_Uch(chi0, U, n, Usp0=0.1, Uch0=0.1):\n",
    "    Usp = fsolve(Usp_root_problem, Usp0, args=(chi0, n, U), xtol=1e-2)[0]\n",
    "    docc = 0.25 * Usp / U * n**2\n",
    "    Uch = fsolve(Uch_root_problem, Uch0, args=(chi0, n, U, docc), xtol=1e-2)[0]\n",
    "    return Usp, Uch, docc"
   ]
  },
  {
   "cell_type": "code",
   "execution_count": null,
   "metadata": {},
   "outputs": [],
   "source": [
    "n = 1.0\n",
    "Usp, Uch = 0.3, 0.3\n",
    "\n",
    "U_vec = np.concatenate((np.arange(0.3, 1., 0.2), np.arange(1., 6., 1.)))    \n",
    "Usp_vec, Uch_vec, docc_vec = [np.zeros_like(U_vec) for x in xrange(3)]\n",
    "\n",
    "print ''.join('| %-11s' % s for s in ['n', 'U', 'Usp', 'Uch', 'docc']), '|'\n",
    "print '-'*67\n",
    "\n",
    "for idx, U in enumerate(U_vec):\n",
    "    Usp, Uch, docc = solve_Usp_and_Uch(chi0_kw, U, n, Usp0=Usp, Uch0=Uch)\n",
    "    Usp_vec[idx], Uch_vec[idx], docc_vec[idx] = Usp, Uch, docc\n",
    "    print ''.join('| %4.4E ' % x for x in [n, U, Usp, Uch, docc]), '|'"
   ]
  },
  {
   "cell_type": "markdown",
   "metadata": {},
   "source": [
    "## Reproduce paper figure\n",
    "\n",
    "We want to reproduce the following figure from the\n",
    "__[paper](https://jp1.journaldephysique.org/articles/jp1/abs/1997/11/jp1v7p1309/jp1v7p1309.html)__\n",
    "\n",
    "<img src=\"./img/Fig2.png\" alt=\"Drawing\" style=\"width: 250px;\"/>\n",
    "\n",
    "by calling the function tpsc for a grid of values of the bare U.\n"
   ]
  },
  {
   "cell_type": "code",
   "execution_count": null,
   "metadata": {},
   "outputs": [],
   "source": [
    "%matplotlib inline\n",
    "from matplotlib.pylab import plt\n",
    "from matplotlib.image import imread\n",
    "\n",
    "\n",
    "plt.figure(figsize=(8,8))\n",
    "\n",
    "# Some manual adjustements here. May change from one\n",
    "# machine to another\n",
    "im = imread(\"img/Fig2.png\")\n",
    "plt.imshow(im, extent=(-0.45, 5.35, -3, 20.5), aspect='auto')\n",
    "plt.plot([0,5,5,0,0],[0,0,20,20,0],'-r')\n",
    "\n",
    "plt.plot(U_vec, Usp_vec, 'o-', label=r'$U_{sp}$', alpha=1, lw=2)\n",
    "plt.plot(U_vec, Uch_vec, 'o-', label=r'$U_{ch}$', alpha=1, lw=2)\n",
    "\n",
    "plt.axis('off')"
   ]
  },
  {
   "cell_type": "markdown",
   "metadata": {},
   "source": [
    "### Note: weakness of RPA\n",
    "\n",
    "Given the above sum rules, note that in TPSC the following sum-rule, a consequence of the Pauli principle, is satisfied:\n",
    "\n",
    "\\begin{equation}\n",
    "\\frac{T}{N}\\sum_{\\mathbf{q},iq_n} \\left (\\frac{\\chi_0(\\mathbf{q},iq_n)}{1-\\frac{U_{sp}}{2}\\chi_0(\\mathbf{q},iq_n)}+\\frac{\\chi_0(\\mathbf{q},iq_n)}{1+\\frac{U_{ch}}{2}\\chi_0(\\mathbf{q},iq_n)}\\right)=2n-n^2.\n",
    "\\end{equation}\n",
    "\n",
    "Note that the right-hand side is independent of interactions.\n",
    "\n",
    "    Compute the same quantity, but in the RPA approximation, \n",
    "    and make a plot of how much RPA violates the Pauli principle."
   ]
  },
  {
   "cell_type": "code",
   "execution_count": null,
   "metadata": {},
   "outputs": [],
   "source": [
    "## TODO !!"
   ]
  },
  {
   "cell_type": "code",
   "execution_count": null,
   "metadata": {},
   "outputs": [],
   "source": []
  }
 ],
 "metadata": {
  "kernelspec": {
   "display_name": "Python 2",
   "language": "python",
   "name": "python2"
  },
  "language_info": {
   "codemirror_mode": {
    "name": "ipython",
    "version": 2
   },
   "file_extension": ".py",
   "mimetype": "text/x-python",
   "name": "python",
   "nbconvert_exporter": "python",
   "pygments_lexer": "ipython2",
   "version": "2.7.12"
  }
 },
 "nbformat": 4,
 "nbformat_minor": 2
}
