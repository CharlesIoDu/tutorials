{
 "cells": [
  {
   "cell_type": "markdown",
   "metadata": {},
   "source": [
    "# Two-particle self consistency (TPSC)\n",
    "\n",
    "$$ \\chi_{sp}(i\\omega_n, k) \\equiv \\frac{\\chi_0(i\\omega_n, k)}{1 - \\frac{U_{sp}}{2} \\chi_0(i\\omega_n, k)} $$\n",
    "\n",
    "$$ \\chi_{ch}(i\\omega_n, k) \\equiv \\frac{\\chi_0(i\\omega_n, k)}{1 + \\frac{U_{ch}}{2} \\chi_0(i\\omega_n, k)} $$\n",
    "\n",
    "$$ \\mathrm{Tr} [ \\chi ] \\equiv \\frac{1}{\\beta N_k} \\sum_{n, k} \\chi(i\\omega_n, k) $$"
   ]
  },
  {
   "cell_type": "code",
   "execution_count": null,
   "metadata": {},
   "outputs": [],
   "source": [
    "# Reload beta, chi  ....\n"
   ]
  },
  {
   "cell_type": "code",
   "execution_count": null,
   "metadata": {},
   "outputs": [],
   "source": [
    "def chi_wk_trace(chi_wk):\n",
    "    wmesh, kmesh = chi_wk.mesh.components\n",
    "    tr_chi_wk = chi_wk.data.sum() / len(kmesh) / wmesh.beta # tail correction FIXME!!!\n",
    "    assert(np.abs(tr_chi_wk.imag) < 1e-10)\n",
    "    return tr_chi_wk.real\n",
    "\n",
    "def Usp_root_problem(Usp, chi0, n, U):\n",
    "\n",
    "    tr_chi_sp = chi_wk_trace(chi_wk_from_U_and_chi0_wk(chi0, U=0.5*Usp))\n",
    "    diff = tr_chi_sp + 0.5 * Usp/U * n**2 - n\n",
    "\n",
    "    return diff\n",
    "\n",
    "def Uch_root_problem(Uch, chi0, n, U, docc):\n",
    "\n",
    "    tr_chi_ch = chi_wk_trace(chi_wk_from_U_and_chi0_wk(chi0, U=-0.5*Uch))\n",
    "    diff = tr_chi_ch - 2 * docc - n + n**2\n",
    "\n",
    "    return diff\n",
    "\n",
    "def solve_Usp_and_Uch(chi0, U, n, Usp0=0.1, Uch0=0.1):\n",
    "\n",
    "    from scipy.optimize import fsolve\n",
    "    \n",
    "    Usp = fsolve(Usp_root_problem, Usp0, args=(chi0, n, U), xtol=1e-2)[0]\n",
    "    docc = 0.25 * Usp / U * n**2        \n",
    "    Uch = fsolve(Uch_root_problem, Uch0, args=(chi0, n, U, docc), xtol=1e-2)[0]\n",
    "\n",
    "    return Usp, Uch, docc"
   ]
  },
  {
   "cell_type": "code",
   "execution_count": null,
   "metadata": {},
   "outputs": [],
   "source": [
    "n = 1.0\n",
    "Usp, Uch = 0.47, 0.37 # Initial guess\n",
    "\n",
    "U_vec = np.concatenate((np.arange(0.3, 1., 0.2), np.arange(1., 6., 1.)))    \n",
    "Usp_vec, Uch_vec, docc_vec = [np.zeros_like(U_vec) for x in xrange(3)]\n",
    "\n",
    "print ''.join('| %-11s' % s for s in ['n', 'U', 'Usp', 'Uch', 'docc']), '|'\n",
    "print '-'*67\n",
    "\n",
    "for idx, U in enumerate(U_vec):\n",
    "    Usp, Uch, docc = solve_Usp_and_Uch(chi0_wk, U, n, Usp0=Usp, Uch0=Uch)\n",
    "    Usp_vec[idx], Uch_vec[idx], docc_vec[idx] = Usp, Uch, docc\n",
    "    print ''.join('| %4.4E ' % x for x in [n, U, Usp, Uch, docc]), '|'"
   ]
  },
  {
   "cell_type": "code",
   "execution_count": null,
   "metadata": {},
   "outputs": [],
   "source": [
    "plt.figure(figsize=(3.25*2, 5))\n",
    "\n",
    "plt.title(r'$\\beta = %2.2f$' % beta)\n",
    "plt.plot(U_vec, Usp_vec, 'o-', label=r'$U_{sp}$', alpha=0.5)\n",
    "plt.plot(U_vec, Uch_vec, 'o-', label=r'$U_{ch}$', alpha=0.5)\n",
    "\n",
    "plt.ylim([0, 20]); plt.xlim([0, 5])\n",
    "plt.legend(loc='best'); plt.xlabel(r'$U$')\n",
    "plt.tight_layout()\n",
    "plt.savefig('figure_Usp_and_Uch_vs_U.pdf')"
   ]
  },
  {
   "cell_type": "markdown",
   "metadata": {},
   "source": [
    "# TPSC and the Mermin-Wagner theorem\n",
    "\n",
    "Temperature sweep for $U=4$\n",
    "\n",
    "Spin structure factor \n",
    "\n",
    "$$S(k) \\equiv \\sum_n \\chi_{sp}(i\\omega_n, k)$$"
   ]
  },
  {
   "cell_type": "code",
   "execution_count": null,
   "metadata": {},
   "outputs": [],
   "source": [
    "U = 4.\n",
    "\n",
    "T_rpa_vec = np.concatenate((np.arange(10., 3., -1.), np.arange(3., 0.75, -0.2)))\n",
    "S_rpa_vec = np.zeros_like(T_rpa_vec)\n",
    "\n",
    "print ''.join('| %-11s' % s for s in ['T', 'beta', 'S_rpa']), '|'\n",
    "print '-'*41\n",
    "\n",
    "for idx, T in enumerate(T_rpa_vec):\n",
    "\n",
    "    beta = 1. / T\n",
    "    g0_wk, g0_wr, g0_tr = get_g0(e_k, beta, mu, n_w, kmesh, rmesh)\n",
    "    chi0_tr, chi0_wr, chi0_wk = get_chi0(g0_tr, n_w, kmesh, rmesh)    \n",
    "\n",
    "    chi_rpa_wk = chi_wk_from_U_and_chi0_wk(chi0_wk, 0.5*U)\n",
    "    \n",
    "    S_rpa = chi_rpa_wk[:, k_pipi].data.sum().real # FIXME: Replace with .density() call\n",
    "    S_rpa_vec[idx] = S_rpa\n",
    "    \n",
    "    print ''.join('| %4.4E ' % x for x in [T, beta, S_rpa]), '|'"
   ]
  },
  {
   "cell_type": "code",
   "execution_count": null,
   "metadata": {},
   "outputs": [],
   "source": [
    "n = 1.\n",
    "U = 4.\n",
    "\n",
    "Usp, Uch = 1., 1. # initial guess\n",
    "\n",
    "T_tpsc_vec = np.array([10., 9., 8., 7., 6., 5., 4., 3., \n",
    "                       2.5, 2.0, 1.5, 1.2, 1.0, \n",
    "                       0.8, 0.6, 0.4, 0.35, 0.3, 0.25])\n",
    "\n",
    "S_tpsc_vec = np.zeros_like(T_tpsc_vec)\n",
    "U_sp_vec = np.zeros_like(T_tpsc_vec)\n",
    "\n",
    "print ''.join('| %-11s' % s for s in ['T', 'beta', 'Usp', 'Uch', 'docc', 'S_tpsc']), '|'\n",
    "print '-'*80\n",
    "\n",
    "for idx, T in enumerate(T_tpsc_vec):\n",
    "\n",
    "    beta = 1. / T    \n",
    "    g0_wk, g0_wr, g0_tr = get_g0(e_k, beta, mu, n_w, kmesh, rmesh)\n",
    "    chi0_tr, chi0_wr, chi0_wk = get_chi0(g0_tr, n_w, kmesh, rmesh)    \n",
    "    \n",
    "    Usp, Uch, docc = solve_Usp_and_Uch(chi0_wk, U, n, Usp0=Usp, Uch0=Uch)\n",
    "    \n",
    "    chi_sp_wk = chi_wk_from_U_and_chi0_wk(chi0_wk, 0.5*Usp)\n",
    "    S_tpsc = chi_sp_wk[:, k_pipi].data.sum().real\n",
    "\n",
    "    S_tpsc_vec[idx], U_sp_vec[idx] = S_tpsc, Usp\n",
    "\n",
    "    print ''.join('| %4.4E ' % x for x in [T, beta, Usp, Uch, docc, S_tpsc]), '|'\n"
   ]
  },
  {
   "cell_type": "code",
   "execution_count": null,
   "metadata": {},
   "outputs": [],
   "source": [
    "plt.figure(figsize=(3.25*2, 5*4))\n",
    "subp = [4, 1, 1]\n",
    "\n",
    "plt.subplot(*subp); subp[-1] += 1\n",
    "plt.title(r'$U = %2.2f$' % U)\n",
    "plt.plot(T_rpa_vec, S_rpa_vec, 'o-', label=r'$S_{RPA}$', alpha=0.5)\n",
    "plt.plot(T_tpsc_vec, S_tpsc_vec, 'o-', label=r'$S_{TPSC}$', alpha=0.5)\n",
    "plt.legend(loc='best')\n",
    "plt.xlabel(r'$T$')\n",
    "\n",
    "plt.subplot(*subp); subp[-1] += 1\n",
    "plt.plot(T_rpa_vec, 1./S_rpa_vec, 'o-', alpha=0.5, label=r'$S_{RPA}^{-1}$')\n",
    "plt.plot(T_tpsc_vec, 1./S_tpsc_vec, 'o-', alpha=0.5, label=r'$S_{TPSC}^{-1}$')\n",
    "plt.legend(loc='best')\n",
    "plt.xlabel(r'$T$'); plt.grid()\n",
    "\n",
    "plt.subplot(*subp); subp[-1] += 1\n",
    "plt.plot(T_rpa_vec, 1./S_rpa_vec, 'o-', alpha=0.5, label=r'$S_{RPA}^{-1}$')\n",
    "plt.plot(T_tpsc_vec, 1./S_tpsc_vec, 'o-', alpha=0.5, label=r'$S_{TPSC}^{-1}$')\n",
    "plt.legend(loc='best'); plt.xlim([0, 2]); plt.ylim([-0.1, 2.5])\n",
    "plt.xlabel(r'$T$'); plt.grid()\n",
    "\n",
    "plt.subplot(*subp); subp[-1] += 1\n",
    "plt.plot(T_rpa_vec, U + 0*T_rpa_vec, 'o-', alpha=0.5, label=r'$U$')\n",
    "plt.plot(T_tpsc_vec, U_sp_vec, 'o-', alpha=0.5, label=r'$U_{sp}$')\n",
    "plt.legend(loc='best')\n",
    "plt.xlabel(r'$T$')\n",
    "\n",
    "plt.tight_layout()\n",
    "plt.savefig('figure_S_TPSC_RPA_vs_T.pdf')"
   ]
  },
  {
   "cell_type": "markdown",
   "metadata": {},
   "source": [
    "# RPA phase boundary\n",
    "\n",
    "While the TPSC fulfills the Mermin-Wagner theorem RPA does not. Instead it predicts an anti-ferro magnetic transition at finite temperature for finite interaction $U$.\n"
   ]
  },
  {
   "cell_type": "code",
   "execution_count": null,
   "metadata": {},
   "outputs": [],
   "source": [
    "Tc_rpa = np.arange(0.01, 1.0, 0.05)\n",
    "Uc_rpa = np.zeros_like(Tc_rpa)\n",
    "\n",
    "for idx, T in enumerate(Tc_rpa):\n",
    "\n",
    "    beta = 1. / T    \n",
    "    g0_wk, g0_wr, g0_tr = get_g0(e_k, beta, mu, n_w, kmesh, rmesh)\n",
    "    chi0_tr, chi0_wr, chi0_wk = get_chi0(g0_tr, n_w, kmesh, rmesh)    \n",
    "        \n",
    "    chi0_w0kpipi = chi0_wk[Idx(0), k_pipi][0, 0].real\n",
    "    Uc = 2.0 / chi0_w0kpipi\n",
    "    Uc_rpa[idx] = Uc\n",
    "    \n",
    "    print 'T, beta, Uc =', T, beta, Uc\n",
    "        "
   ]
  },
  {
   "cell_type": "code",
   "execution_count": null,
   "metadata": {},
   "outputs": [],
   "source": [
    "plt.plot(Uc_rpa, Tc_rpa, '.-')"
   ]
  }
 ],
 "metadata": {
  "kernelspec": {
   "display_name": "Python 2",
   "language": "python",
   "name": "python2"
  },
  "language_info": {
   "codemirror_mode": {
    "name": "ipython",
    "version": 2
   },
   "file_extension": ".py",
   "mimetype": "text/x-python",
   "name": "python",
   "nbconvert_exporter": "python",
   "pygments_lexer": "ipython2",
   "version": "2.7.12"
  }
 },
 "nbformat": 4,
 "nbformat_minor": 2
}
