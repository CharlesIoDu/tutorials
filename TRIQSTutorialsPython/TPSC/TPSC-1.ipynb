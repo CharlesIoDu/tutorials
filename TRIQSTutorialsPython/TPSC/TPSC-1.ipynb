{
 "cells": [
  {
   "cell_type": "markdown",
   "metadata": {},
   "source": [
    "# Two-Particle Self-Consistent approach (TPSC) tutorial\n",
    "\n",
    "This tutorial is done in six steps\n",
    "\n",
    "1. You will first learn how to manipulate multivariable Green's functions. \n",
    "   You will also convince yourself that for nearest-neighbor non-interacting models, the Fermi surface has perfect    nesting(TPSC-1)\n",
    "\n",
    "2. You will compute the Lindhard function for the non-interacting susceptibility (TPSC-2)\n",
    "\n",
    "3. You will then compute the RPA approximation to check the divergence at ($\\pi,\\pi)$ (TPSC-3)\n",
    "\n",
    "4. Renormalized spin and charge vertices in TPSC are computed. RPA does not satisfy the Pauli principle (TPSC-4)\n",
    "   \n",
    "5. The spin susceptibility is computed to show that it does not diverge at finite temperature. (TPSC-5)\n",
    "\n",
    "6. A challenging exercice with the self-energy (hot spots) is left at the end if you have time. (TPSC-6)"
   ]
  },
  {
   "cell_type": "markdown",
   "metadata": {},
   "source": [
    "## Lattice Green function\n",
    "\n",
    "In this notebook, we will first manipulate the Green's function on a square lattice with nearest neighbour hopping $t$, \n",
    "\n",
    "\\begin{equation}\n",
    "G_0(\\mathbf{k},i\\omega_n)=\\frac{1}{i\\omega_n  + \\mu - \\epsilon(\\mathbf{k})}\n",
    "\\end{equation}\n",
    "\n",
    "whose dispersion is $\\epsilon(\\mathbf{k})=-2t(\\cos{k_x}+\\cos{k_y})$, where $\\mathbf{k}$ is a vector in the Brillouin zone (in units where the lattice spacing is unity $a=1$) and $i\\omega_n$ is a Matsubara frequency."
   ]
  },
  {
   "cell_type": "code",
   "execution_count": null,
   "metadata": {
    "collapsed": true
   },
   "outputs": [],
   "source": [
    "# Imports \n",
    "%matplotlib inline\n",
    "from pytriqs.lattice import BravaisLattice, BrillouinZone\n",
    "from pytriqs.gf import Gf, MeshProduct, MeshBrillouinZone, MeshImFreq, Idx\n",
    "from pytriqs.plot.mpl_interface import plt\n",
    "import numpy as np\n",
    "import warnings \n",
    "warnings.filterwarnings(\"ignore\") #ignore some matplotlib warnings\n",
    "from math import cos, pi\n",
    "plt.rcParams[\"figure.figsize\"] = (10,9) # set default size for all figures"
   ]
  },
  {
   "cell_type": "code",
   "execution_count": null,
   "metadata": {
    "collapsed": true
   },
   "outputs": [],
   "source": [
    "# Regroup some parameters of the computation used later\n",
    "beta = 1/0.4 # Inverse temperature\n",
    "t = 1.0      # Hopping   \n",
    "n_k = 128    # Number of points in the Brillouin Zone mesh (for each dimension)\n",
    "n_w = 128    # Number of Matsubara frequencies\n",
    "mu = 0       # Chemical potential"
   ]
  },
  {
   "cell_type": "markdown",
   "metadata": {},
   "source": [
    "## A mesh on a Brillouin Zone\n",
    "\n",
    "We first define a simple Bravais lattice (`BravaisLattice`) in 2 dimensions with basis vectors $\\hat{e}_x = (1, 0, 0)$ and $\\hat{e}_y=(0, 1, 0)$, and given the bravais lattice we construct the reciprocal (momentum) space Brillouin zone (`BrillouinZone`)."
   ]
  },
  {
   "cell_type": "code",
   "execution_count": null,
   "metadata": {
    "collapsed": true
   },
   "outputs": [],
   "source": [
    "BL = BravaisLattice([(1, 0, 0), (0, 1, 0)]) # Two unit vectors in R3\n",
    "BZ = BrillouinZone(BL) "
   ]
  },
  {
   "cell_type": "markdown",
   "metadata": {},
   "source": [
    "The complex valued Green's function $G(\\mathbf{k}, i\\omega_n) $ is represented on the cartesian product mesh : $ (\\mathbf{k} \\times i\\omega_n) \\rightarrow {\\mathcal{C}}$. \n",
    "\n",
    "We construct $G$ by first defining the two separate meshes in momentum space $\\mathbf{k}$ (`MeshBrillouinZone`) and frequency space $i\\omega_n$ (`MeshImFreq`) and then use the `MeshProduct` of these meshes as the mesh for $G(\\mathbf{k}, i\\omega_n)$."
   ]
  },
  {
   "cell_type": "code",
   "execution_count": null,
   "metadata": {},
   "outputs": [],
   "source": [
    "kmesh = MeshBrillouinZone(BZ, n_k=n_k)\n",
    "wmesh = MeshImFreq(beta=beta, S='Fermion', n_max=n_w)\n",
    "\n",
    "g0 = Gf(mesh=MeshProduct(kmesh, wmesh), target_shape=[])  # g0(k,omega), scalar valued"
   ]
  },
  {
   "cell_type": "markdown",
   "metadata": {},
   "source": [
    "To fill the Green's function we construct a function for the dispersion $\\epsilon(\\mathbf{k})$ and set each element of $G$ by looping over the momentum and frequency meshes."
   ]
  },
  {
   "cell_type": "code",
   "execution_count": null,
   "metadata": {},
   "outputs": [],
   "source": [
    "#%%timeit\n",
    "def eps(k):\n",
    "    return -2 * t* (cos(k[0]) + cos(k[1]))\n",
    "\n",
    "# NB : loop is a bit slow in python ...\n",
    "for k in g0.mesh[0]:\n",
    "    for w in g0.mesh[1]:\n",
    "        g0[k, w] = 1/(w - eps(k))"
   ]
  },
  {
   "cell_type": "markdown",
   "metadata": {},
   "source": [
    "## (Optional) More advanced\n",
    "\n",
    "The python is quite slow, as any serious (double !) loop in Python.\n",
    "\n",
    "It is a good opportunity to illustrate a bit the C++ layer of the TRIQS library, \n",
    "using the TRIQS/cpp2py tool to wrap Python and C++ in a simple case.\n",
    "\n",
    "We first import an ipython \"magic\" command `%%cpp2py` :"
   ]
  },
  {
   "cell_type": "code",
   "execution_count": null,
   "metadata": {},
   "outputs": [],
   "source": [
    "%reload_ext cpp2py.magic"
   ]
  },
  {
   "cell_type": "markdown",
   "metadata": {},
   "source": [
    "The function `compute_g0` below is written in C++. \n",
    "It takes a Green's function, and the hopping $t$\n",
    "and does the same computation as above.\n",
    "\n",
    "When executing the \"magic\" cell, the C++ is analysed by the Clang compiler, \n",
    "a wrapping code (to expose it to Python and convert its argument) is generated,\n",
    "compiled. The whole is linked into a module, which is loaded automatically,\n",
    "so the `compute_g0` function is available in Python.\n",
    "\n",
    "`NB : We could show how to acces g0.data to vectorize its initialization`"
   ]
  },
  {
   "cell_type": "code",
   "execution_count": null,
   "metadata": {
    "collapsed": true
   },
   "outputs": [],
   "source": [
    "%%cpp2py -C pytriqs\n",
    "#include <triqs/gfs.hpp>\n",
    "using namespace triqs::gfs;\n",
    "\n",
    "void compute_g0(gf_view<cartesian_product<brillouin_zone, imfreq>, scalar_valued> g, double t) {\n",
    "      for (auto [k,w] : g.mesh()) // loop on points\n",
    "       g[k,w] = 1/(w - (-2)*t *(cos(k[0]) + cos(k[1]))); \n",
    "       // k,w are points on the grid and cast in points on the k mesh, and a Matsubara frequency resp.\n",
    "}"
   ]
  },
  {
   "cell_type": "code",
   "execution_count": null,
   "metadata": {},
   "outputs": [],
   "source": [
    "#%%timeit\n",
    "# we call the function and check that we get the same answer...\n",
    "g0b = Gf(mesh=MeshProduct(kmesh, wmesh), target_shape=[])  # g0(k,omega), scalar valued\n",
    "compute_g0(g0b,t)\n",
    "\n",
    "assert np.amax(np.abs(g0b.data - g0.data)) < 1.e-14, \"It should be the same ...\""
   ]
  },
  {
   "cell_type": "markdown",
   "metadata": {},
   "source": [
    "## Save Green function for later use"
   ]
  },
  {
   "cell_type": "code",
   "execution_count": null,
   "metadata": {
    "collapsed": true
   },
   "outputs": [],
   "source": [
    "from pytriqs.archive import HDFArchive\n",
    "with HDFArchive(\"tpsc.h5\") as R:\n",
    "    R['g0_kw'] = g0"
   ]
  },
  {
   "cell_type": "markdown",
   "metadata": {},
   "source": [
    "## Evaluate the Green function\n",
    "\n",
    "The Green function $g_0(k,i\\omega_n)$ can be evaluated for :\n",
    "\n",
    "- $k$ is a vector of double \n",
    "- $n$ is an integer, the $n$ in $i\\omega_n$\n",
    "\n",
    "The result will be a linear interpolation on the Brillouin zone \n",
    "  with the closest points of $k$ on the grid of $g_0$.\n",
    "\n",
    "One can use $g_0$ as any python function of $k$ and $i\\omega_n$, \n",
    "and forget its precise representation in memory (what is the grid, etc...).\n",
    "This will allows to simply write the plot. \n",
    "\n",
    "\n",
    "Example:"
   ]
  },
  {
   "cell_type": "code",
   "execution_count": null,
   "metadata": {},
   "outputs": [],
   "source": [
    "print g0((pi,pi,0), 2)"
   ]
  },
  {
   "cell_type": "markdown",
   "metadata": {},
   "source": [
    "## For nearest-neighbor model, the Fermi surface is nested\n",
    "\n",
    "### Plot of the momentum distribution curve at the Fermi level\n",
    "\n",
    "The Fermi surface is nested. \n",
    "\n",
    "    What do we mean by that?\n",
    "    What is the nesting vector?"
   ]
  },
  {
   "cell_type": "code",
   "execution_count": null,
   "metadata": {},
   "outputs": [],
   "source": [
    "# take a simple numpy grid (independant of the actual grid of g0)\n",
    "kgrid1d = np.linspace(-np.pi, np.pi, n_k + 1, endpoint=True)  # a linear grid\n",
    "kx, ky = np.meshgrid(kgrid1d, kgrid1d)                      # a 2d grid of points from numpy \n",
    "\n",
    "# To make the matplotlib plot, we need a function kx, ky -> real\n",
    "# so we quickly make two simple ones...\n",
    "\n",
    "# The spectral function vs k at \\omega_0\n",
    "spectral = lambda kx, ky: -g0( (kx,ky,0), 0).imag / pi\n",
    "# The denominator that should vanish at the location of the Fermi surface.\n",
    "fs = lambda kx, ky: (1/g0( (kx,ky,0) , 0)).real\n",
    "\n",
    "# make the color plot\n",
    "plt.figure(figsize=(7,7))\n",
    "plt.pcolor(kx, ky, np.vectorize(spectral)(kx,ky))\n",
    "plt.colorbar()\n",
    "plt.contour(kx, ky, np.vectorize(fs)(kx,ky), levels=[0], colors='white')\n",
    "plt.axes().set_aspect('equal')\n",
    "\n",
    "# Cosmetics\n",
    "plt.xticks([-np.pi, 0, np.pi],[r\"$-\\pi$\", r\"0\", r\"$\\pi$\"])    \n",
    "plt.yticks([-np.pi, 0, np.pi],[r\"$-\\pi$\", r\"0\", r\"$\\pi$\"])\n",
    "plt.xlabel(r\"$k_x$\"); plt.ylabel(r\"$k_y$\")\n",
    "plt.title(\"Momentum distribution curve (MDC) at the Fermi level\");"
   ]
  },
  {
   "cell_type": "markdown",
   "metadata": {},
   "source": [
    "## Partial evaluation\n",
    "\n",
    "Given a function $g(k,\\omega)$, for a given $k_0$, it is possible to obtain\n",
    "the function $\\omega \\rightarrow g(k_0, \\omega)$ :\n"
   ]
  },
  {
   "cell_type": "code",
   "execution_count": null,
   "metadata": {},
   "outputs": [],
   "source": [
    "k0 = (0.02,0.01,0)      # a k point as a tuple of 3 floats\n",
    "gw = g0(k0, all)        # We use the \"built-in\" function all here as equivalent of :, \n",
    "                        # which Python does not permit in ()\n",
    "                        # gw is now a function of $\\omega$ only\n",
    "                        # The result is a linear interpolation in k0\n",
    "            \n",
    "assert gw.mesh == g0.mesh[1]            # The meshes in indeed a simple ImFreq mesh now\n",
    "assert abs(gw(0) - g0(k0, 0)) < 1.e-14  # Partially evaluate the function and use it, or directly evaluate is the same"
   ]
  },
  {
   "cell_type": "markdown",
   "metadata": {},
   "source": [
    "The new function is interpolated linearly for the point $k_0$ on the original Brillouin zone grid."
   ]
  },
  {
   "cell_type": "markdown",
   "metadata": {},
   "source": [
    "## Momentum distribution, $n_k$\n",
    "Using the previous method, plot $n(k)$ along the diagonal of the Brillouin Zone to\n",
    "see the Fermi surface\n"
   ]
  },
  {
   "cell_type": "code",
   "execution_count": null,
   "metadata": {},
   "outputs": [],
   "source": [
    "plt.figure(figsize=(15,7))\n",
    "\n",
    "# function k-> g0(k, :) and take the density, a function seen in a previous tutorial (GfImFreq). \n",
    "# You are plotting the occupation probability in momentumm state k\n",
    "n_of_k = lambda k: g0 ( (k, k,0),all).density().real\n",
    "plt.plot(kgrid1d/pi, np.vectorize(n_of_k)(kgrid1d), '-o')\n",
    "\n",
    "# Internal check, not part of the question\n",
    "# We replot using the point *on the grid* directly.  Idx(k_idx,k_idx,0) is the index of points on the grid \n",
    "if 1: \n",
    "    d = lambda k_idx: g0[Idx(k_idx,k_idx,0),:].density().real \n",
    "    kr = range(n_k/2)\n",
    "    plt.plot([x /(n_k/2.0) for x in kr], np.vectorize(d)(kr), '-x')\n"
   ]
  },
  {
   "cell_type": "code",
   "execution_count": null,
   "metadata": {
    "collapsed": true
   },
   "outputs": [],
   "source": []
  }
 ],
 "metadata": {
  "kernelspec": {
   "display_name": "Python 2",
   "language": "python",
   "name": "python2"
  },
  "language_info": {
   "codemirror_mode": {
    "name": "ipython",
    "version": 2
   },
   "file_extension": ".py",
   "mimetype": "text/x-python",
   "name": "python",
   "nbconvert_exporter": "python",
   "pygments_lexer": "ipython2",
   "version": "2.7.14"
  }
 },
 "nbformat": 4,
 "nbformat_minor": 2
}
