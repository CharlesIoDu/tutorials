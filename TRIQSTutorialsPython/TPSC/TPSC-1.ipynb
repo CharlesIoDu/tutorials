{
 "cells": [
  {
   "cell_type": "markdown",
   "metadata": {},
   "source": [
    "# Two-Particle Self-Consistent approach (TPSC) tutorial\n",
    "\n",
    "This tutorial is done in four steps\n",
    "\n",
    "1. You will first learn how to manipulate multivariable Green's functions . You will also\n",
    "   convince yourself that for nearest-neighbor non-interacting models, the Fermi surface has perfect nesting\n",
    "   (TPSC-1)\n",
    "\n",
    "2. You will compute the Lindhard function for the non-interacting susceptibility (TPSC-2)\n",
    "\n",
    "3. You will then compute the RPA approximation to check the divergence at ($\\pi,\\pi)$ (TPSC-3)\n",
    "\n",
    "4. Renormalized spin and charge vertices in TPSC are computed. (TPSC-4)\n",
    "   The spin susceptibility is computed to show that it does not diverge at finite temperature.\n",
    "\n",
    "5. A challenging exercice with the self-energy is left at the end if you have time. (TPSC-5)"
   ]
  },
  {
   "cell_type": "markdown",
   "metadata": {},
   "source": [
    "## Lattice Green function\n",
    "\n",
    "In this notebook, we will first manipulate the Green's function on a square lattice with nearest neighbour hopping $t$, \n",
    "\n",
    "\\begin{equation}\n",
    "G_0(\\mathbf{k},i\\omega_n)=\\frac{1}{i\\omega_n - \\epsilon(\\mathbf{k})}\n",
    "\\end{equation}\n",
    "\n",
    "whoose dispersion is $\\epsilon(\\mathbf{k})=-2t(\\cos{k_x}+\\cos{k_y})$, where $\\mathbf{k}$ is a vector in the Brillouin zone (in units where the lattice spacing is unity $a=1$) and $i\\omega_n$ is a Matsubara frequency."
   ]
  },
  {
   "cell_type": "code",
   "execution_count": null,
   "metadata": {
    "collapsed": true
   },
   "outputs": [],
   "source": [
    "%matplotlib inline\n",
    "from pytriqs.plot.mpl_interface import plt\n",
    "import numpy as np"
   ]
  },
  {
   "cell_type": "code",
   "execution_count": null,
   "metadata": {
    "collapsed": true
   },
   "outputs": [],
   "source": [
    "beta = 1./0.4\n",
    "t = 1.0 \n",
    "n_k = 128\n",
    "n_w = 128"
   ]
  },
  {
   "cell_type": "markdown",
   "metadata": {},
   "source": [
    "## A mesh on a Brillouin Zone\n",
    "\n",
    "We first define a simple Bravais lattice (`BravaisLattice`) in 2 dimensions with basis vectors $\\hat{e}_x = (1, 0, 0)$ and $\\hat{e}_y=(0, 1, 0)$, and given the bravais lattice we construct the reciprocal (momentum) space Brillouin zone (`BrillouinZone`)."
   ]
  },
  {
   "cell_type": "code",
   "execution_count": null,
   "metadata": {
    "collapsed": true
   },
   "outputs": [],
   "source": [
    "from pytriqs.lattice import BravaisLattice, BrillouinZone\n",
    "BL = BravaisLattice([(1, 0, 0), (0, 1, 0)]) # Two unit vectors in R3\n",
    "BZ = BrillouinZone(BL) "
   ]
  },
  {
   "cell_type": "markdown",
   "metadata": {},
   "source": [
    "The complex valued Green's function $G(\\mathbf{k}, i\\omega_n) $ is represented on the cartesian product mesh : $ (\\mathbf{k} \\times i\\omega_n) \\rightarrow {\\mathcal{C}}$. \n",
    "\n",
    "We construct $G$ by first defining the two separate meshes in momentum space $\\mathbf{k}$ (`MeshBrillouinZone`) and frequency space $i\\omega_n$ (`MeshImFreq`) and then use the `MeshProduct` of these meshes as the mesh for $G(\\mathbf{k}, i\\omega_n)$."
   ]
  },
  {
   "cell_type": "code",
   "execution_count": null,
   "metadata": {
    "collapsed": false
   },
   "outputs": [],
   "source": [
    "from pytriqs.gf import MeshBrillouinZone, MeshImFreq\n",
    "\n",
    "kmesh = MeshBrillouinZone(BZ, n_k=n_k)\n",
    "wmesh = MeshImFreq(beta=beta, S='Fermion', n_max=n_w)\n",
    "\n",
    "from pytriqs.gf import Gf, MeshProduct, Idx\n",
    "\n",
    "g0 = Gf(mesh=MeshProduct(kmesh, wmesh), target_shape=[])\n",
    "\n",
    "print g0"
   ]
  },
  {
   "cell_type": "markdown",
   "metadata": {},
   "source": [
    "To fill the Green's function we construct a function for the dispersion $\\epsilon(\\mathbf{k})$ and set each element of $G$ by looping over the momentum and frequency meshes."
   ]
  },
  {
   "cell_type": "code",
   "execution_count": null,
   "metadata": {
    "collapsed": true
   },
   "outputs": [],
   "source": [
    "def eps(k):\n",
    "    return -2 * t* (np.cos(k[0]) + np.cos(k[1]))\n",
    "\n",
    "# NB : loop is a bit slow in python ...\n",
    "for k in g0.mesh[0]:\n",
    "    for w in g0.mesh[1]:\n",
    "        g0[k, w] = 1/(w - eps(k))"
   ]
  },
  {
   "cell_type": "markdown",
   "metadata": {},
   "source": [
    "## (Optional) More advanced\n",
    "\n",
    "- We could show how to acces g0.data to vectorize its initialization\n",
    "- We could show a first example of Magic here"
   ]
  },
  {
   "cell_type": "markdown",
   "metadata": {},
   "source": [
    "## Save Green function for later use"
   ]
  },
  {
   "cell_type": "code",
   "execution_count": null,
   "metadata": {
    "collapsed": true
   },
   "outputs": [],
   "source": [
    "from pytriqs.archive import HDFArchive\n",
    "with HDFArchive(\"tpsc.h5\") as R:\n",
    "    R['g0_kw'] = g0"
   ]
  },
  {
   "cell_type": "markdown",
   "metadata": {},
   "source": [
    "## For nearest-neighbor model, the Fermi surface is nested\n",
    "\n",
    "### Plot of the momentum distribution curve at the Fermi level\n",
    "\n",
    "The Fermi surface is nested. \n",
    "\n",
    "    What do we mean by that?\n",
    "    What is the nesting vector?"
   ]
  },
  {
   "cell_type": "code",
   "execution_count": null,
   "metadata": {
    "collapsed": false
   },
   "outputs": [],
   "source": [
    "k = np.linspace(-np.pi, np.pi, n_k+1, endpoint=True)\n",
    "kx, ky = np.meshgrid(k, k)\n",
    "\n",
    "spectral = lambda kx, ky: -g0([kx,ky,0],0).imag\n",
    "fs = lambda kx, ky: (1/g0([kx,ky,0],0)).real\n",
    "\n",
    "plt.figure(figsize=(7,7))\n",
    "plt.pcolor(kx, ky, np.vectorize(spectral)(kx,ky))\n",
    "plt.colorbar()\n",
    "plt.contour(kx, ky, np.vectorize(fs)(kx,ky), levels=[0], colors='white')\n",
    "plt.axes().set_aspect('equal')\n",
    "\n",
    "# Cosmetics\n",
    "plt.xticks([-np.pi, 0, np.pi],[r\"$-\\pi$\", r\"0\", r\"$\\pi$\"])    \n",
    "plt.yticks([-np.pi, 0, np.pi],[r\"$-\\pi$\", r\"0\", r\"$\\pi$\"])\n",
    "plt.xlabel(r\"$k_x$\")\n",
    "plt.ylabel(r\"$k_y$\")\n",
    "plt.title(\"Momentum distribution curve (MDC) at the Fermi level\")"
   ]
  },
  {
   "cell_type": "markdown",
   "metadata": {},
   "source": [
    "## Density (TODO)\n",
    "\n",
    "It would be nice to show the density along a diagonal in $k$ to see the signature of the Fermi surface.\n",
    "\n",
    "TODO: use ``closest_mesh_point``"
   ]
  },
  {
   "cell_type": "code",
   "execution_count": null,
   "metadata": {
    "collapsed": false
   },
   "outputs": [],
   "source": [
    "d = lambda k: g0[Idx(k,k,0),:].density().real\n",
    "kr = range(n_k/2)\n",
    "\n",
    "plt.plot(kr, np.vectorize(d)(kr), '-o')"
   ]
  },
  {
   "cell_type": "markdown",
   "metadata": {},
   "source": [
    "## Simple tests (will be removed)"
   ]
  },
  {
   "cell_type": "code",
   "execution_count": null,
   "metadata": {
    "collapsed": false
   },
   "outputs": [],
   "source": [
    "k = np.linspace(0, 2*np.pi, n_k+1, endpoint=True)\n",
    "check = lambda kx, ky: g0([kx,ky,0],0).imag\n",
    "\n",
    "# Should be 0\n",
    "print g0.data.reshape(n_k, n_k, 2*n_w)[:,0,n_w].imag - np.vectorize(check)(k,0)[0:n_k]\n",
    "\n",
    "mf = lambda n : (2*n+1)*np.pi/beta*1j\n",
    "for k in g0.mesh[0]:\n",
    "    assert abs(g0(k.value, 0) - 1/(mf(0) - eps(k)))< 1.e-10"
   ]
  },
  {
   "cell_type": "code",
   "execution_count": null,
   "metadata": {
    "collapsed": true
   },
   "outputs": [],
   "source": []
  }
 ],
 "metadata": {
  "kernelspec": {
   "display_name": "Python 2",
   "language": "python",
   "name": "python2"
  },
  "language_info": {
   "codemirror_mode": {
    "name": "ipython",
    "version": 2
   },
   "file_extension": ".py",
   "mimetype": "text/x-python",
   "name": "python",
   "nbconvert_exporter": "python",
   "pygments_lexer": "ipython2",
   "version": "2.7.6"
  }
 },
 "nbformat": 4,
 "nbformat_minor": 2
}
