{
 "cells": [
  {
   "cell_type": "markdown",
   "metadata": {},
   "source": [
    "# Lattice Green function\n",
    "\n",
    "In this notebook, we will first manipulate a bit the Green function on a lattice, \n",
    "\n",
    "$$ G(k, i\\omega_n) $$\n",
    "where $k$ is a vector in the Brillouin Zone.\n"
   ]
  },
  {
   "cell_type": "code",
   "execution_count": null,
   "metadata": {},
   "outputs": [],
   "source": [
    "%matplotlib inline\n",
    "from pytriqs.plot.mpl_interface import plt\n",
    "import numpy as np\n",
    "from math import cos, pi\n",
    "from pytriqs.lattice import BravaisLattice, BrillouinZone\n",
    "from pytriqs.gf import MeshBrillouinZone, MeshImFreq, Gf, MeshProduct"
   ]
  },
  {
   "cell_type": "code",
   "execution_count": null,
   "metadata": {},
   "outputs": [],
   "source": [
    "beta = 1./0.4\n",
    "#mu = 0.0\n",
    "t = 1.0 \n",
    "\n",
    "#n_k = (8, 8, 1) \n",
    "n_w = 128"
   ]
  },
  {
   "cell_type": "markdown",
   "metadata": {},
   "source": [
    "# A mesh on a Brillouin Zone\n",
    "\n",
    "We first need a simple Bravais Lattice in 2 dimensions,  its corresponding Brillouin Zone and a mesh on it."
   ]
  },
  {
   "cell_type": "code",
   "execution_count": null,
   "metadata": {},
   "outputs": [],
   "source": [
    "# Two unit vectors in R3\n",
    "BL = BravaisLattice([(1, 0, 0), (0, 1, 0)])\n",
    "\n",
    "BZ = BrillouinZone(BL)\n",
    "\n"
   ]
  },
  {
   "cell_type": "markdown",
   "metadata": {},
   "source": [
    "The Green function $$ G(k, i\\omega_n) $$\n",
    "is on a cartesian product mesh : $ (k \\times i\\omega_n) \\rightarrow {\\mathcal{C}}$"
   ]
  },
  {
   "cell_type": "code",
   "execution_count": null,
   "metadata": {},
   "outputs": [],
   "source": [
    "# Construct the Green function\n",
    "\n",
    "# A regular mesh on the BZ with 30 x 30 points\n",
    "kmesh = MeshBrillouinZone(BZ, n_k = 30)\n",
    "\n",
    "# Frequency mesh\n",
    "wmesh = MeshImFreq(beta=beta, S='Fermion', n_max=n_w)\n",
    "\n",
    "g = Gf(mesh = MeshProduct(kmesh, wmesh),target_shape = [])\n",
    "\n",
    "print g, g.rank, g.data.shape\n"
   ]
  },
  {
   "cell_type": "code",
   "execution_count": null,
   "metadata": {},
   "outputs": [],
   "source": [
    "iGamma = 0.01 * 1j\n",
    "\n",
    "def eps(k):\n",
    "    return -2 * t* (cos(k[0]) + cos(k[1]))\n",
    "\n",
    "# NB : loop is a bit slow in python ...\n",
    "for k in g.mesh[0]:\n",
    "    for w in g.mesh[1]:\n",
    "        g[k,w] = 1/(w - eps(k) + iGamma)"
   ]
  },
  {
   "cell_type": "code",
   "execution_count": null,
   "metadata": {},
   "outputs": [],
   "source": [
    "k = [0.0, 0., 0]\n",
    "g(k, 8) "
   ]
  },
  {
   "cell_type": "code",
   "execution_count": null,
   "metadata": {},
   "outputs": [],
   "source": [
    "mf = lambda n : (2*n+1)*pi/beta*1j\n",
    "for k in g.mesh[0]:\n",
    "    assert abs(g(k.value, 0) - 1/(mf(0) - eps(k) + iGamma))< 1.e-14"
   ]
  },
  {
   "cell_type": "code",
   "execution_count": null,
   "metadata": {},
   "outputs": [],
   "source": [
    "# NOW HERE we plot G(k, om)\n",
    "# We show how to slice for fixed k, fixed omega\n",
    "# and make a SIMPLE plot\n",
    "\n",
    "\n",
    "# Fix FIX the evaluator of the GF to be periodic\n",
    "# We use it on a grid on BZ ..."
   ]
  }
 ],
 "metadata": {
  "kernelspec": {
   "display_name": "Python 2",
   "language": "python",
   "name": "python2"
  },
  "language_info": {
   "codemirror_mode": {
    "name": "ipython",
    "version": 2
   },
   "file_extension": ".py",
   "mimetype": "text/x-python",
   "name": "python",
   "nbconvert_exporter": "python",
   "pygments_lexer": "ipython2",
   "version": "2.7.14"
  }
 },
 "nbformat": 4,
 "nbformat_minor": 2
}
