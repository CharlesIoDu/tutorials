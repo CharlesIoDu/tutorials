{
 "cells": [
  {
   "cell_type": "markdown",
   "metadata": {},
   "source": [
    "# Lattice Green function\n",
    "\n",
    "In this notebook, we will first manipulate a bit the Green function on a lattice, \n",
    "\n",
    "$$ G(k, i\\omega_n) $$\n",
    "where $k$ is a vector in the Brillouin Zone.\n"
   ]
  },
  {
   "cell_type": "code",
   "execution_count": null,
   "metadata": {},
   "outputs": [],
   "source": [
    "%matplotlib inline\n",
    "from pytriqs.plot.mpl_interface import plt\n",
    "import numpy as np\n",
    "from math import cos, pi\n",
    "from pytriqs.lattice import BravaisLattice, BrillouinZone\n",
    "from pytriqs.gf import MeshBrillouinZone, MeshImFreq, Gf, MeshProduct, Idx"
   ]
  },
  {
   "cell_type": "code",
   "execution_count": null,
   "metadata": {},
   "outputs": [],
   "source": [
    "beta = 1./0.4\n",
    "t = 1.0 \n",
    "\n",
    "n_k = 64\n",
    "n_w = 128"
   ]
  },
  {
   "cell_type": "markdown",
   "metadata": {},
   "source": [
    "# A mesh on a Brillouin Zone\n",
    "\n",
    "We first need a simple Bravais Lattice in 2 dimensions,  its corresponding Brillouin Zone and a mesh on it."
   ]
  },
  {
   "cell_type": "code",
   "execution_count": null,
   "metadata": {},
   "outputs": [],
   "source": [
    "# Two unit vectors in R3\n",
    "BL = BravaisLattice([(1, 0, 0), (0, 1, 0)])\n",
    "\n",
    "BZ = BrillouinZone(BL)\n",
    "\n"
   ]
  },
  {
   "cell_type": "markdown",
   "metadata": {},
   "source": [
    "The Green function $$ G(k, i\\omega_n) $$\n",
    "is on a cartesian product mesh : $ (k \\times i\\omega_n) \\rightarrow {\\mathcal{C}}$"
   ]
  },
  {
   "cell_type": "code",
   "execution_count": null,
   "metadata": {},
   "outputs": [],
   "source": [
    "# Construct the Green function\n",
    "\n",
    "# A regular mesh on the BZ with 30 x 30 points\n",
    "kmesh = MeshBrillouinZone(BZ, n_k = n_k)\n",
    "\n",
    "# Frequency mesh\n",
    "wmesh = MeshImFreq(beta=beta, S='Fermion', n_max=n_w)\n",
    "\n",
    "g = Gf(mesh = MeshProduct(kmesh, wmesh),target_shape = [])\n",
    "\n",
    "print g, g.rank, g.data.shape\n"
   ]
  },
  {
   "cell_type": "code",
   "execution_count": null,
   "metadata": {},
   "outputs": [],
   "source": [
    "iGamma = 0.01 * 1j\n",
    "\n",
    "def eps(k):\n",
    "    return -2 * t* (cos(k[0]) + cos(k[1]))\n",
    "\n",
    "# NB : loop is a bit slow in python ...\n",
    "for k in g.mesh[0]:\n",
    "    for w in g.mesh[1]:\n",
    "        g[k,w] = 1/(w - eps(k) + iGamma)\n",
    "        "
   ]
  },
  {
   "cell_type": "markdown",
   "metadata": {},
   "source": [
    "## Simple tests"
   ]
  },
  {
   "cell_type": "code",
   "execution_count": null,
   "metadata": {},
   "outputs": [],
   "source": [
    "print g.data.reshape(30,30,256)[:,0,128].imag\n",
    "k = np.linspace(0, 2*np.pi, kmesh.linear_dims[0]+1, endpoint=True)\n",
    "eps2 = lambda kx, ky: g([kx,ky,0],0).imag\n",
    "np.vectorize(eps2)(k,0)[0:30]\n",
    "\n",
    "print g.data.reshape(30,30,256)[:,0,128].imag - np.vectorize(eps2)(k,0)[0:30]"
   ]
  },
  {
   "cell_type": "code",
   "execution_count": null,
   "metadata": {},
   "outputs": [],
   "source": [
    "k = [0.0, 0., 0]\n",
    "g(k, 8) "
   ]
  },
  {
   "cell_type": "code",
   "execution_count": null,
   "metadata": {},
   "outputs": [],
   "source": [
    "mf = lambda n : (2*n+1)*pi/beta*1j\n",
    "for k in g.mesh[0]:\n",
    "    assert abs(g(k.value, 0) - 1/(mf(0) - eps(k) + iGamma))< 1.e-14"
   ]
  },
  {
   "cell_type": "markdown",
   "metadata": {},
   "source": [
    "# 1. For nearest-neighbor model, the Fermi surface is nested\n",
    "\n",
    "## 1.a Definition of the non-interacting Green's function and of a function that plots momentum distribution curves for that Green's function\n",
    "\n",
    "\n",
    "\\begin{equation}\n",
    "G^R(\\mathbf{k},\\omega)=\\frac{1}{\\omega+i\\eta-\\epsilon(\\mathbf{k})}\n",
    "\\end{equation}\n",
    "\n",
    "with, in units where lattice spacing $a=1$,\n",
    "\\begin{equation}\n",
    "\\epsilon(\\mathbf{k})=-2t(\\cos{k_x}+\\cos{k_y})\n",
    "\\end{equation}\n",
    "\n"
   ]
  },
  {
   "cell_type": "markdown",
   "metadata": {},
   "source": [
    "## 1.b Plot of the momentum distribution curve at the Fermi level\n",
    "\n",
    "The Fermi surface is nested. \n",
    "\n",
    "    What do we mean by that?\n",
    "    What is the nesting vector?"
   ]
  },
  {
   "cell_type": "code",
   "execution_count": null,
   "metadata": {},
   "outputs": [],
   "source": [
    "# NOW HERE we plot G(k, om)\n",
    "# We show how to slice for fixed k, fixed omega\n",
    "# and make a SIMPLE plot\n",
    "\n",
    "# Fix FIX the evaluator of the GF to be periodic\n",
    "# We use it on a grid on BZ ...\n",
    "\n",
    "k = np.linspace(-np.pi, np.pi, kmesh.linear_dims[0]+1, endpoint=True)\n",
    "kx, ky = np.meshgrid(k, k)\n",
    "\n",
    "spectral = lambda kx, ky: g([kx,ky,0],0).imag\n",
    "\n",
    "plt.figure()\n",
    "plt.pcolor(kx, ky, np.vectorize(spectral)(kx,ky))"
   ]
  },
  {
   "cell_type": "code",
   "execution_count": null,
   "metadata": {},
   "outputs": [],
   "source": [
    "def plot_mdc(Nk):\n",
    "    \"\"\"\n",
    "    Plot the MDC for a grid with Nk x Nk points\n",
    "    \"\"\"\n",
    "    basis = 2.*np.pi*np.eye(2)\n",
    "    kgrid = np.linspace(0, 1, Nk, endpoint=False)\n",
    "    k = np.meshgrid(*(2*(kgrid,)), indexing='ij')\n",
    "    k = np.tensordot(np.transpose(basis), k, 1)\n",
    "    k = np.rollaxis(k, 0, 3)\n",
    "    G= Green_2D(0.05j, k)\n",
    "    plt.imshow(-np.imag(G)/np.pi, cmap=\"jet\",interpolation=\"nearest\")\n",
    "    plt.xticks([0,Nk/2, Nk],[r\"0\",r\"$\\pi$\",\"$2\\pi$\",])    \n",
    "    plt.yticks([0,Nk/2, Nk],[r\"0\",r\"$\\pi$\",\"$2\\pi$\",])\n",
    "    plt.xlabel(r\"$k_x$\")\n",
    "    plt.ylabel(r\"$k_y$\")\n",
    "    plt.title(\"Momentum distribution curve (MDC) at the Fermi level\")\n",
    "\n"
   ]
  },
  {
   "cell_type": "markdown",
   "metadata": {},
   "source": [
    "## Density"
   ]
  },
  {
   "cell_type": "code",
   "execution_count": null,
   "metadata": {},
   "outputs": [],
   "source": [
    "d = lambda k: g[Idx(k,k,0),:].density().real\n",
    "kr = range(15)\n",
    "\n",
    "plt.plot(kr, np.vectorize(d)(kr), '-o')"
   ]
  }
 ],
 "metadata": {
  "kernelspec": {
   "display_name": "Python 2",
   "language": "python",
   "name": "python2"
  },
  "language_info": {
   "codemirror_mode": {
    "name": "ipython",
    "version": 2
   },
   "file_extension": ".py",
   "mimetype": "text/x-python",
   "name": "python",
   "nbconvert_exporter": "python",
   "pygments_lexer": "ipython2",
   "version": "2.7.12"
  }
 },
 "nbformat": 4,
 "nbformat_minor": 2
}
