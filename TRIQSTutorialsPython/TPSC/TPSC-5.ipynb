{
 "cells": [
  {
   "cell_type": "markdown",
   "metadata": {},
   "source": [
    "# TPSC and the Mermin-Wagner theorem\n",
    "\n",
    "$$ \\chi_{sp}(k, i\\omega_n) \\equiv \\frac{\\chi_0(k, i\\omega_n)}{1 - \\frac{U_{sp}}{2} \\chi_0(k, i\\omega_n)} $$\n",
    "\n",
    "$$ \\chi_{ch}(k, i\\omega_n) \\equiv \\frac{\\chi_0(k, i\\omega_n)}{1 + \\frac{U_{ch}}{2} \\chi_0(k, i\\omega_n)} $$\n",
    "\n",
    "$$ \\mathrm{Tr} [ \\chi ] \\equiv \\frac{1}{\\beta N_k} \\sum_{n, k} \\chi(k, i\\omega_n) $$\n",
    "\n",
    "\n",
    "Temperature sweep for $U=4$\n",
    "\n",
    "Spin structure factor \n",
    "\n",
    "$$S(k) \\equiv \\sum_n \\chi_{sp}(i\\omega_n, k)$$"
   ]
  },
  {
   "cell_type": "code",
   "execution_count": 1,
   "metadata": {},
   "outputs": [],
   "source": [
    "from pytriqs.plot.mpl_interface import plt\n",
    "import numpy as np\n",
    "from math import cos, pi\n",
    "from pytriqs.lattice import BravaisLattice, BrillouinZone\n",
    "from pytriqs.gf import MeshBrillouinZone, MeshImFreq, Gf, MeshProduct, Idx\n",
    "from pytriqs.archive import HDFArchive"
   ]
  },
  {
   "cell_type": "code",
   "execution_count": 4,
   "metadata": {},
   "outputs": [
    {
     "data": {
      "application/javascript": [
       "\n",
       "require(['notebook/js/codecell'], function(codecell) {\n",
       "  codecell.CodeCell.options_default.highlight_modes['text/x-c++src'] = {'reg':[/^%%cpp2py/]};\n",
       "  Jupyter.notebook.events.one('kernel_ready.Kernel', function(){\n",
       "      Jupyter.notebook.get_cells().map(function(cell){\n",
       "          if (cell.cell_type == 'code'){ cell.auto_highlight(); } }) ;\n",
       "  });\n",
       "});\n"
      ]
     },
     "metadata": {},
     "output_type": "display_data"
    }
   ],
   "source": [
    "%reload_ext cpp2py.magic"
   ]
  },
  {
   "cell_type": "code",
   "execution_count": 5,
   "metadata": {},
   "outputs": [],
   "source": [
    "%%cpp2py -C pytriqs\n",
    "#include <triqs/gfs.hpp>\n",
    "using namespace triqs::gfs;\n",
    "\n",
    "// The type of a Green function : (k,omega) -> Complex number\n",
    "using g_k_w_type = gf_view<cartesian_product<brillouin_zone, imfreq>, scalar_valued>;\n",
    "using g_r_t_type = gf<cartesian_product<cyclic_lattice, imtime>, scalar_valued>;\n",
    "\n",
    "g_k_w_type bubble(g_k_w_type g0) {\n",
    "    \n",
    "    // Fourier Transformation of k, \\omega to obtain g(r,t)\n",
    "    auto grt = make_gf_from_fourier<0,1>(g0);\n",
    "    \n",
    "    // The mesh of gtr is a cartesian product mt x mr. We decompose it.\n",
    "    auto [mr, mt] = grt.mesh();\n",
    "    \n",
    "    // The inverse temperature from the mesh\n",
    "    double beta = mt.domain().beta;\n",
    "    \n",
    "    // A new mesh for chi, with a bosonic statistics, but same size as mt.\n",
    "    auto mtb = gf_mesh<imtime>{beta, Boson, mt.size()};\n",
    "    \n",
    "    // Build chi (r, tau) with this new mesh.\n",
    "    auto chi0 = g_r_t_type{{mr, mtb}};\n",
    "\n",
    "    // we fill chi : chi(tau, r) = g(beta - tau, -r) * g(tau, r)\n",
    "    for (auto const &r : mr)      \n",
    "        for (auto const &t : mtb) \n",
    "            chi0[r, t] = grt(-r, beta - t) * grt(r, t); \n",
    "\n",
    "    // Fourier transform back to k, \\omega space and return\n",
    "    return make_gf_from_fourier<0,1>(chi0);\n",
    "}"
   ]
  },
  {
   "cell_type": "code",
   "execution_count": 60,
   "metadata": {},
   "outputs": [],
   "source": [
    "def eps(k):\n",
    "    return -2 * t* (cos(k[0]) + cos(k[1]))\n",
    "\n",
    "def eps2(kx,ky):\n",
    "    return -2 * t* (cos(kx) + cos(ky))\n",
    "\n",
    "t = 1.0\n",
    "n_k = 128\n",
    "n_w = 128\n",
    "iGamma = 0.01 * 1j\n",
    "\n",
    "# Two unit vectors in R3\n",
    "BL = BravaisLattice([(1, 0, 0), (0, 1, 0)])\n",
    "BZ = BrillouinZone(BL)\n",
    "\n",
    "# A regular mesh on the BZ with 30 x 30 points\n",
    "kmesh = MeshBrillouinZone(BZ, n_k = n_k)\n",
    "wmesh = MeshImFreq(beta=beta, S='Fermion', n_max=n_w)\n",
    "\n",
    "# Init g0\n",
    "g0 = Gf(mesh = MeshProduct(kmesh, wmesh),target_shape = [])\n",
    "    \n",
    "def fill_g0(g0, beta):\n",
    "    w = np.tensordot(np.ones(n_k*n_k), list(wmesh.values()), 0)\n",
    "    k = np.tensordot(list(kmesh.values()), np.ones(2*n_w), 0)\n",
    "    g0.data[:,:] = 1 / (w - np.vectorize(eps2)(k[:,0,:], k[:,1,:]) + iGamma)\n",
    "\n",
    "\n",
    "def fill_g0_2(g0, beta):\n",
    "    for k in g0.mesh[0]:\n",
    "        for w in g0.mesh[1]:\n",
    "            g0[k,w] = 1/(w - eps(k) + iGamma)\n",
    "\n",
    "\n",
    "def get_chi0(g0):\n",
    "    return bubble(g0)\n",
    "\n",
    "def chi_rpa(chi0_wk, U):\n",
    "    chi_rpa = chi0_kw.copy()\n",
    "    chi_rpa.data[:,:] = chi0_kw.data[:,:] / (1 - U * chi0_kw.data[:,:])\n",
    "    return chi_rpa"
   ]
  },
  {
   "cell_type": "code",
   "execution_count": 63,
   "metadata": {},
   "outputs": [
    {
     "name": "stdout",
     "output_type": "stream",
     "text": [
      "1 loop, best of 3: 3.19 s per loop\n"
     ]
    }
   ],
   "source": [
    "%%timeit\n",
    "fill_g0(g0, 1)"
   ]
  },
  {
   "cell_type": "code",
   "execution_count": null,
   "metadata": {},
   "outputs": [],
   "source": [
    "%%timeit\n",
    "fill_g0_2(g0, 1)"
   ]
  },
  {
   "cell_type": "code",
   "execution_count": 40,
   "metadata": {},
   "outputs": [
    {
     "data": {
      "text/plain": [
       "(10, 100, 5)"
      ]
     },
     "execution_count": 40,
     "metadata": {},
     "output_type": "execute_result"
    }
   ],
   "source": [
    "a = np.zeros([10,100,5])\n",
    "b = np.roll(a,0)\n",
    "np.swapaxes(a, 1, 2).shape\n",
    "a.shape"
   ]
  },
  {
   "cell_type": "code",
   "execution_count": 10,
   "metadata": {},
   "outputs": [
    {
     "name": "stdout",
     "output_type": "stream",
     "text": [
      "| T          | beta       | S_rpa       |\n",
      "-----------------------------------------\n",
      "| 1.0000E+01 | 1.0000E-01 | 2.6552E-02  |\n",
      "| 9.0000E+00 | 1.1111E-01 | 2.9733E-02  |\n",
      "| 8.0000E+00 | 1.2500E-01 | 3.3785E-02  |\n",
      "| 7.0000E+00 | 1.4286E-01 | 3.9127E-02  |\n",
      "| 6.0000E+00 | 1.6667E-01 | 4.6488E-02  |\n",
      "| 5.0000E+00 | 2.0000E-01 | 5.7283E-02  |\n",
      "| 4.0000E+00 | 2.5000E-01 | 7.4614E-02  |\n",
      "| 3.0000E+00 | 3.3333E-01 | 1.0673E-01  |\n",
      "| 2.8000E+00 | 3.5714E-01 | 1.1666E-01  |\n",
      "| 2.6000E+00 | 3.8462E-01 | 1.2855E-01  |\n",
      "| 2.4000E+00 | 4.1667E-01 | 1.4299E-01  |\n",
      "| 2.2000E+00 | 4.5455E-01 | 1.6084E-01  |\n",
      "| 2.0000E+00 | 5.0000E-01 | 1.8336E-01  |\n"
     ]
    },
    {
     "ename": "KeyboardInterrupt",
     "evalue": "",
     "output_type": "error",
     "traceback": [
      "\u001b[0;31m---------------------------------------------------------------------------\u001b[0m",
      "\u001b[0;31mKeyboardInterrupt\u001b[0m                         Traceback (most recent call last)",
      "\u001b[0;32m<ipython-input-10-2a99ae67dabd>\u001b[0m in \u001b[0;36m<module>\u001b[0;34m()\u001b[0m\n\u001b[1;32m     14\u001b[0m \u001b[0;34m\u001b[0m\u001b[0m\n\u001b[1;32m     15\u001b[0m     \u001b[0mbeta\u001b[0m \u001b[0;34m=\u001b[0m \u001b[0;36m1.\u001b[0m \u001b[0;34m/\u001b[0m \u001b[0mT\u001b[0m\u001b[0;34m\u001b[0m\u001b[0m\n\u001b[0;32m---> 16\u001b[0;31m     \u001b[0mg0_kw\u001b[0m \u001b[0;34m=\u001b[0m \u001b[0mget_g0\u001b[0m\u001b[0;34m(\u001b[0m\u001b[0mbeta\u001b[0m\u001b[0;34m,\u001b[0m \u001b[0mt\u001b[0m\u001b[0;34m,\u001b[0m \u001b[0mn_k\u001b[0m\u001b[0;34m,\u001b[0m \u001b[0mn_w\u001b[0m\u001b[0;34m,\u001b[0m \u001b[0miGamma\u001b[0m\u001b[0;34m)\u001b[0m\u001b[0;34m\u001b[0m\u001b[0m\n\u001b[0m\u001b[1;32m     17\u001b[0m     \u001b[0mchi0_kw\u001b[0m \u001b[0;34m=\u001b[0m \u001b[0mget_chi0\u001b[0m\u001b[0;34m(\u001b[0m\u001b[0mg0_kw\u001b[0m\u001b[0;34m)\u001b[0m\u001b[0;34m\u001b[0m\u001b[0m\n\u001b[1;32m     18\u001b[0m \u001b[0;34m\u001b[0m\u001b[0m\n",
      "\u001b[0;32m<ipython-input-6-87aa24b243fc>\u001b[0m in \u001b[0;36mget_g0\u001b[0;34m(beta, t, n_k, n_w, iGamma)\u001b[0m\n\u001b[1;32m     16\u001b[0m     \u001b[0;32mfor\u001b[0m \u001b[0mk\u001b[0m \u001b[0;32min\u001b[0m \u001b[0mg0\u001b[0m\u001b[0;34m.\u001b[0m\u001b[0mmesh\u001b[0m\u001b[0;34m[\u001b[0m\u001b[0;36m0\u001b[0m\u001b[0;34m]\u001b[0m\u001b[0;34m:\u001b[0m\u001b[0;34m\u001b[0m\u001b[0m\n\u001b[1;32m     17\u001b[0m         \u001b[0;32mfor\u001b[0m \u001b[0mw\u001b[0m \u001b[0;32min\u001b[0m \u001b[0mg0\u001b[0m\u001b[0;34m.\u001b[0m\u001b[0mmesh\u001b[0m\u001b[0;34m[\u001b[0m\u001b[0;36m1\u001b[0m\u001b[0;34m]\u001b[0m\u001b[0;34m:\u001b[0m\u001b[0;34m\u001b[0m\u001b[0m\n\u001b[0;32m---> 18\u001b[0;31m             \u001b[0mg0\u001b[0m\u001b[0;34m[\u001b[0m\u001b[0mk\u001b[0m\u001b[0;34m,\u001b[0m\u001b[0mw\u001b[0m\u001b[0;34m]\u001b[0m \u001b[0;34m=\u001b[0m \u001b[0;36m1\u001b[0m\u001b[0;34m/\u001b[0m\u001b[0;34m(\u001b[0m\u001b[0mw\u001b[0m \u001b[0;34m-\u001b[0m \u001b[0meps\u001b[0m\u001b[0;34m(\u001b[0m\u001b[0mk\u001b[0m\u001b[0;34m)\u001b[0m \u001b[0;34m+\u001b[0m \u001b[0miGamma\u001b[0m\u001b[0;34m)\u001b[0m\u001b[0;34m\u001b[0m\u001b[0m\n\u001b[0m\u001b[1;32m     19\u001b[0m \u001b[0;34m\u001b[0m\u001b[0m\n\u001b[1;32m     20\u001b[0m     \u001b[0;32mreturn\u001b[0m \u001b[0mg0\u001b[0m\u001b[0;34m\u001b[0m\u001b[0m\n",
      "\u001b[0;32m<ipython-input-6-87aa24b243fc>\u001b[0m in \u001b[0;36meps\u001b[0;34m(k)\u001b[0m\n\u001b[1;32m      1\u001b[0m \u001b[0;32mdef\u001b[0m \u001b[0meps\u001b[0m\u001b[0;34m(\u001b[0m\u001b[0mk\u001b[0m\u001b[0;34m)\u001b[0m\u001b[0;34m:\u001b[0m\u001b[0;34m\u001b[0m\u001b[0m\n\u001b[0;32m----> 2\u001b[0;31m     \u001b[0;32mreturn\u001b[0m \u001b[0;34m-\u001b[0m\u001b[0;36m2\u001b[0m \u001b[0;34m*\u001b[0m \u001b[0mt\u001b[0m\u001b[0;34m*\u001b[0m \u001b[0;34m(\u001b[0m\u001b[0mcos\u001b[0m\u001b[0;34m(\u001b[0m\u001b[0mk\u001b[0m\u001b[0;34m[\u001b[0m\u001b[0;36m0\u001b[0m\u001b[0;34m]\u001b[0m\u001b[0;34m)\u001b[0m \u001b[0;34m+\u001b[0m \u001b[0mcos\u001b[0m\u001b[0;34m(\u001b[0m\u001b[0mk\u001b[0m\u001b[0;34m[\u001b[0m\u001b[0;36m1\u001b[0m\u001b[0;34m]\u001b[0m\u001b[0;34m)\u001b[0m\u001b[0;34m)\u001b[0m\u001b[0;34m\u001b[0m\u001b[0m\n\u001b[0m\u001b[1;32m      3\u001b[0m \u001b[0;34m\u001b[0m\u001b[0m\n\u001b[1;32m      4\u001b[0m \u001b[0;32mdef\u001b[0m \u001b[0mget_g0\u001b[0m\u001b[0;34m(\u001b[0m\u001b[0mbeta\u001b[0m\u001b[0;34m,\u001b[0m \u001b[0mt\u001b[0m\u001b[0;34m,\u001b[0m \u001b[0mn_k\u001b[0m\u001b[0;34m,\u001b[0m \u001b[0mn_w\u001b[0m\u001b[0;34m,\u001b[0m \u001b[0miGamma\u001b[0m\u001b[0;34m)\u001b[0m\u001b[0;34m:\u001b[0m\u001b[0;34m\u001b[0m\u001b[0m\n\u001b[1;32m      5\u001b[0m \u001b[0;34m\u001b[0m\u001b[0m\n",
      "\u001b[0;32m/scratch/mferrero/triqs/lib/python2.7/site-packages/pytriqs/gf/mesh_point.pyc\u001b[0m in \u001b[0;36m__getitem__\u001b[0;34m(self, *args)\u001b[0m\n\u001b[1;32m     61\u001b[0m         \u001b[0;32mreturn\u001b[0m \u001b[0mself\u001b[0m\u001b[0;34m.\u001b[0m\u001b[0mvalue\u001b[0m\u001b[0;34m(\u001b[0m\u001b[0;34m*\u001b[0m\u001b[0margs\u001b[0m\u001b[0;34m,\u001b[0m \u001b[0;34m**\u001b[0m\u001b[0mkw\u001b[0m\u001b[0;34m)\u001b[0m\u001b[0;34m\u001b[0m\u001b[0m\n\u001b[1;32m     62\u001b[0m \u001b[0;34m\u001b[0m\u001b[0m\n\u001b[0;32m---> 63\u001b[0;31m     \u001b[0;32mdef\u001b[0m \u001b[0m__getitem__\u001b[0m\u001b[0;34m(\u001b[0m\u001b[0mself\u001b[0m\u001b[0;34m,\u001b[0m \u001b[0;34m*\u001b[0m\u001b[0margs\u001b[0m\u001b[0;34m)\u001b[0m\u001b[0;34m:\u001b[0m\u001b[0;34m\u001b[0m\u001b[0m\n\u001b[0m\u001b[1;32m     64\u001b[0m         \u001b[0;32mreturn\u001b[0m \u001b[0mself\u001b[0m\u001b[0;34m.\u001b[0m\u001b[0mvalue\u001b[0m\u001b[0;34m.\u001b[0m\u001b[0m__getitem__\u001b[0m\u001b[0;34m(\u001b[0m\u001b[0;34m*\u001b[0m\u001b[0margs\u001b[0m\u001b[0;34m)\u001b[0m\u001b[0;34m\u001b[0m\u001b[0m\n\u001b[1;32m     65\u001b[0m \u001b[0;34m\u001b[0m\u001b[0m\n",
      "\u001b[0;31mKeyboardInterrupt\u001b[0m: "
     ]
    }
   ],
   "source": [
    "t = 1.0\n",
    "n_k = 128\n",
    "n_w = 128\n",
    "iGamma = 0.01 * 1j\n",
    "U = 4.\n",
    "\n",
    "T_rpa_vec = np.concatenate((np.arange(10., 3., -1.), np.arange(3., 0.75, -0.2)))\n",
    "S_rpa_vec = np.zeros_like(T_rpa_vec)\n",
    "\n",
    "print ''.join('| %-11s' % s for s in ['T', 'beta', 'S_rpa']), '|'\n",
    "print '-'*41\n",
    "\n",
    "for idx, T in enumerate(T_rpa_vec):\n",
    "\n",
    "    beta = 1. / T\n",
    "    g0_kw = get_g0(beta, t, n_k, n_w, iGamma)\n",
    "    chi0_kw = get_chi0(g0_kw)\n",
    "\n",
    "    chi = chi_rpa(chi0_kw, 0.5*U)\n",
    "    \n",
    "    S_rpa = chi[Idx(64,64,0),:].data.sum().real # FIXME: Replace with .density() call\n",
    "    S_rpa_vec[idx] = S_rpa\n",
    "    \n",
    "    print ''.join('| %4.4E ' % x for x in [T, beta, S_rpa]), '|'"
   ]
  },
  {
   "cell_type": "code",
   "execution_count": 9,
   "metadata": {},
   "outputs": [
    {
     "data": {
      "text/plain": [
       "Green Function  with mesh Brillouin Zone Mesh  with linear dimensions (128 128 1), Domain: Brillouin Zone with repiprocal matrix \n",
       "[[6.28319,0,0]\n",
       " [0,6.28319,0]\n",
       " [0,0,6.28319]], Matsubara Freq Mesh of size 255, Domain: Matsubara domain with beta = 0.1, statistic = Boson, positive_only : 0 and target_rank 0: "
      ]
     },
     "execution_count": 9,
     "metadata": {},
     "output_type": "execute_result"
    }
   ],
   "source": [
    "chi_rpa(chi0_kw, 0.5*U)[]"
   ]
  },
  {
   "cell_type": "code",
   "execution_count": null,
   "metadata": {},
   "outputs": [],
   "source": [
    "n = 1.\n",
    "U = 4.\n",
    "\n",
    "Usp, Uch = 1., 1. # initial guess\n",
    "\n",
    "T_tpsc_vec = np.array([10., 9., 8., 7., 6., 5., 4., 3., \n",
    "                       2.5, 2.0, 1.5, 1.2, 1.0, \n",
    "                       0.8, 0.6, 0.4, 0.35, 0.3, 0.25])\n",
    "\n",
    "S_tpsc_vec = np.zeros_like(T_tpsc_vec)\n",
    "U_sp_vec = np.zeros_like(T_tpsc_vec)\n",
    "\n",
    "print ''.join('| %-11s' % s for s in ['T', 'beta', 'Usp', 'Uch', 'docc', 'S_tpsc']), '|'\n",
    "print '-'*80\n",
    "\n",
    "for idx, T in enumerate(T_tpsc_vec):\n",
    "\n",
    "    beta = 1. / T    \n",
    "    g0_wk, g0_wr, g0_tr = get_g0(e_k, beta, mu, n_w, kmesh, rmesh)\n",
    "    chi0_tr, chi0_wr, chi0_wk = get_chi0(g0_tr, n_w, kmesh, rmesh)    \n",
    "    \n",
    "    Usp, Uch, docc = solve_Usp_and_Uch(chi0_wk, U, n, Usp0=Usp, Uch0=Uch)\n",
    "    \n",
    "    chi_sp_wk = chi_wk_from_U_and_chi0_wk(chi0_wk, 0.5*Usp)\n",
    "    S_tpsc = chi_sp_wk[:, k_pipi].data.sum().real\n",
    "\n",
    "    S_tpsc_vec[idx], U_sp_vec[idx] = S_tpsc, Usp\n",
    "\n",
    "    print ''.join('| %4.4E ' % x for x in [T, beta, Usp, Uch, docc, S_tpsc]), '|'\n"
   ]
  },
  {
   "cell_type": "code",
   "execution_count": null,
   "metadata": {},
   "outputs": [],
   "source": [
    "plt.figure(figsize=(3.25*2, 5*4))\n",
    "subp = [4, 1, 1]\n",
    "\n",
    "plt.subplot(*subp); subp[-1] += 1\n",
    "plt.title(r'$U = %2.2f$' % U)\n",
    "plt.plot(T_rpa_vec, S_rpa_vec, 'o-', label=r'$S_{RPA}$', alpha=0.5)\n",
    "plt.plot(T_tpsc_vec, S_tpsc_vec, 'o-', label=r'$S_{TPSC}$', alpha=0.5)\n",
    "plt.legend(loc='best')\n",
    "plt.xlabel(r'$T$')\n",
    "\n",
    "plt.subplot(*subp); subp[-1] += 1\n",
    "plt.plot(T_rpa_vec, 1./S_rpa_vec, 'o-', alpha=0.5, label=r'$S_{RPA}^{-1}$')\n",
    "plt.plot(T_tpsc_vec, 1./S_tpsc_vec, 'o-', alpha=0.5, label=r'$S_{TPSC}^{-1}$')\n",
    "plt.legend(loc='best')\n",
    "plt.xlabel(r'$T$'); plt.grid()\n",
    "\n",
    "plt.subplot(*subp); subp[-1] += 1\n",
    "plt.plot(T_rpa_vec, 1./S_rpa_vec, 'o-', alpha=0.5, label=r'$S_{RPA}^{-1}$')\n",
    "plt.plot(T_tpsc_vec, 1./S_tpsc_vec, 'o-', alpha=0.5, label=r'$S_{TPSC}^{-1}$')\n",
    "plt.legend(loc='best'); plt.xlim([0, 2]); plt.ylim([-0.1, 2.5])\n",
    "plt.xlabel(r'$T$'); plt.grid()\n",
    "\n",
    "plt.subplot(*subp); subp[-1] += 1\n",
    "plt.plot(T_rpa_vec, U + 0*T_rpa_vec, 'o-', alpha=0.5, label=r'$U$')\n",
    "plt.plot(T_tpsc_vec, U_sp_vec, 'o-', alpha=0.5, label=r'$U_{sp}$')\n",
    "plt.legend(loc='best')\n",
    "plt.xlabel(r'$T$')\n",
    "\n",
    "plt.tight_layout()\n",
    "plt.savefig('figure_S_TPSC_RPA_vs_T.pdf')"
   ]
  },
  {
   "cell_type": "markdown",
   "metadata": {},
   "source": [
    "# RPA phase boundary\n",
    "\n",
    "While the TPSC fulfills the Mermin-Wagner theorem RPA does not. Instead it predicts an anti-ferro magnetic transition at finite temperature for finite interaction $U$.\n"
   ]
  },
  {
   "cell_type": "code",
   "execution_count": null,
   "metadata": {},
   "outputs": [],
   "source": [
    "Tc_rpa = np.arange(0.01, 1.0, 0.05)\n",
    "Uc_rpa = np.zeros_like(Tc_rpa)\n",
    "\n",
    "for idx, T in enumerate(Tc_rpa):\n",
    "\n",
    "    beta = 1. / T    \n",
    "    g0_wk, g0_wr, g0_tr = get_g0(e_k, beta, mu, n_w, kmesh, rmesh)\n",
    "    chi0_tr, chi0_wr, chi0_wk = get_chi0(g0_tr, n_w, kmesh, rmesh)    \n",
    "        \n",
    "    chi0_w0kpipi = chi0_wk[Idx(0), k_pipi][0, 0].real\n",
    "    Uc = 2.0 / chi0_w0kpipi\n",
    "    Uc_rpa[idx] = Uc\n",
    "    \n",
    "    print 'T, beta, Uc =', T, beta, Uc\n",
    "        "
   ]
  },
  {
   "cell_type": "code",
   "execution_count": null,
   "metadata": {},
   "outputs": [],
   "source": [
    "plt.plot(Uc_rpa, Tc_rpa, '.-')"
   ]
  }
 ],
 "metadata": {
  "kernelspec": {
   "display_name": "Python 2",
   "language": "python",
   "name": "python2"
  },
  "language_info": {
   "codemirror_mode": {
    "name": "ipython",
    "version": 2
   },
   "file_extension": ".py",
   "mimetype": "text/x-python",
   "name": "python",
   "nbconvert_exporter": "python",
   "pygments_lexer": "ipython2",
   "version": "2.7.12"
  }
 },
 "nbformat": 4,
 "nbformat_minor": 2
}
