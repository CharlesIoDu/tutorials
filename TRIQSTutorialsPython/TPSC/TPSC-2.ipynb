{
 "cells": [
  {
   "cell_type": "markdown",
   "metadata": {},
   "source": [
    "# Lindhardt susceptibility $\\chi_0$ for a non interacting electron gas\n",
    "\n",
    "\n",
    "The Lindhard function is defined by the equation\n",
    "\n",
    "\\begin{equation}\n",
    "  \\chi_0(\\mathbf{q}, i\\omega_n) = \n",
    "    -\\frac{1}{\\beta N}\\sum_{\\mathbf{k}, m} \n",
    "    G_0(\\mathbf{k}, i\\nu_m)G_0(\\mathbf{k}+\\mathbf{q}, i\\omega_n + i\\nu_m) \n",
    "\\end{equation}\n",
    "\n",
    "where $\\mathbf{q}$ and $\\mathbf{k}$ are momenta and $i\\omega_n$ and $i\\nu_m$ are Bosonic and Fermionic Matsubara frequencies, respectively.\n",
    "\n",
    "Since the equation is a convolution in both momentum and frequency space the calculation can be done in fewer operations by Fourier transforming to imaginary time $\\tau$ and real space $\\mathbf{r}$ for the Green's function, using fast Fourier transforms (FFT) to compute\n",
    "\n",
    "$$\n",
    "G_0(\\mathbf{r}, \\tau) = \n",
    "  \\mathcal{F}_{\\{\\mathbf{k}, i\\nu_m\\} \\rightarrow \\{\\mathbf{r}, \\tau\\}} \n",
    "  \\big\\{ G_0(\\mathbf{k}, i\\omega_n) \\big\\}\n",
    "$$\n",
    "\n",
    "in real space $\\mathbf{r}$ and imaginary time $\\tau$ the convolution for $\\chi_0$ is a simple product (since it corresponds to a simple bubble diagram with a particle-hole excitation)\n",
    "\n",
    "$$\n",
    "\\chi_0(\\mathbf{r},\\tau) = G_0(\\mathbf{r},\\tau)G_0(-\\mathbf{r},\\beta -\\tau)\n",
    "$$\n",
    "\n",
    "and finally one goes back to momentum and Matsubara frequency by two more fast Fourier transforms\n",
    "\n",
    "$$ \n",
    "  \\chi_0(i\\omega_n, k) \\equiv \n",
    "  \\mathcal{F}_{\\{\\mathbf{r},\\tau\\} \\rightarrow \\{\\mathbf{k}, i\\omega_n\\}} \n",
    "  \\big\\{ \\chi_0(\\mathbf{r}, \\tau) \\big\\}\n",
    "$$\n",
    "\n",
    "Q: **How many operations are saved by using fast Fourier transforms rather than evaluating the convolutions?**\n",
    "\n",
    "Q: **At what momenta $\\mathbf{k}$ does the susceptibility $\\chi_0$ have a maxima at zero frequency?**\n",
    "\n",
    "Q: **How is the postiion of that maximum related to the Fermi surface?**\n",
    "\n",
    "Q: **Can you plot the function at different temperatures and understand what happens physically?**\n",
    "   "
   ]
  },
  {
   "cell_type": "markdown",
   "metadata": {},
   "source": [
    "## Computing $\\chi_0$ in C++"
   ]
  },
  {
   "cell_type": "markdown",
   "metadata": {},
   "source": [
    "While it is possible to compute $\\chi_0$ in Python, it is relatively slow, due to the required double loop over $r$ and $\\tau$. \n",
    "\n",
    "Here we illustrate the C++ layer of the `TRIQS` library, using the `TRIQS/cpp2py` tool to wrap Python and C++\n",
    "in a simple case.\n",
    "\n",
    "The function bubble below computes the Lindhardt function performing the three steps described above.\n",
    "\n",
    "The following cell compiles the function \"bubble\" in C++, exposes (\"wraps\") it to Python and loads it\n",
    "in the current scope."
   ]
  },
  {
   "cell_type": "code",
   "execution_count": null,
   "metadata": {
    "collapsed": false
   },
   "outputs": [],
   "source": [
    "%reload_ext cpp2py.magic"
   ]
  },
  {
   "cell_type": "markdown",
   "metadata": {},
   "source": [
    "May take a few seconds to compile ..."
   ]
  },
  {
   "cell_type": "code",
   "execution_count": null,
   "metadata": {
    "collapsed": true
   },
   "outputs": [],
   "source": [
    "%%cpp2py -C pytriqs\n",
    "#include <triqs/gfs.hpp>\n",
    "using namespace triqs::gfs;\n",
    "\n",
    "// The type of a Green function : (k,omega) -> Complex number\n",
    "using g_k_w_type = gf_view<cartesian_product<brillouin_zone, imfreq>, scalar_valued>;\n",
    "using g_r_t_type = gf<cartesian_product<cyclic_lattice, imtime>, scalar_valued>;\n",
    "\n",
    "g_k_w_type bubble(g_k_w_type g0) {\n",
    "    \n",
    "    // Fourier Transformation of k, \\omega to obtain g(r,t)\n",
    "    auto grt = make_gf_from_fourier<0,1>(g0);\n",
    "    \n",
    "    // The mesh of gtr is a cartesian product mt x mr. We decompose it.\n",
    "    auto [mr, mt] = grt.mesh();\n",
    "    \n",
    "    // The inverse temperature from the mesh\n",
    "    double beta = mt.domain().beta;\n",
    "    \n",
    "    // A new mesh for chi, with a bosonic statistics, but same size as mt.\n",
    "    auto mtb = gf_mesh<imtime>{beta, Boson, mt.size()};\n",
    "    \n",
    "    // Build chi (r, tau) with this new mesh.\n",
    "    auto chi0 = g_r_t_type{{mr, mtb}};\n",
    "\n",
    "    // we fill chi : chi(tau, r) = g(beta - tau, -r) * g(tau, r)\n",
    "    for (auto const &r : mr)      \n",
    "        for (auto const &t : mtb) \n",
    "            chi0[r, t] = grt(-r, beta - t) * grt(r, t); \n",
    "\n",
    "    // Fourier transform back to k, \\omega space and return\n",
    "    return make_gf_from_fourier<0,1>(chi0);\n",
    "}"
   ]
  },
  {
   "cell_type": "markdown",
   "metadata": {},
   "source": [
    "## Static Lindhardt susceptibility $\\chi_0(k, \\omega=0)$\n",
    "\n",
    "The square lattice with nearest-neighbour hopping $t$ has a property called \"perfect nesting\", meaning that large parts of the fermi surface are wrapped on-to each other by a single momentum transfer $\\mathbf{k}_{nesting}$, where $\\mathbf{k}_{nesting}$ is called the \"nesting vector\". \n",
    "\n",
    "Go back to the fermi-surface polot of $\\epsilon(\\mathbf{k})$ and determine this peculiar momentum vector.\n",
    "\n",
    "The \"perfect nesting\" greatly enhances the particle-hole susceptibility $\\chi_0$ of the system and the Static Lindhardt susceptibility $\\chi_0(\\mathbf{k}, \\omega=0)$ has a dominant peak at this momentum."
   ]
  },
  {
   "cell_type": "markdown",
   "metadata": {},
   "source": [
    "TODO : \n",
    "- Physics discussion ?"
   ]
  },
  {
   "cell_type": "markdown",
   "metadata": {},
   "source": [
    "## Load single-particle Green's function $G_0(\\mathbf{k}, i\\omega_n)$"
   ]
  },
  {
   "cell_type": "code",
   "execution_count": null,
   "metadata": {
    "collapsed": true
   },
   "outputs": [],
   "source": [
    "from pytriqs.gf import MeshBrillouinZone, MeshImFreq, Gf, MeshProduct, Idx\n",
    "from pytriqs.archive import HDFArchive\n",
    "\n",
    "with HDFArchive(\"tpsc.h5\",'r') as R:\n",
    "    g0 = R['g0_kw']"
   ]
  },
  {
   "cell_type": "markdown",
   "metadata": {},
   "source": [
    "## Compute the Lindhardt susceptibility $\\chi_0(\\mathbf{k}, i\\omega_n)$\n",
    "\n",
    "Maybe ask to plot it vs Matsubara frequencies to see that at those temperatures it is essentially\n",
    "non-zero only very close to 0."
   ]
  },
  {
   "cell_type": "code",
   "execution_count": null,
   "metadata": {
    "collapsed": false
   },
   "outputs": [],
   "source": [
    "chi0_kw = bubble(g0)\n",
    "print chi0_kw"
   ]
  },
  {
   "cell_type": "markdown",
   "metadata": {},
   "source": [
    "### Structure in Matsubara frequency $i\\omega_n$\n",
    "\n",
    "Check that the Matsubara frequency window used $n_w$ is sufficient to capture the frequency dependence of $\\chi_0(\\mathbf{k}, i\\omega_n)$ by plotting it for some momentum $\\mathbf{k}$"
   ]
  },
  {
   "cell_type": "code",
   "execution_count": null,
   "metadata": {
    "collapsed": false
   },
   "outputs": [],
   "source": [
    "from pytriqs.plot.mpl_interface import oplot\n",
    "oplot(chi0_kw[Idx(0, 0, 0), :])\n",
    "oplot(chi0_kw[Idx(10, 0, 0), :])\n",
    "oplot(chi0_kw[Idx(100, 0, 0), :])"
   ]
  },
  {
   "cell_type": "markdown",
   "metadata": {},
   "source": [
    "## Save the bubble for later use"
   ]
  },
  {
   "cell_type": "code",
   "execution_count": null,
   "metadata": {
    "collapsed": true
   },
   "outputs": [],
   "source": [
    "from pytriqs.archive import HDFArchive\n",
    "with HDFArchive(\"tpsc.h5\") as R:\n",
    "    R['chi0_kw'] = chi0_kw"
   ]
  },
  {
   "cell_type": "markdown",
   "metadata": {},
   "source": [
    "## Plot the suscptibility"
   ]
  },
  {
   "cell_type": "code",
   "execution_count": null,
   "metadata": {
    "collapsed": false
   },
   "outputs": [],
   "source": [
    "%matplotlib inline\n",
    "from pytriqs.plot.mpl_interface import plt\n",
    "import numpy as np\n",
    "\n",
    "nk = g0.mesh[0].linear_dims[0]+1\n",
    "k = np.linspace(0, 2*np.pi, nk, endpoint=True)\n",
    "kx, ky = np.meshgrid(k, k)\n",
    "\n",
    "chi = lambda kx, ky: chi0_kw([kx,ky,0],0).real\n",
    "\n",
    "# 2d plot\n",
    "plt.figure(figsize=(3.25*2, 5))\n",
    "plt.title('Static Lindhardt susceptibility $\\chi_0(k, \\omega=0)$')\n",
    "plt.pcolor(kx, ky, np.vectorize(chi)(kx,ky))\n",
    "plt.xlim(0, 2*np.pi)\n",
    "plt.ylim(0, 2*np.pi)\n",
    "plt.xticks([0, np.pi, 2*np.pi],[r\"0\",r\"$\\pi$\",r\"$2\\pi$\"])    \n",
    "plt.yticks([0, np.pi, 2*np.pi],[r\"0\",r\"$\\pi$\",r\"$2\\pi$\"])\n",
    "plt.colorbar()\n",
    "plt.tight_layout()\n",
    "plt.xlabel(r'$k_x$')\n",
    "plt.ylabel(r'$k_y$')\n",
    "\n",
    "\n",
    "# Here is a 3d plot. With \"matplotlib inline\" one cannot interact\n",
    "from mpl_toolkits.mplot3d import axes3d, Axes3D\n",
    "fig = plt.figure()\n",
    "ax = Axes3D(fig)\n",
    "ax.plot_surface(kx, ky, np.vectorize(chi)(kx,ky), cmap=\"jet\")\n",
    "ax.set_xlabel(r\"$k_x$\")\n",
    "ax.set_ylabel(r\"$k_y$\")\n",
    "ax.set_zlabel(r\"$\\chi^{0}$\")"
   ]
  },
  {
   "cell_type": "markdown",
   "metadata": {},
   "source": [
    "## Static susceptibility $\\chi_0(\\mathbf{k}, \\omega=0)$ along high symmetry paths in the Brillouin zone\n",
    "\n",
    "The static susceptibility along the high-symmetry path $\\Gamma-X-M-\\Gamma$ shows a dramatic enhancement at $\\mathbf{k} = (\\pi, \\pi)$ due to the perfectly nested Fermi surface."
   ]
  },
  {
   "cell_type": "code",
   "execution_count": null,
   "metadata": {
    "collapsed": false
   },
   "outputs": [],
   "source": [
    "from k_space_viz import k_space_path\n",
    "\n",
    "G = np.array([0, 0, 0])\n",
    "X = np.array([1, 1, 0]) * np.pi\n",
    "M = np.array([1, 0, 0]) * np.pi\n",
    "\n",
    "k_vecs, k_plot, K_plot = k_space_path([(G, X), (X, M), (M, G)])\n",
    "kx, ky, kz = k_vecs.T\n",
    "\n",
    "plt.figure(figsize=(6,4))\n",
    "plt.title('Static Lindhardt susceptibility $\\chi_0(k,\\omega=0)$')\n",
    "plt.plot(k_plot, np.vectorize(chi)(kx, ky))\n",
    "\n",
    "plt.grid(); plt.axes().set_xticks(K_plot)\n",
    "plt.xlim([K_plot.min(), K_plot.max()])\n",
    "plt.axes().set_xticklabels([r'$\\Gamma$',r'$X$',r'$M$',r'$\\Gamma$']);\n",
    "plt.ylabel(r'$\\chi_0(k,\\omega=0)$')\n",
    "plt.tight_layout()\n",
    "#plt.savefig('figure_chi0_k_bandpath.pdf')"
   ]
  },
  {
   "cell_type": "code",
   "execution_count": null,
   "metadata": {
    "collapsed": true
   },
   "outputs": [],
   "source": []
  }
 ],
 "metadata": {
  "kernelspec": {
   "display_name": "Python 2",
   "language": "python",
   "name": "python2"
  },
  "language_info": {
   "codemirror_mode": {
    "name": "ipython",
    "version": 2
   },
   "file_extension": ".py",
   "mimetype": "text/x-python",
   "name": "python",
   "nbconvert_exporter": "python",
   "pygments_lexer": "ipython2",
   "version": "2.7.6"
  }
 },
 "nbformat": 4,
 "nbformat_minor": 2
}
