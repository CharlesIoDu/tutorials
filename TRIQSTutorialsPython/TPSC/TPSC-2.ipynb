{
 "cells": [
  {
   "cell_type": "markdown",
   "metadata": {},
   "source": [
    "# Lindhardt susceptibility $\\chi_0$ for a non interacting electron gas\n",
    "\n",
    "\n",
    "The Lindhard function is defined by the following equation where, for short cut, $q=(\\mathbf{q},iq_n)$ with $iq_n$ bosonic Matsubara frequencies and $k=(\\mathbf{k},ik_n)$ with $ik_n$ fermionic Matsubara frequencies\n",
    "\n",
    "\\begin{equation}\n",
    "\\chi_0(q)=-2\\frac{T}{N}\\sum_{k} G_0(k)G_0(k+q) \n",
    "\\end{equation}\n",
    "\n",
    "This has the form of a convolution. So, to speed up the calculation, the evaluation is done by going to imaginary time and lattice positions for the Green's function with fast Fourier transforms (FFT) and performing the product\n",
    "\n",
    "\\begin{equation}\n",
    "\\chi_0(\\mathbf{r},\\tau)=G_0(\\mathbf{r},\\tau)G_0(-\\mathbf{r},-\\tau)\n",
    "\\end{equation}\n",
    "\n",
    "One finally goes back to momentum and Matsubara frequency space by fast Fourier transforms on $\\chi(\\mathbf{r},\\tau)$\n",
    "\n",
    "NOTE: One also often denotes the Lindhard function by $\\Pi$, the polarisation. This is the convention in the code.\n",
    "\n",
    "    How many operations are saved by using this trick of fast Fourier transforms?\n",
    "    At what wavevector is the maximum of the Lindhard function at zero frequency?\n",
    "    How is the postiion of that maximum related to the Fermi surface?\n",
    "    Can you plot the function at different temperatures and understand what happens physically?\n",
    "    What happens if you increase U?\n",
    "    \n",
    "\n",
    "\n",
    "The two-particle response of the non-interacting system is given by the Lindhardt susceptibility $\\chi_0$. Diagrammatically it is a bubble diagram of two single-particle Green's function, that is most efficiently evaluated in imaginary time.\n",
    "\n",
    "$$ \\chi_0(\\tau, r) \\equiv 2 g_0(\\tau, r) g_0(\\beta - \\tau, -r) $$\n",
    "\n",
    "after evaluating the imaginary time bubble we transform $\\chi_0$ back to momentum and frequency space, i.e.\n",
    "\n",
    "\n",
    "$$ \\chi_0(i\\omega_n, r) \\equiv \\mathcal{F}_{\\tau \\rightarrow i\\omega_n} \\big\\{ \\chi_0(\\tau, r) \\big\\}$$\n",
    "\n",
    "$$ \\chi_0(i\\omega_n, k) \\equiv \\mathcal{F}_{r \\rightarrow k} \\big\\{ \\chi_0(i\\omega_n, r) \\big\\}$$\n"
   ]
  },
  {
   "cell_type": "markdown",
   "metadata": {},
   "source": [
    "## The bubble calculation in C++"
   ]
  },
  {
   "cell_type": "markdown",
   "metadata": {},
   "source": [
    "While it is possible to do this computation in pure Python, it is relatively slow, due to the double loop in $r$ and $\\tau$. \n",
    "\n",
    "Here we illustrate the C++ layer of the TRIQS library, using the TRIQS/cpp2py tool to wrap Python and C++\n",
    "in a simple case.\n",
    "\n",
    "The function bubble below computes the Lindhardt function from Eq (XX).\n",
    "The following cell compiles the function \"bubble\" in C++, exposes (\"wraps\") it to Python and loads it\n",
    "in the current scope.\n"
   ]
  },
  {
   "cell_type": "code",
   "execution_count": null,
   "metadata": {
    "collapsed": false
   },
   "outputs": [],
   "source": [
    "%reload_ext cpp2py.magic"
   ]
  },
  {
   "cell_type": "markdown",
   "metadata": {},
   "source": [
    "May take a few seconds to compile ..."
   ]
  },
  {
   "cell_type": "code",
   "execution_count": null,
   "metadata": {
    "collapsed": false
   },
   "outputs": [],
   "source": [
    "%%cpp2py -C pytriqs\n",
    "#include <triqs/gfs.hpp>\n",
    "using namespace triqs::gfs;\n",
    "\n",
    "// The type of a Green function : (k,omega) -> Complex number\n",
    "using g_k_w_type = gf_view<cartesian_product<brillouin_zone, imfreq>, scalar_valued>;\n",
    "using g_r_t_type = gf<cartesian_product<cyclic_lattice, imtime>, scalar_valued>;\n",
    "\n",
    "g_k_w_type bubble(g_k_w_type g0) {\n",
    "    \n",
    "    // Fourier Transformation of k, \\omega to obtain g(r,t)\n",
    "    auto grt = make_gf_from_fourier<0,1>(g0);\n",
    "    \n",
    "    // The mesh of gtr is a cartesian product mt x mr. We decompose it.\n",
    "    auto [mr, mt] = grt.mesh();\n",
    "    \n",
    "    // The inverse temperature from the mesh\n",
    "    double beta = mt.domain().beta;\n",
    "    \n",
    "    // A new mesh for chi, with a bosonic statistics, but same size as mt.\n",
    "    auto mtb = gf_mesh<imtime>{beta, Boson, mt.size()};\n",
    "    \n",
    "    // Build chi (r, tau) with this new mesh.\n",
    "    auto chi0 = g_r_t_type{{mr, mtb}};\n",
    "\n",
    "    // we fill chi : chi(tau, r) = g(beta - tau, -r) * g(tau, r)\n",
    "    for (auto const &r : mr)      \n",
    "        for (auto const &t : mtb) \n",
    "            chi0[r, t] = grt(-r, beta - t) * grt(r, t); \n",
    "\n",
    "    // Fourier transform back to k, \\omega space and return\n",
    "    return make_gf_from_fourier<0,1>(chi0);\n",
    "}"
   ]
  },
  {
   "cell_type": "markdown",
   "metadata": {},
   "source": [
    "## Static Lindhardt susceptibility $\\chi_0(k, \\omega=0)$\n",
    "\n",
    "The square lattice with only nearest-neighbour hopping $t$ has a property of \"perfect nesting\", meaning that large parts of the fermi surface are wrapped on-to each other by a single momentum transfer $k$. Go back to the fermi-surface polot of $\\epsilon_k$ and determine this peculiar momentum vector.\n",
    "\n",
    "The \"perfect nesting\" greatly enhances the particle-hole susceptibility of the system and the Static Lindhardt susceptibility $\\chi_0(\\omega=0, k)$ has a dominant peak at this momentum."
   ]
  },
  {
   "cell_type": "markdown",
   "metadata": {},
   "source": [
    "TODO : \n",
    "\n",
    "- Grab the Gf from HDF5 (to pass from a notebook to the next and keep the notebook simple !)\n",
    "\n",
    "- Call Lindhard to obtain chi(q, omega)\n",
    "\n",
    "- Plot chi(k, 0) with a slice\n",
    "  and other plots.\n",
    "  \n",
    "- We save the function in HDF5 for later reuse.  \n",
    "  \n",
    "- Physics discussion ?"
   ]
  },
  {
   "cell_type": "markdown",
   "metadata": {},
   "source": [
    "## Load previous G0"
   ]
  },
  {
   "cell_type": "code",
   "execution_count": null,
   "metadata": {
    "collapsed": false
   },
   "outputs": [],
   "source": [
    "from pytriqs.gf import MeshBrillouinZone, MeshImFreq, Gf, MeshProduct, Idx\n",
    "from pytriqs.archive import HDFArchive\n",
    "\n",
    "with HDFArchive(\"tpsc.h5\",'r') as R:\n",
    "    g0 = R['g0_kw']"
   ]
  },
  {
   "cell_type": "markdown",
   "metadata": {},
   "source": [
    "## Compute the bubble\n",
    "\n",
    "Maybe ask to plot it vs Matsubara frequencies to see that at those temperatures it is essentially\n",
    "non-zero only very close to 0."
   ]
  },
  {
   "cell_type": "code",
   "execution_count": null,
   "metadata": {
    "collapsed": false
   },
   "outputs": [],
   "source": [
    "chi0_kw = bubble(g0)\n",
    "print chi0_kw"
   ]
  },
  {
   "cell_type": "markdown",
   "metadata": {},
   "source": [
    "## Save the bubble for later use"
   ]
  },
  {
   "cell_type": "code",
   "execution_count": null,
   "metadata": {
    "collapsed": true
   },
   "outputs": [],
   "source": [
    "from pytriqs.archive import HDFArchive\n",
    "with HDFArchive(\"tpsc.h5\") as R:\n",
    "    R['chi0_kw'] = chi0_kw"
   ]
  },
  {
   "cell_type": "markdown",
   "metadata": {},
   "source": [
    "## Plot the suscptibility"
   ]
  },
  {
   "cell_type": "code",
   "execution_count": null,
   "metadata": {
    "collapsed": false
   },
   "outputs": [],
   "source": [
    "%matplotlib inline\n",
    "from pytriqs.plot.mpl_interface import plt\n",
    "import numpy as np\n",
    "\n",
    "nk = g0.mesh[0].linear_dims[0]+1\n",
    "k = np.linspace(0, 2*np.pi, nk, endpoint=True)\n",
    "kx, ky = np.meshgrid(k, k)\n",
    "\n",
    "chi = lambda kx, ky: chi0_kw([kx,ky,0],0).real\n",
    "\n",
    "# 2d plot\n",
    "plt.figure(figsize=(3.25*2, 5))\n",
    "plt.title('Static Lindhardt susceptibility $\\chi_0(k, \\omega=0)$')\n",
    "plt.pcolor(kx, ky, np.vectorize(chi)(kx,ky))\n",
    "plt.xlim(0, 2*np.pi)\n",
    "plt.ylim(0, 2*np.pi)\n",
    "plt.xticks([0, np.pi, 2*np.pi],[r\"0\",r\"$\\pi$\",r\"$2\\pi$\"])    \n",
    "plt.yticks([0, np.pi, 2*np.pi],[r\"0\",r\"$\\pi$\",r\"$2\\pi$\"])\n",
    "plt.colorbar()\n",
    "plt.tight_layout()\n",
    "plt.xlabel(r'$k_x$')\n",
    "plt.ylabel(r'$k_y$')\n",
    "\n",
    "\n",
    "# Here is a 3d plot. With \"matplotlib inline\" one cannot interact\n",
    "from mpl_toolkits.mplot3d import axes3d, Axes3D\n",
    "fig = plt.figure()\n",
    "ax = Axes3D(fig)\n",
    "ax.plot_surface(kx, ky, np.vectorize(chi)(kx,ky), cmap=\"jet\")\n",
    "ax.set_xlabel(r\"$k_x$\")\n",
    "ax.set_ylabel(r\"$k_y$\")\n",
    "ax.set_zlabel(r\"$\\chi^{0}$\")"
   ]
  },
  {
   "cell_type": "markdown",
   "metadata": {},
   "source": [
    "## Plot along a given path in k (TODO)"
   ]
  },
  {
   "cell_type": "code",
   "execution_count": null,
   "metadata": {
    "collapsed": false
   },
   "outputs": [],
   "source": [
    "# CLEAN THIS TO MAKE IT MORE ELEGANT!\n",
    "\n",
    "kx = np.concatenate([np.linspace(0, np.pi, 100), np.ones(100) * np.pi, np.linspace(np.pi, 0, 100)])\n",
    "ky = np.concatenate([np.linspace(0, np.pi, 100), np.linspace(np.pi, 0, 100), np.zeros(100)])\n",
    "\n",
    "plt.figure(figsize=(6,4))\n",
    "plt.title('Static Lindhardt susceptibility $\\chi_0(k,\\omega=0)$')\n",
    "plt.plot(np.arange(300), np.vectorize(chi)(kx,ky))\n",
    "\n",
    "plt.grid();\n",
    "plt.axes().set_xticks([0,100,200,300])\n",
    "plt.axes().set_xticklabels([r'$\\Gamma$',r'$X$',r'$M$',r'$\\Gamma$']);\n",
    "plt.ylabel(r'$\\chi_0(k,\\omega=0)$')\n",
    "plt.tight_layout()\n",
    "#plt.savefig('figure_chi0_k_bandpath.pdf')"
   ]
  },
  {
   "cell_type": "code",
   "execution_count": null,
   "metadata": {
    "collapsed": true
   },
   "outputs": [],
   "source": []
  }
 ],
 "metadata": {
  "kernelspec": {
   "display_name": "Python 2",
   "language": "python",
   "name": "python2"
  },
  "language_info": {
   "codemirror_mode": {
    "name": "ipython",
    "version": 2
   },
   "file_extension": ".py",
   "mimetype": "text/x-python",
   "name": "python",
   "nbconvert_exporter": "python",
   "pygments_lexer": "ipython2",
   "version": "2.7.6"
  }
 },
 "nbformat": 4,
 "nbformat_minor": 2
}
