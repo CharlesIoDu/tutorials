{
 "cells": [
  {
   "cell_type": "markdown",
   "metadata": {},
   "source": [
    "# Lindhardt susceptibility $\\chi_0$ for a non interacting electron gas\n",
    "\n",
    "\n",
    "HERE WE RECALL WAHT LINDHARD FUNCTION IS\n",
    "\n",
    "\n",
    "\n",
    "The two-particle response of the non-interacting system is given by the Lindhardt susceptibility $\\chi_0$. Diagrammatically it is a bubble diagram of two single-particle Green's function, that is most efficiently evaluated in imaginary time.\n",
    "\n",
    "$$ \\chi_0(\\tau, r) \\equiv 2 g_0(\\tau, r) g_0(\\beta - \\tau, -r) $$\n",
    "\n",
    "after evaluating the imaginary time bubble we transform $\\chi_0$ back to momentum and frequency space, i.e.\n",
    "\n",
    "\n",
    "$$ \\chi_0(i\\omega_n, r) \\equiv \\mathcal{F}_{\\tau \\rightarrow i\\omega_n} \\big\\{ \\chi_0(\\tau, r) \\big\\}$$\n",
    "\n",
    "$$ \\chi_0(i\\omega_n, k) \\equiv \\mathcal{F}_{r \\rightarrow k} \\big\\{ \\chi_0(i\\omega_n, r) \\big\\}$$\n"
   ]
  },
  {
   "cell_type": "markdown",
   "metadata": {},
   "source": [
    "While it is possible to do this computation in pure Python, it is relatively slow, due to the double loop in $r$ and $\\tau$. \n",
    "\n",
    "Here we illustrate the C++ layer of the TRIQS library, using the TRIQS/cpp2py tool to wrap Python and C++\n",
    "in a simple case.\n",
    "\n",
    "The function bubble below computes the Lindhardt function from Eq (XX).\n",
    "The following cell compiles the function \"bubble\" in C++, exposes (\"wraps\") it to Python and loads it\n",
    "in the current scope.\n"
   ]
  },
  {
   "cell_type": "code",
   "execution_count": 1,
   "metadata": {},
   "outputs": [
    {
     "data": {
      "application/javascript": [
       "\n",
       "require(['notebook/js/codecell'], function(codecell) {\n",
       "  codecell.CodeCell.options_default.highlight_modes['text/x-c++src'] = {'reg':[/^%%cpp2py/]};\n",
       "  Jupyter.notebook.events.one('kernel_ready.Kernel', function(){\n",
       "      Jupyter.notebook.get_cells().map(function(cell){\n",
       "          if (cell.cell_type == 'code'){ cell.auto_highlight(); } }) ;\n",
       "  });\n",
       "});\n"
      ]
     },
     "metadata": {},
     "output_type": "display_data"
    }
   ],
   "source": [
    "%reload_ext cpp2py.magic"
   ]
  },
  {
   "cell_type": "markdown",
   "metadata": {},
   "source": [
    "May take a few seconds to compile ..."
   ]
  },
  {
   "cell_type": "code",
   "execution_count": 3,
   "metadata": {},
   "outputs": [],
   "source": [
    "%%cpp2py -C pytriqs\n",
    "#include <triqs/gfs.hpp> \n",
    "using namespace triqs::gfs;\n",
    "\n",
    "// The type of a Green function : (omega,k) -> Complex number\n",
    "using g_tau_k_type = gf_view<cartesian_product<imfreq, brillouin_zone>>;\n",
    "\n",
    "g_tau_k_type bubble(g_tau_k_type g) { \n",
    "\n",
    "    // Fourier Transformation of k, \\omega to obtain g(t,r)\n",
    "    auto gtr = make_gf_from_fourier<0,1>(g);\n",
    "    \n",
    "    // The mesh of gtr is a cartesian product mt x mr. We decompose it.\n",
    "    auto [mt, mr] = gtr.mesh();\n",
    "    \n",
    "    // The inverse temperature from the mesh\n",
    "    double beta = mt.domain().beta;\n",
    "    \n",
    "    // A new mesh for chi, with a bosonic statistics, but same size as mt.\n",
    "    auto mtb = gf_mesh<imtime>{beta, Boson, mt.size()};\n",
    "    \n",
    "    // Build chi (tau, r) with this new mesh.\n",
    "    auto chi0 = gf<cartesian_product<imtime, cyclic_lattice>>{{mtb, mr}};\n",
    "\n",
    "    // we fill chi : chi(tau, r) = g(beta - tau, -r) * g(tau, r)\n",
    "    for (auto const &r : mr)      \n",
    "        for (auto const &t : mtb) \n",
    "            chi0[t, r] = gtr(beta - t, -r) * gtr(t, r); \n",
    "\n",
    "    // Fourier transform back to k, \\omega space and return\n",
    "    return make_gf_from_fourier<0,1>(chi0);\n",
    "}"
   ]
  },
  {
   "cell_type": "markdown",
   "metadata": {},
   "source": [
    "# Static Lindhardt susceptibility $\\chi_0(\\omega=0, k)$\n",
    "\n",
    "The square lattice with only nearest-neighbour hopping $t$ has a property of \"perfect nesting\", meaning that large parts of the fermi surface are wrapped on-to each other by a single momentum transfer $k$. Go back to the fermi-surface polot of $\\epsilon_k$ and determine this peculiar momentum vector.\n",
    "\n",
    "The \"perfect nesting\" greatly enhances the particle-hole susceptibility of the system and the Static Lindhardt susceptibility $\\chi_0(\\omega=0, k)$ has a dominant peak at this momentum."
   ]
  },
  {
   "cell_type": "markdown",
   "metadata": {},
   "source": [
    "TODO : \n",
    "\n",
    "- Grab the Gf from HDF5 (to pass from a notebook to the next and keep the notebook simple !)\n",
    "\n",
    "- Call Lindhard to obtain chi(q, omega)\n",
    "\n",
    "- Plot chi(k, 0) with a slice\n",
    "  and other plots.\n",
    "  \n",
    "- We save the function in HDF5 for later reuse.  \n",
    "  \n",
    "- Physics discussion ?"
   ]
  },
  {
   "cell_type": "code",
   "execution_count": null,
   "metadata": {
    "collapsed": true
   },
   "outputs": [],
   "source": [
    "chi0_tr, chi0_wr, chi0_wk = get_chi0(g0_tr, n_w, kmesh, rmesh)"
   ]
  },
  {
   "cell_type": "code",
   "execution_count": null,
   "metadata": {
    "collapsed": true
   },
   "outputs": [],
   "source": [
    "from pytriqs.plot.mpl_interface import oplot, oplotr, oploti, plt\n",
    "\n",
    "chi0_w0k = chi0_wk[Idx(0), :][0, 0]\n",
    "data, k_vec, (kx, ky, kz) = extend_data_on_boundary(chi0_w0k.data, n_k)\n",
    "extent_k = np.array([kx.min(), kx.max(), ky.min(), ky.max()])\n",
    "\n",
    "plt.figure(figsize=(3.25*4, 5*2))\n",
    "plt.title('Static Lindhardt susceptibility $\\chi_0(\\omega=0, k)$')\n",
    "plt.imshow(data[:, :, 0].real, cmap=plt.get_cmap('terrain_r'), origin='lower', \n",
    "           vmin=0, extent=extent_k)\n",
    "plt.colorbar(); plt.tight_layout()\n",
    "plt.savefig('figure_chi0_w0k.pdf')\n",
    "plt.xlabel(r'$k_x/(2\\pi)$')\n",
    "plt.ylabel(r'$k_y/(2\\pi)$')"
   ]
  },
  {
   "cell_type": "code",
   "execution_count": null,
   "metadata": {
    "collapsed": true
   },
   "outputs": [],
   "source": [
    "from k_space_viz import get_rel_k_interpolator\n",
    "\n",
    "interp = get_rel_k_interpolator(\n",
    "    chi0_wk[Idx(0), :][0, 0].data, kmesh, H_0.bz, n_k,\n",
    "    extend_boundary=True, interpolator='linear2D')\n",
    "chi0_plot = interp(k_path_vecs[:, :2])\n",
    "\n",
    "from pytriqs.plot.mpl_interface import plt\n",
    "\n",
    "plt.figure(figsize=(3.25*3, 8))\n",
    "plt.title('Static Lindhardt susceptibility $\\chi_0(\\omega=0, k)$')\n",
    "plt.plot(k_plot, chi0_plot.real)\n",
    "\n",
    "plt.grid(); plt.axes().set_xticks(K_plot)\n",
    "plt.xlim([K_plot.min(), K_plot.max()])\n",
    "plt.axes().set_xticklabels([r'$\\Gamma$',r'$X$',r'$M$',r'$\\Gamma$'])\n",
    "plt.ylabel(r'$\\epsilon_k$'); plt.tight_layout()\n",
    "plt.savefig('figure_chi0_k_bandpath.pdf')"
   ]
  }
 ],
 "metadata": {
  "kernelspec": {
   "display_name": "Python 2",
   "language": "python",
   "name": "python2"
  },
  "language_info": {
   "codemirror_mode": {
    "name": "ipython",
    "version": 2
   },
   "file_extension": ".py",
   "mimetype": "text/x-python",
   "name": "python",
   "nbconvert_exporter": "python",
   "pygments_lexer": "ipython2",
   "version": "2.7.14"
  }
 },
 "nbformat": 4,
 "nbformat_minor": 2
}
